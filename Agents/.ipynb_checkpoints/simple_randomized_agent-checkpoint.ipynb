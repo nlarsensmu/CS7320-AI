{
 "cells": [
  {
   "cell_type": "markdown",
   "metadata": {},
   "source": [
    "# Intelligent Agents: Vacuum-cleaner World\n",
    "\n",
    "\n",
    "## Instructions\n",
    "\n",
    "Total Points: 10\n",
    "\n",
    "Complete this notebook and submit it. The notebook needs to be a complete project report with \n",
    "\n",
    "* your implementation,\n",
    "* documentation including a short discussion of how your implementation works and your design choices, and\n",
    "* experimental results (e.g., tables and charts with simulation results) with a short discussion of what they mean. \n",
    "\n",
    "Use the provided notebook cells and insert additional code and markdown cells as needed.\n",
    "\n",
    "## Introduction\n",
    "\n",
    "In this assignment you will implement a simulator environment for an automatic vacuum cleaner robot, a set of different agent programs, and perform a comparison study for cleaning a single room. Focus on the __cleaning phase__ which starts when the robot is activated and ends when the last dirty square is cleaned. Someone else will take care of the agent program needed to navigate back to the charging station after the room is clean.\n",
    "\n",
    "## PEAS description of the cleaning phase\n",
    "\n",
    "__Performance Measure:__ Each action costs 1 energy unit. The performance is measured as the sum of the energy units used to clean the whole room.\n",
    "\n",
    "__Environment:__ A room with $n \\times n$ squares where $n = 5$. Dirt is randomly placed on each square with probability $p = 0.2$. For simplicity, you can assume that the agent knows the size and the layout of the room (i.e., it knows $n$). To starte, the agent is placed on a random square.\n",
    "\n",
    "__Actuators:__ The agent can `clean` the current square or move to an adjacent square by going `north`, `east`, `south`, or `west`.\n",
    "\n",
    "__Sensors:__ Four bumper sensors, one for north, east, south, and west; a dirt sensor reporting dirt in the current square.  \n",
    "\n",
    "\n",
    "## The agent program for a simple randomized agent\n",
    "\n",
    "The agent program is a function that gets sensor information (the current percepts) as the arguments. The arguments are:\n",
    "\n",
    "* A dictionary with boolean entries for the for bumper sensors `north`, `east`, `west`, `south`. E.g., if the agent is on the north-west corner, `bumpers` will be `{\"north\" : True, \"east\" : False, \"south\" : False, \"west\" : True}`.\n",
    "* The dirt sensor produces a boolean.\n",
    "\n",
    "The agent returns the chosen action as a string.\n",
    "\n",
    "Here is an example implementation for the agent program of a simple randomized agent:  "
   ]
  },
  {
   "cell_type": "code",
   "execution_count": 2,
   "metadata": {},
   "outputs": [],
   "source": [
    "from numpy import random\n",
    "\n",
    "\n",
    "def simple_randomized_agent(bumpers, dirty):\n",
    "    actions = ['north', 'east', 'south', 'west', 'suck']\n",
    "    return random.choice(actions)"
   ]
  },
  {
   "cell_type": "code",
   "execution_count": 3,
   "metadata": {},
   "outputs": [
    {
     "data": {
      "text/plain": [
       "'suck'"
      ]
     },
     "execution_count": 3,
     "metadata": {},
     "output_type": "execute_result"
    }
   ],
   "source": [
    "simple_randomized_agent({\"north\" : True, \"east\" : False, \"south\" : False, \"west\" : True}, True)"
   ]
  },
  {
   "cell_type": "markdown",
   "metadata": {},
   "source": [
    "__Note:__ This is not a rational intelligent agent. It ignores its sensors and may bump into a wall or not clean a dirty square. You will be asked to implement rational agents below."
   ]
  },
  {
   "cell_type": "markdown",
   "metadata": {},
   "source": [
    "## Simple environment example\n",
    "\n",
    "This simple environment is infinite in size (bumpers are always `False`) and every square is always dirty, even if the agent cleans it. The environment function returns the performance measure which is here the number of cleaned squares (since all squares are constantly dirty, it is the number of `suck` actions by the agent). "
   ]
  },
  {
   "cell_type": "code",
   "execution_count": 44,
   "metadata": {},
   "outputs": [],
   "source": [
    "def simple_environment(agent, max_steps, verbose = True):\n",
    "    num_cleaned = 0\n",
    "    \n",
    "    for i in range(max_steps):\n",
    "        dirty = True\n",
    "        bumpers = {\"north\" : False, \"south\" : False, \"west\" : False, \"east\" : False}\n",
    "\n",
    "        action = agent(bumpers, dirty)\n",
    "        if (verbose): print(\"step\", i , \"- action:\", action) \n",
    "        \n",
    "        if (action == \"suck\"): \n",
    "            num_cleaned = num_cleaned + 1\n",
    "        \n",
    "    return num_cleaned\n",
    "        \n"
   ]
  },
  {
   "cell_type": "markdown",
   "metadata": {},
   "source": [
    "Do one simulation run with 20 steps."
   ]
  },
  {
   "cell_type": "code",
   "execution_count": 5,
   "metadata": {},
   "outputs": [
    {
     "name": "stdout",
     "output_type": "stream",
     "text": [
      "step 0 - action: east\n",
      "step 1 - action: south\n",
      "step 2 - action: south\n",
      "step 3 - action: east\n",
      "step 4 - action: suck\n",
      "step 5 - action: north\n",
      "step 6 - action: south\n",
      "step 7 - action: west\n",
      "step 8 - action: west\n",
      "step 9 - action: suck\n",
      "step 10 - action: south\n",
      "step 11 - action: suck\n",
      "step 12 - action: north\n",
      "step 13 - action: suck\n",
      "step 14 - action: west\n",
      "step 15 - action: south\n",
      "step 16 - action: south\n",
      "step 17 - action: suck\n",
      "step 18 - action: south\n",
      "step 19 - action: east\n"
     ]
    },
    {
     "data": {
      "text/plain": [
       "5"
      ]
     },
     "execution_count": 5,
     "metadata": {},
     "output_type": "execute_result"
    }
   ],
   "source": [
    "simple_environment(simple_randomized_agent, max_steps = 20)"
   ]
  },
  {
   "cell_type": "markdown",
   "metadata": {},
   "source": [
    "# Tasks\n",
    "\n",
    "_Submission Instructions:_ Use this notebook to prepare your submission. Complete this section with your code and results. You can add additional Markdown blocks for your description, comments in the code and use mathplotlib to produce charts. \n",
    "\n",
    "_Note:_ Try to keep the code simple! In this course, we want to learn about the algorithms and we often do not need to use object-oriented design. \n",
    "\n",
    "\n",
    "## Task 1: Implement a simulation environment [2 Points]\n",
    "\n",
    "The simple environment above is not very realistic. Your environment simulator needs to follow the PEAS description from above. It needs to:\n",
    "\n",
    "* Initialize the environment by storing the state of each square (clean/dirty) and making some dirty.\n",
    "* Keep track of the agent's position.\n",
    "* Call the agent function repeatedly and provide the agent function with the sensor inputs.  \n",
    "* React to the agent's actions. E.g, by removing dirt from a square or moving the agent around unless there is a wall in the way.\n",
    "* Keep track of the performance measure. That is, track the agent's actions until all dirty squares are clean and count the number of actions it takes the agent to complete the task.\n",
    "\n",
    "The easiest implementation for the environment is to hold an 2-dimensional array to represent if squares are clean or dirty and to call the agent function in a loop until all squares are clean or a predefined number of steps have been reached (i.e., the robot runs out of energy).\n",
    "\n",
    "The simulation environment needs to work with the simple randomized agent program from above and then it can be used for your agent implementation in the tasks below."
   ]
  },
  {
   "cell_type": "code",
   "execution_count": 218,
   "metadata": {},
   "outputs": [],
   "source": [
    "# import random\n",
    "# Your code and description goes here\n",
    "\n",
    "# n - size of the grid\n",
    "# chance_of_dirt inverse of the chance a square has dirt\n",
    "def get_random_n_room(num_rows, num_cols, chance_of_dirt):\n",
    "    room = []\n",
    "    number_of_dirties = 0\n",
    "    for row_num in range(0, num_rows):\n",
    "        row = []\n",
    "        for col_num in range(0, num_cols):\n",
    "             # true represents dirt\n",
    "            if random.randint(1, chance_of_dirt) == 1:\n",
    "                row.append(True)\n",
    "                number_of_dirties+=1\n",
    "            else:\n",
    "                row.append(False)\n",
    "        room.append(row)\n",
    "    return (room, number_of_dirties)\n",
    "\n",
    "def is_room_clean(room):\n",
    "    for row in range(0, len(room)):\n",
    "        for col in range(0, len(room[row])):\n",
    "            if room[row][col]:\n",
    "                return False\n",
    "    return True\n",
    "\n",
    "    \n",
    "def vacuum_environment(agent, max_steps, verbose = True, num_rows = 5, num_cols = 5, initial_position = (-1,-1)):\n",
    "    room_and_num = get_random_n_room(num_rows, num_cols, 5)\n",
    "    room = room_and_num[0]\n",
    "    num_dirties = room_and_num[1]\n",
    "    if initial_position[0] == -1:\n",
    "        agent_row = random.randint(0, num_rows - 1)\n",
    "    else:\n",
    "        agent_row = initial_position[0]\n",
    "    if initial_position[1] == -1:\n",
    "        agent_col = random.randint(0, num_cols - 1)\n",
    "    else:\n",
    "        agent_col = initial_position[1]\n",
    "    if verbose and False:\n",
    "        print('Agents starting Position: (', agent_row, ' ', agent_col, ')')\n",
    "        print('Room:')\n",
    "        for i in range(0, len(room)):\n",
    "            print(room[i])\n",
    "    \n",
    "            \n",
    "    steps = 0\n",
    "    for i in range(0, max_steps):\n",
    "        bumpers = {\"north\": True, \"south\": True, \"east\": True, \"west\": True}\n",
    "        bumpers['north'] = agent_row == 0\n",
    "        bumpers['south'] = agent_row == num_cols-1\n",
    "        bumpers['west'] = agent_col == 0\n",
    "        bumpers['east'] = agent_col == num_cols-1\n",
    "        \n",
    "        action = agent(bumpers, room[agent_row][agent_col])\n",
    "        steps += 1\n",
    "        \n",
    "        if action == 'suck' and room[agent_row][agent_col]:\n",
    "            num_dirties-=1\n",
    "            room[agent_row][agent_col] = False\n",
    "        elif action == 'north':\n",
    "            if agent_row > 0:\n",
    "                agent_row -= 1\n",
    "        elif action == 'south':\n",
    "            if agent_row < num_rows-1:\n",
    "                agent_row += 1\n",
    "        elif action == 'west':\n",
    "            if agent_col > 0:\n",
    "                agent_col -= 1\n",
    "        elif action == 'east':\n",
    "            if agent_col < num_cols-1:\n",
    "                agent_col += 1\n",
    "        \n",
    "        if verbose:\n",
    "            print('step ', steps, ' - ', 'action: ', action, 'current pos: (', agent_row, ', ', agent_col, ')')\n",
    "        \n",
    "        if num_dirties == 0:\n",
    "            if(verbose):\n",
    "                print('Room is clean. To took ', steps, ' steps.')\n",
    "                print('Room:')\n",
    "                for i in range(0, len(room)):\n",
    "                    print(room[i])\n",
    "            return steps\n",
    "    \n",
    "    if(verbose): \n",
    "        print('Room is not clean. To took ', steps, ' steps.')\n",
    "        if verbose:\n",
    "            print('Room:')\n",
    "            for i in range(0, len(room)):\n",
    "                print(room[i])\n",
    "    return steps\n",
    "        \n"
   ]
  },
  {
   "cell_type": "code",
   "execution_count": 234,
   "metadata": {},
   "outputs": [
    {
     "name": "stdout",
     "output_type": "stream",
     "text": [
      "[False, False, False, True, False]\n",
      "[False, True, False, False, True]\n",
      "[False, False, False, False, True]\n",
      "[False, False, False, False, False]\n",
      "[False, False, False, False, False]\n",
      "4\n",
      "191\n"
     ]
    }
   ],
   "source": [
    "room_and = get_random_n_room(num_rows=5, num_cols=5, chance_of_dirt=5)\n",
    "for row in room_and[0]:\n",
    "    print(row)\n",
    "print(room_and[1])\n",
    "\n",
    "print(vacuum_environment(simple_randomized_agent, 2000, verbose = False))"
   ]
  },
  {
   "cell_type": "markdown",
   "metadata": {},
   "source": [
    "## Task 2:  Implement a simple reflex agent [1 Point] \n",
    "\n",
    "The simple reflex agent randomly walks around but reacts to the bumper sensor by not bumping into the wall and to dirt with sucking."
   ]
  },
  {
   "cell_type": "markdown",
   "metadata": {},
   "source": [
    "This agent will only suck when there is dirt in its square and it will only not run into the walls"
   ]
  },
  {
   "cell_type": "code",
   "execution_count": 235,
   "metadata": {},
   "outputs": [],
   "source": [
    "# Your code and description goes here\n",
    "\n",
    "# bumpers - list of booleans that indicate if a bumper is touching a wall\n",
    "# dirty - boolean is whether or not the dirt sensor finds there is dirt in the current square\n",
    "def simple_reflex_agent(bumpers, dirty):\n",
    "    actions = []\n",
    "    \n",
    "    if dirty:\n",
    "        actions.append('suck')\n",
    "    if not bumpers['north']:\n",
    "        actions.append('north')\n",
    "    if not bumpers['south']:\n",
    "        actions.append('south')\n",
    "    if not bumpers['west']:\n",
    "        actions.append('west')\n",
    "    if not bumpers['east']:\n",
    "        actions.append('east')\n",
    "        \n",
    "    return random.choice(actions)\n",
    "    \n",
    "    "
   ]
  },
  {
   "cell_type": "code",
   "execution_count": 236,
   "metadata": {},
   "outputs": [
    {
     "data": {
      "text/plain": [
       "69"
      ]
     },
     "execution_count": 236,
     "metadata": {},
     "output_type": "execute_result"
    }
   ],
   "source": [
    "vacuum_environment(simple_reflex_agent, 2000, verbose = False)"
   ]
  },
  {
   "cell_type": "markdown",
   "metadata": {},
   "source": [
    "## Task 3: Implement a model-based reflex agent [3 Point]\n",
    "\n",
    "This agent keeps track of the location and remembers where it has cleaned. Assume the agent knows how many squares the room has. It can move to a corner to determin its location and then is able to use more advanced navigation.\n",
    "\n",
    "_Note on implementing the state:_ You can use a global variable. In Python, you have to use the keyword `global` in your function for this to work (see: https://www.programiz.com/python-programming/global-keyword). Alternatively, you can define a class for your agent with a member variable for the state and a function for the agent program (see: https://www.w3schools.com/python/python_classes.asp). \n",
    "\n",
    "Describe how you define the __agent state__ and how your agent works before implementing it."
   ]
  },
  {
   "cell_type": "markdown",
   "metadata": {},
   "source": [
    "### Short Description \n",
    "* The agent will randomly will act in 4 phases\n",
    "* 0: pick a direction \n",
    "* 1: Clean ever square and move that direction until a wall is hit. Once at a wall move in a perpindicular direction (keeping the same direction throughout this phase. Until we get to a corner\n",
    "* 2: Walk up to the row or col we hit the first wall\n",
    "* 3: continue a similar patter above until the room is finished"
   ]
  },
  {
   "cell_type": "code",
   "execution_count": 144,
   "metadata": {},
   "outputs": [],
   "source": [
    "# Your code goes here\n",
    "class Agent:\n",
    "    def __init__(self, initial_position = (0,0), name = \"An Agent\"):\n",
    "        self.position = initial_position\n",
    "        self.name = name\n",
    "        self.phase = 0\n",
    "        self.dir = 'east'\n",
    "        self.rows_in_phase_0 = 0\n",
    "        self.num_cols = 1\n",
    "        self.starting_row = None\n",
    "        self.steps = 0\n",
    "    \n",
    "    def act(self, bumpers, dirty):\n",
    "        self.steps += 1\n",
    "        if dirty:\n",
    "            return 'suck'\n",
    "        elif self.phase == 0:\n",
    "            if bumpers['south']: # count now long the wall is\n",
    "                self.num_cols += 1\n",
    "                \n",
    "            if bumpers[self.dir] and bumpers['south'] and self.rows_in_phase_0 == 0:\n",
    "                # this means we started on the bottom rows\n",
    "                self.rows_in_phase_0 = 1\n",
    "                if self.dir == 'west':\n",
    "                    self.dir = 'east'\n",
    "                else:\n",
    "                    self.dir = 'west'\n",
    "                \n",
    "            if bumpers[self.dir] and bumpers['south'] and self.rows_in_phase_0 != 0: # in the corner\n",
    "                self.dir = 'north'\n",
    "                self.phase += 1\n",
    "                return self.dir\n",
    "            if bumpers[self.dir]: # we hit a wall\n",
    "                self.rows_in_phase_0 += 1\n",
    "                if self.dir == 'west':\n",
    "                    self.dir = 'east'\n",
    "                else:\n",
    "                    self.dir = 'west'\n",
    "                return 'south'\n",
    "            else:\n",
    "                return self.dir\n",
    "        elif self.phase == 1:\n",
    "            if self.rows_in_phase_0 > 1:\n",
    "                self.rows_in_phase_0 -= 1\n",
    "                return 'north'\n",
    "            else: #reached starting row\n",
    "                self.last_row_done = False\n",
    "                self.phase += 1\n",
    "                if bumpers['east']:\n",
    "                    self.dir = 'west'\n",
    "                    return 'west'\n",
    "                else:\n",
    "                    self.dir = 'east'\n",
    "                    return 'east'\n",
    "        elif self.phase == 2:\n",
    "            if bumpers['north']:\n",
    "                self.last_row_done = True\n",
    "                \n",
    "            if bumpers[self.dir] and not self.last_row_done:\n",
    "                    \n",
    "                if bumpers['east']:\n",
    "                    self.dir = 'west'\n",
    "                else:\n",
    "                    self.dir = 'east'\n",
    "                return 'north'\n",
    "            if bumpers[self.dir] and self.last_row_done:\n",
    "                return 'done'\n",
    "            return self.dir\n",
    "        else:\n",
    "            print('all else failed ', self.dir)\n",
    "            "
   ]
  },
  {
   "cell_type": "code",
   "execution_count": 192,
   "metadata": {},
   "outputs": [
    {
     "name": "stdout",
     "output_type": "stream",
     "text": [
      "593\n",
      "511\n",
      "27\n"
     ]
    }
   ],
   "source": [
    "agent = Agent()\n",
    "print(vacuum_environment(simple_randomized_agent, 50000, num_rows=5, num_cols=5, verbose=False))\n",
    "print(vacuum_environment(simple_reflex_agent, 50000, num_rows=5, num_cols=5, verbose=False))\n",
    "print(vacuum_environment(agent.act, 50000, num_rows=5, num_cols=5, verbose=False))"
   ]
  },
  {
   "cell_type": "markdown",
   "metadata": {},
   "source": [
    "## Task 4: Simulation study [3 Points]\n",
    "\n",
    "Compare the performance of the agents using different size environments. E.g., $5 \\times 5$, $10 \\times 10$ and\n",
    "$100 \\times 100$. Use at least 100 random runs for each. Present the results in a suitable format (tables, graphs) and discuss the differences."
   ]
  },
  {
   "cell_type": "code",
   "execution_count": 276,
   "metadata": {},
   "outputs": [],
   "source": [
    "\n",
    "# Your code goes here\n",
    "import pandas as pd\n",
    "import matplotlib.pyplot as plt\n",
    "import seaborn as sns\n",
    "import numpy as np\n",
    "\n",
    "def simulate_cleaning_room(runs, rows_cols):\n",
    "    performance = []\n",
    "    \n",
    "    for num_rows, num_cols in rows_cols:\n",
    "        for i in range(runs):\n",
    "            run = []\n",
    "            row_col = f'{num_rows}-{num_cols}'\n",
    "            max_steps = num_rows*num_cols*100\n",
    "            steps = vacuum_environment(simple_randomized_agent,\n",
    "                                       max_steps,\n",
    "                                       verbose = False,\n",
    "                                       num_rows=num_rows,\n",
    "                                       num_cols = num_cols)\n",
    "            run.append(row_col)\n",
    "            run.append(steps)\n",
    "            run.append('simple_randomized_agent')\n",
    "            performance.append(run)\n",
    "            \n",
    "            steps = vacuum_environment(simple_reflex_agent,\n",
    "                                       max_steps,\n",
    "                                       verbose = False,\n",
    "                                       num_rows=num_rows,\n",
    "                                       num_cols = num_cols)\n",
    "            run = []\n",
    "            run.append(row_col)\n",
    "            run.append(steps)\n",
    "            run.append('simple_reflex_agent')\n",
    "            performance.append(run)\n",
    "            \n",
    "            agent = Agent()\n",
    "            steps = vacuum_environment(agent.act,\n",
    "                                       max_steps,\n",
    "                                       verbose = False,\n",
    "                                       num_rows=num_rows,\n",
    "                                       num_cols = num_cols)\n",
    "            run = []\n",
    "            run.append(row_col)\n",
    "            run.append(steps)\n",
    "            run.append('model_agent')\n",
    "            performance.append(run)\n",
    "            \n",
    "    df = pd.DataFrame(performance, columns = ['rows_cols', 'steps', 'agent']) \n",
    "    return df"
   ]
  },
  {
   "cell_type": "code",
   "execution_count": 305,
   "metadata": {},
   "outputs": [
    {
     "data": {
      "text/html": [
       "<div>\n",
       "<style scoped>\n",
       "    .dataframe tbody tr th:only-of-type {\n",
       "        vertical-align: middle;\n",
       "    }\n",
       "\n",
       "    .dataframe tbody tr th {\n",
       "        vertical-align: top;\n",
       "    }\n",
       "\n",
       "    .dataframe thead th {\n",
       "        text-align: right;\n",
       "    }\n",
       "</style>\n",
       "<table border=\"1\" class=\"dataframe\">\n",
       "  <thead>\n",
       "    <tr style=\"text-align: right;\">\n",
       "      <th></th>\n",
       "      <th>rows_cols</th>\n",
       "      <th>steps</th>\n",
       "      <th>agent</th>\n",
       "    </tr>\n",
       "  </thead>\n",
       "  <tbody>\n",
       "    <tr>\n",
       "      <th>0</th>\n",
       "      <td>5-5</td>\n",
       "      <td>330</td>\n",
       "      <td>simple_randomized_agent</td>\n",
       "    </tr>\n",
       "    <tr>\n",
       "      <th>1</th>\n",
       "      <td>5-5</td>\n",
       "      <td>310</td>\n",
       "      <td>simple_reflex_agent</td>\n",
       "    </tr>\n",
       "    <tr>\n",
       "      <th>2</th>\n",
       "      <td>5-5</td>\n",
       "      <td>36</td>\n",
       "      <td>model_agent</td>\n",
       "    </tr>\n",
       "    <tr>\n",
       "      <th>3</th>\n",
       "      <td>5-5</td>\n",
       "      <td>380</td>\n",
       "      <td>simple_randomized_agent</td>\n",
       "    </tr>\n",
       "    <tr>\n",
       "      <th>4</th>\n",
       "      <td>5-5</td>\n",
       "      <td>339</td>\n",
       "      <td>simple_reflex_agent</td>\n",
       "    </tr>\n",
       "  </tbody>\n",
       "</table>\n",
       "</div>"
      ],
      "text/plain": [
       "  rows_cols  steps                    agent\n",
       "0       5-5    330  simple_randomized_agent\n",
       "1       5-5    310      simple_reflex_agent\n",
       "2       5-5     36              model_agent\n",
       "3       5-5    380  simple_randomized_agent\n",
       "4       5-5    339      simple_reflex_agent"
      ]
     },
     "execution_count": 305,
     "metadata": {},
     "output_type": "execute_result"
    }
   ],
   "source": [
    "\n",
    "df = simulate_cleaning_room(100, [(5,5), (10,10), (100,100)])\n",
    "df.head()"
   ]
  },
  {
   "cell_type": "code",
   "execution_count": 307,
   "metadata": {},
   "outputs": [
    {
     "data": {
      "text/html": [
       "<div>\n",
       "<style scoped>\n",
       "    .dataframe tbody tr th:only-of-type {\n",
       "        vertical-align: middle;\n",
       "    }\n",
       "\n",
       "    .dataframe tbody tr th {\n",
       "        vertical-align: top;\n",
       "    }\n",
       "\n",
       "    .dataframe thead th {\n",
       "        text-align: right;\n",
       "    }\n",
       "</style>\n",
       "<table border=\"1\" class=\"dataframe\">\n",
       "  <thead>\n",
       "    <tr style=\"text-align: right;\">\n",
       "      <th></th>\n",
       "      <th></th>\n",
       "      <th>steps</th>\n",
       "    </tr>\n",
       "    <tr>\n",
       "      <th>rows_cols</th>\n",
       "      <th>agent</th>\n",
       "      <th></th>\n",
       "    </tr>\n",
       "  </thead>\n",
       "  <tbody>\n",
       "    <tr>\n",
       "      <th rowspan=\"3\" valign=\"top\">10-10</th>\n",
       "      <th>model_agent</th>\n",
       "      <td>140</td>\n",
       "    </tr>\n",
       "    <tr>\n",
       "      <th>simple_randomized_agent</th>\n",
       "      <td>7117</td>\n",
       "    </tr>\n",
       "    <tr>\n",
       "      <th>simple_reflex_agent</th>\n",
       "      <td>4371</td>\n",
       "    </tr>\n",
       "    <tr>\n",
       "      <th rowspan=\"3\" valign=\"top\">100-100</th>\n",
       "      <th>model_agent</th>\n",
       "      <td>12236</td>\n",
       "    </tr>\n",
       "    <tr>\n",
       "      <th>simple_randomized_agent</th>\n",
       "      <td>1000000</td>\n",
       "    </tr>\n",
       "    <tr>\n",
       "      <th>simple_reflex_agent</th>\n",
       "      <td>1000000</td>\n",
       "    </tr>\n",
       "    <tr>\n",
       "      <th rowspan=\"3\" valign=\"top\">5-5</th>\n",
       "      <th>model_agent</th>\n",
       "      <td>37</td>\n",
       "    </tr>\n",
       "    <tr>\n",
       "      <th>simple_randomized_agent</th>\n",
       "      <td>1377</td>\n",
       "    </tr>\n",
       "    <tr>\n",
       "      <th>simple_reflex_agent</th>\n",
       "      <td>764</td>\n",
       "    </tr>\n",
       "  </tbody>\n",
       "</table>\n",
       "</div>"
      ],
      "text/plain": [
       "                                     steps\n",
       "rows_cols agent                           \n",
       "10-10     model_agent                  140\n",
       "          simple_randomized_agent     7117\n",
       "          simple_reflex_agent         4371\n",
       "100-100   model_agent                12236\n",
       "          simple_randomized_agent  1000000\n",
       "          simple_reflex_agent      1000000\n",
       "5-5       model_agent                   37\n",
       "          simple_randomized_agent     1377\n",
       "          simple_reflex_agent          764"
      ]
     },
     "execution_count": 307,
     "metadata": {},
     "output_type": "execute_result"
    }
   ],
   "source": [
    "df.groupby(['rows_cols', 'agent']).max()"
   ]
  },
  {
   "cell_type": "code",
   "execution_count": 302,
   "metadata": {},
   "outputs": [
    {
     "data": {
      "image/png": "[encoded data removed]",
      "text/plain": [
       "<Figure size 432x288 with 1 Axes>"
      ]
     },
     "metadata": {
      "needs_background": "light"
     },
     "output_type": "display_data"
    }
   ],
   "source": [
    "df_grouped = df[(df.rows_cols == '5-5') |( df.rows_cols == '10-10')].groupby(['rows_cols', 'agent']).mean()\n",
    "df_grouped \n",
    "ax = sns.barplot(x=\"agent\", y=\"steps\", hue=\"rows_cols\", data=df[(df.rows_cols == '5-5') |( df.rows_cols == '10-10')])"
   ]
  },
  {
   "cell_type": "code",
   "execution_count": 262,
   "metadata": {},
   "outputs": [
    {
     "data": {
      "text/plain": [
       "Index(['simple_random', 'reflex', 'model'], dtype='object')"
      ]
     },
     "execution_count": 262,
     "metadata": {},
     "output_type": "execute_result"
    }
   ],
   "source": [
    "df.keys()"
   ]
  },
  {
   "cell_type": "markdown",
   "metadata": {},
   "source": [
    "#### Your discussion of the results goes here"
   ]
  },
  {
   "cell_type": "markdown",
   "metadata": {},
   "source": [
    "## Task 5: Robustness of the agent implementations [1 Point] \n",
    "\n",
    "Describe how your agent implementations will perform \n",
    "\n",
    "* if it is put into a rectangular room with unknown size, \n",
    "* if the cleaning area can have an iregular shape (e.g., a hallway connecting two rooms), or \n",
    "* if the room contains obstacles (i.e., squares that it cannot pass through and trigger the bumper sensors)."
   ]
  },
  {
   "cell_type": "markdown",
   "metadata": {},
   "source": [
    "### Discussion\n",
    "### If it is put into a rectangular room with unkonwn size\n",
    "#### Simple Random\n",
    "The Random agent will perform similarly to as it did in \n",
    "#### Simple Reflex Random\n",
    "#### Model-based Reflex\n",
    "The agent does not consider the size of the room in its cleaning. It will move east until it gets to the first wall, then it will clean each row until it gets to the bottom. Once it is in the corner it will clean the row it started on incase it did not start at the beginning of that row. Then it will clean each row moving up until it gets to the top corner. The worst case performance is if it starts in the west north most corner. Then the agent will clean that row, and move down cleaning each row and eventually walk the top row again. That means the agent will walk over at worst one row and one column twice. That means the different between a rectangle and a square will be the worst case of the rectangle will be the length + the width, which is only slightly different than the square case\n",
    "### If the cleaning area can have an irregular shape:\n",
    "#### Simple Random and Simple Reflex Random\n",
    "These two random agents might have a tough time getting to other rooms if it was down a hallway or through a narrow door. This would cause it to spend all its time in one of the rooms and failing to get to another room to clean it before running out of battery. A slight improvement on this agent might be to understand what the rooms are and spend an equal amount of time in each room. But if that was the plan it is probably better to just build an agent that maps out a plan to clean each room.\n",
    "#### Model-based Relfex\n",
    "If there was an irregular shape the agent would have to be modeled differently. The current model relies on the room to be a square "
   ]
  },
  {
   "cell_type": "markdown",
   "metadata": {},
   "source": [
    "## Bonus tasks [+1 Point]\n",
    "\n",
    "Change your simulation environment tor run experiments for the following problems:\n",
    "\n",
    "* __Obstacles:__ Add random obstacle squares that also trigger the bumper sensor. The agent does not know where the obstacles are. Observe how this changes the performance of the three implementations.\n",
    "* __Unknown environment with obstacles:__ Implement an agent for an environment where the agent does not know how large the environment is (we assume it is rectangular), where it starts or where the obstacles are. An option would be to always move to the closest unchecked/uncleaned square.\n",
    "* __Utility-based agent:__ Change the environment, so each square has a fixed probability of getting dirty again. We assume the agent has learned this information over time. For the implementation, we give this information to the agent as a 2-dimensional array of probabilities  Cleaning one dirty square produces a utility of 1. Implement a utility-based agent that maximizes the expected utility over one full charge which lasts for 10000 time steps. This is very tricky!"
   ]
  },
  {
   "cell_type": "code",
   "execution_count": 9,
   "metadata": {},
   "outputs": [],
   "source": [
    "# Your code and discussion goes here"
   ]
  }
 ],
 "metadata": {
  "kernelspec": {
   "display_name": "Python 3",
   "language": "python",
   "name": "python3"
  },
  "language_info": {
   "codemirror_mode": {
    "name": "ipython",
    "version": 3
   },
   "file_extension": ".py",
   "mimetype": "text/x-python",
   "name": "python",
   "nbconvert_exporter": "python",
   "pygments_lexer": "ipython3",
   "version": "3.8.6"
  }
 },
 "nbformat": 4,
 "nbformat_minor": 4
}
