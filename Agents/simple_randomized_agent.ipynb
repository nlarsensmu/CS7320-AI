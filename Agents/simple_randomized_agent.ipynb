{
 "cells": [
  {
   "cell_type": "markdown",
   "metadata": {},
   "source": [
    "# Intelligent Agents: Vacuum-cleaner World\n",
    "\n",
    "\n",
    "## Instructions\n",
    "\n",
    "Total Points: 10\n",
    "\n",
    "Complete this notebook and submit it. The notebook needs to be a complete project report with \n",
    "\n",
    "* your implementation,\n",
    "* documentation including a short discussion of how your implementation works and your design choices, and\n",
    "* experimental results (e.g., tables and charts with simulation results) with a short discussion of what they mean. \n",
    "\n",
    "Use the provided notebook cells and insert additional code and markdown cells as needed.\n",
    "\n",
    "## Introduction\n",
    "\n",
    "In this assignment you will implement a simulator environment for an automatic vacuum cleaner robot, a set of different agent programs, and perform a comparison study for cleaning a single room. Focus on the __cleaning phase__ which starts when the robot is activated and ends when the last dirty square is cleaned. Someone else will take care of the agent program needed to navigate back to the charging station after the room is clean.\n",
    "\n",
    "## PEAS description of the cleaning phase\n",
    "\n",
    "__Performance Measure:__ Each action costs 1 energy unit. The performance is measured as the sum of the energy units used to clean the whole room.\n",
    "\n",
    "__Environment:__ A room with $n \\times n$ squares where $n = 5$. Dirt is randomly placed on each square with probability $p = 0.2$. For simplicity, you can assume that the agent knows the size and the layout of the room (i.e., it knows $n$). To starte, the agent is placed on a random square.\n",
    "\n",
    "__Actuators:__ The agent can `clean` the current square or move to an adjacent square by going `north`, `east`, `south`, or `west`.\n",
    "\n",
    "__Sensors:__ Four bumper sensors, one for north, east, south, and west; a dirt sensor reporting dirt in the current square.  \n",
    "\n",
    "\n",
    "## The agent program for a simple randomized agent\n",
    "\n",
    "The agent program is a function that gets sensor information (the current percepts) as the arguments. The arguments are:\n",
    "\n",
    "* A dictionary with boolean entries for the for bumper sensors `north`, `east`, `west`, `south`. E.g., if the agent is on the north-west corner, `bumpers` will be `{\"north\" : True, \"east\" : False, \"south\" : False, \"west\" : True}`.\n",
    "* The dirt sensor produces a boolean.\n",
    "\n",
    "The agent returns the chosen action as a string.\n",
    "\n",
    "Here is an example implementation for the agent program of a simple randomized agent:  "
   ]
  },
  {
   "cell_type": "code",
   "execution_count": 29,
   "metadata": {},
   "outputs": [],
   "source": [
    "from numpy import random\n",
    "\n",
    "\n",
    "def simple_randomized_agent(bumpers, dirty):\n",
    "    actions = ['north', 'east', 'south', 'west', 'suck']\n",
    "    return random.choice(actions)"
   ]
  },
  {
   "cell_type": "code",
   "execution_count": 30,
   "metadata": {},
   "outputs": [
    {
     "data": {
      "text/plain": [
       "'west'"
      ]
     },
     "execution_count": 30,
     "metadata": {},
     "output_type": "execute_result"
    }
   ],
   "source": [
    "simple_randomized_agent({\"north\" : True, \"east\" : False, \"south\" : False, \"west\" : True}, True)"
   ]
  },
  {
   "cell_type": "markdown",
   "metadata": {},
   "source": [
    "__Note:__ This is not a rational intelligent agent. It ignores its sensors and may bump into a wall or not clean a dirty square. You will be asked to implement rational agents below."
   ]
  },
  {
   "cell_type": "markdown",
   "metadata": {},
   "source": [
    "## Simple environment example\n",
    "\n",
    "This simple environment is infinite in size (bumpers are always `False`) and every square is always dirty, even if the agent cleans it. The environment function returns the performance measure which is here the number of cleaned squares (since all squares are constantly dirty, it is the number of `suck` actions by the agent). "
   ]
  },
  {
   "cell_type": "code",
   "execution_count": 31,
   "metadata": {},
   "outputs": [],
   "source": [
    "def simple_environment(agent, max_steps, verbose = True):\n",
    "    num_cleaned = 0\n",
    "    \n",
    "    for i in range(max_steps):\n",
    "        dirty = True\n",
    "        bumpers = {\"north\" : False, \"south\" : False, \"west\" : False, \"east\" : False}\n",
    "\n",
    "        action = agent(bumpers, dirty)\n",
    "        if (verbose): print(\"step\", i , \"- action:\", action) \n",
    "        \n",
    "        if (action == \"suck\"): \n",
    "            num_cleaned = num_cleaned + 1\n",
    "        \n",
    "    return num_cleaned\n",
    "        \n"
   ]
  },
  {
   "cell_type": "markdown",
   "metadata": {},
   "source": [
    "Do one simulation run with 20 steps."
   ]
  },
  {
   "cell_type": "code",
   "execution_count": 32,
   "metadata": {},
   "outputs": [
    {
     "name": "stdout",
     "output_type": "stream",
     "text": [
      "step 0 - action: suck\n",
      "step 1 - action: west\n",
      "step 2 - action: west\n",
      "step 3 - action: suck\n",
      "step 4 - action: south\n",
      "step 5 - action: west\n",
      "step 6 - action: south\n",
      "step 7 - action: suck\n",
      "step 8 - action: south\n",
      "step 9 - action: north\n",
      "step 10 - action: east\n",
      "step 11 - action: south\n",
      "step 12 - action: suck\n",
      "step 13 - action: west\n",
      "step 14 - action: west\n",
      "step 15 - action: north\n",
      "step 16 - action: west\n",
      "step 17 - action: south\n",
      "step 18 - action: west\n",
      "step 19 - action: north\n"
     ]
    },
    {
     "data": {
      "text/plain": [
       "4"
      ]
     },
     "execution_count": 32,
     "metadata": {},
     "output_type": "execute_result"
    }
   ],
   "source": [
    "simple_environment(simple_randomized_agent, max_steps = 20)"
   ]
  },
  {
   "cell_type": "markdown",
   "metadata": {},
   "source": [
    "# Tasks\n",
    "\n",
    "_Submission Instructions:_ Use this notebook to prepare your submission. Complete this section with your code and results. You can add additional Markdown blocks for your description, comments in the code and use mathplotlib to produce charts. \n",
    "\n",
    "_Note:_ Try to keep the code simple! In this course, we want to learn about the algorithms and we often do not need to use object-oriented design. \n",
    "\n",
    "\n",
    "## Task 1: Implement a simulation environment [2 Points]\n",
    "\n",
    "The simple environment above is not very realistic. Your environment simulator needs to follow the PEAS description from above. It needs to:\n",
    "\n",
    "* Initialize the environment by storing the state of each square (clean/dirty) and making some dirty.\n",
    "* Keep track of the agent's position.\n",
    "* Call the agent function repeatedly and provide the agent function with the sensor inputs.  \n",
    "* React to the agent's actions. E.g, by removing dirt from a square or moving the agent around unless there is a wall in the way.\n",
    "* Keep track of the performance measure. That is, track the agent's actions until all dirty squares are clean and count the number of actions it takes the agent to complete the task.\n",
    "\n",
    "The easiest implementation for the environment is to hold an 2-dimensional array to represent if squares are clean or dirty and to call the agent function in a loop until all squares are clean or a predefined number of steps have been reached (i.e., the robot runs out of energy).\n",
    "\n",
    "The simulation environment needs to work with the simple randomized agent program from above and then it can be used for your agent implementation in the tasks below."
   ]
  },
  {
   "cell_type": "code",
   "execution_count": 33,
   "metadata": {
    "scrolled": true
   },
   "outputs": [
    {
     "name": "stdout",
     "output_type": "stream",
     "text": [
      "Room is clean. To took  100  steps.\n"
     ]
    },
    {
     "data": {
      "text/plain": [
       "100"
      ]
     },
     "execution_count": 33,
     "metadata": {},
     "output_type": "execute_result"
    }
   ],
   "source": [
    "import random\n",
    "# Your code and description goes here\n",
    "\n",
    "# n - size of the grid\n",
    "# chance_of_dirt inverse of the chance a square has dirt\n",
    "def get_random_n_room(num_rows, num_cols, chance_of_dirt):\n",
    "    room = []\n",
    "    for row_num in range(0, num_rows):\n",
    "        row = []\n",
    "        for col_num in range(0, num_cols):\n",
    "             # true represents dirt\n",
    "            row.append(random.randint(1, chance_of_dirt) == 1)\n",
    "        room.append(row)\n",
    "    return room\n",
    "\n",
    "def is_room_clean(room):\n",
    "    for row in range(0, len(room)):\n",
    "        for col in range(0, len(room[row])):\n",
    "            if room[row][col]:\n",
    "                return False\n",
    "    return True\n",
    "\n",
    "    \n",
    "def vacuum_environment(agent, max_steps, verbose = True, num_rows = 5, num_cols = 5):\n",
    "    room = get_random_n_room(num_rows, num_cols, 5)\n",
    "    agent_row = random.randint(0, num_rows - 1)\n",
    "    agent_col = random.randint(0, num_cols - 1)\n",
    "    if verbose:\n",
    "        print('Agents starting Position: (', agent_row, ' ', agent_col, ')')\n",
    "        print('Room:')\n",
    "        for i in range(0, len(room)):\n",
    "            print(room[i])\n",
    "    \n",
    "            \n",
    "    steps = 0\n",
    "    for i in range(0, max_steps):\n",
    "        bumpers = {\"north\": True, \"south\": True, \"east\": True, \"west\": True}\n",
    "        bumpers['north'] = agent_row == 0\n",
    "        bumpers['south'] = agent_row == num_cols-1\n",
    "        bumpers['west'] = agent_col == 0\n",
    "        bumpers['east'] = agent_col == num_cols-1\n",
    "        \n",
    "        action = agent(bumpers, room[agent_row][agent_col])\n",
    "        steps += 1\n",
    "        \n",
    "        if action == 'suck':\n",
    "            room[agent_row][agent_col] = False\n",
    "        elif action == 'north':\n",
    "            if agent_row > 0:\n",
    "                agent_row -= 1\n",
    "        elif action == 'south':\n",
    "            if agent_row < num_rows-1:\n",
    "                agent_row += 1\n",
    "        elif action == 'west':\n",
    "            if agent_col > 0:\n",
    "                agent_col -= 1\n",
    "        elif action == 'east':\n",
    "            if agent_col < num_cols-1:\n",
    "                agent_col += 1\n",
    "        \n",
    "        if verbose:\n",
    "            print('step ', steps, ' - ', 'action: ', action, 'current pos: (', agent_row, ', ', agent_col, ')')\n",
    "        \n",
    "        if is_room_clean(room):\n",
    "            print('Room is clean. To took ', steps, ' steps.')\n",
    "            if verbose:\n",
    "                print('Room:')\n",
    "                for i in range(0, len(room)):\n",
    "                    print(room[i])\n",
    "            return steps\n",
    "\n",
    "    for i in range(0, len(room)):\n",
    "        print(room[i])\n",
    "        \n",
    "vacuum_environment(simple_randomized_agent, 2000, verbose = False)\n"
   ]
  },
  {
   "cell_type": "markdown",
   "metadata": {},
   "source": [
    "## Task 2:  Implement a simple reflex agent [1 Point] \n",
    "\n",
    "The simple reflex agent randomly walks around but reacts to the bumper sensor by not bumping into the wall and to dirt with sucking."
   ]
  },
  {
   "cell_type": "markdown",
   "metadata": {},
   "source": [
    "This agent will only suck when there is dirt in its square and it will only not run into the walls"
   ]
  },
  {
   "cell_type": "code",
   "execution_count": 34,
   "metadata": {},
   "outputs": [],
   "source": [
    "# Your code and description goes here\n",
    "\n",
    "# bumpers - list of booleans that indicate if a bumper is touching a wall\n",
    "# dirty - boolean is whether or not the dirt sensor finds there is dirt in the current square\n",
    "def simple_reflex_agent(bumpers, dirty):\n",
    "    actions = []\n",
    "    \n",
    "    if dirty:\n",
    "        actions.append('suck')\n",
    "    if not bumpers['north']:\n",
    "        actions.append('north')\n",
    "    if not bumpers['south']:\n",
    "        actions.append('south')\n",
    "    if not bumpers['west']:\n",
    "        actions.append('west')\n",
    "    if not bumpers['east']:\n",
    "        actions.append('east')\n",
    "        \n",
    "    return random.choice(actions)\n",
    "    \n",
    "    "
   ]
  },
  {
   "cell_type": "code",
   "execution_count": 35,
   "metadata": {},
   "outputs": [
    {
     "name": "stdout",
     "output_type": "stream",
     "text": [
      "Room is clean. To took  222  steps.\n"
     ]
    },
    {
     "data": {
      "text/plain": [
       "222"
      ]
     },
     "execution_count": 35,
     "metadata": {},
     "output_type": "execute_result"
    }
   ],
   "source": [
    "vacuum_environment(simple_reflex_agent, 2000, verbose = False)"
   ]
  },
  {
   "cell_type": "markdown",
   "metadata": {},
   "source": [
    "## Task 3: Implement a model-based reflex agent [3 Point]\n",
    "\n",
    "This agent keeps track of the location and remembers where it has cleaned. Assume the agent knows how many squares the room has. It can move to a corner to determin its location and then is able to use more advanced navigation.\n",
    "\n",
    "_Note on implementing the state:_ You can use a global variable. In Python, you have to use the keyword `global` in your function for this to work (see: https://www.programiz.com/python-programming/global-keyword). Alternatively, you can define a class for your agent with a member variable for the state and a function for the agent program (see: https://www.w3schools.com/python/python_classes.asp). \n",
    "\n",
    "Describe how you define the __agent state__ and how your agent works before implementing it."
   ]
  },
  {
   "cell_type": "code",
   "execution_count": 36,
   "metadata": {},
   "outputs": [],
   "source": [
    "# Your short description goes here"
   ]
  },
  {
   "cell_type": "code",
   "execution_count": 37,
   "metadata": {},
   "outputs": [],
   "source": [
    "# Your code goes here"
   ]
  },
  {
   "cell_type": "markdown",
   "metadata": {},
   "source": [
    "## Task 4: Simulation study [3 Points]\n",
    "\n",
    "Compare the performance of the agents using different size environments. E.g., $5 \\times 5$, $10 \\times 10$ and\n",
    "$100 \\times 100$. Use at least 100 random runs for each. Present the results in a suitable format (tables, graphs) and discuss the differences."
   ]
  },
  {
   "cell_type": "code",
   "execution_count": 41,
   "metadata": {
    "scrolled": false
   },
   "outputs": [
    {
     "name": "stdout",
     "output_type": "stream",
     "text": [
      "Room is clean. To took  263  steps.\n",
      "Room is clean. To took  125  steps.\n",
      "Room is clean. To took  445  steps.\n",
      "Room is clean. To took  390  steps.\n",
      "Room is clean. To took  274  steps.\n",
      "Room is clean. To took  574  steps.\n",
      "Room is clean. To took  239  steps.\n",
      "Room is clean. To took  310  steps.\n",
      "Room is clean. To took  865  steps.\n",
      "Room is clean. To took  779  steps.\n",
      "Room is clean. To took  428  steps.\n",
      "Room is clean. To took  267  steps.\n",
      "Room is clean. To took  271  steps.\n",
      "Room is clean. To took  183  steps.\n",
      "Room is clean. To took  265  steps.\n",
      "Room is clean. To took  259  steps.\n",
      "Room is clean. To took  239  steps.\n",
      "Room is clean. To took  265  steps.\n",
      "Room is clean. To took  288  steps.\n",
      "Room is clean. To took  320  steps.\n",
      "Room is clean. To took  79  steps.\n",
      "Room is clean. To took  155  steps.\n",
      "Room is clean. To took  369  steps.\n",
      "Room is clean. To took  399  steps.\n",
      "Room is clean. To took  734  steps.\n",
      "Room is clean. To took  93  steps.\n",
      "Room is clean. To took  625  steps.\n",
      "Room is clean. To took  487  steps.\n",
      "Room is clean. To took  328  steps.\n",
      "Room is clean. To took  214  steps.\n",
      "Room is clean. To took  243  steps.\n",
      "Room is clean. To took  398  steps.\n",
      "Room is clean. To took  443  steps.\n",
      "Room is clean. To took  183  steps.\n",
      "Room is clean. To took  87  steps.\n",
      "Room is clean. To took  280  steps.\n",
      "Room is clean. To took  298  steps.\n",
      "Room is clean. To took  227  steps.\n",
      "Room is clean. To took  351  steps.\n",
      "Room is clean. To took  350  steps.\n",
      "Room is clean. To took  361  steps.\n",
      "Room is clean. To took  151  steps.\n",
      "Room is clean. To took  853  steps.\n",
      "Room is clean. To took  227  steps.\n",
      "Room is clean. To took  478  steps.\n",
      "Room is clean. To took  194  steps.\n",
      "Room is clean. To took  139  steps.\n",
      "Room is clean. To took  69  steps.\n",
      "Room is clean. To took  306  steps.\n",
      "Room is clean. To took  292  steps.\n",
      "Room is clean. To took  358  steps.\n",
      "Room is clean. To took  259  steps.\n",
      "Room is clean. To took  201  steps.\n",
      "Room is clean. To took  176  steps.\n",
      "Room is clean. To took  624  steps.\n",
      "Room is clean. To took  435  steps.\n",
      "Room is clean. To took  259  steps.\n",
      "Room is clean. To took  519  steps.\n",
      "Room is clean. To took  151  steps.\n",
      "Room is clean. To took  335  steps.\n",
      "Room is clean. To took  389  steps.\n",
      "Room is clean. To took  313  steps.\n",
      "Room is clean. To took  664  steps.\n",
      "Room is clean. To took  269  steps.\n",
      "Room is clean. To took  405  steps.\n",
      "Room is clean. To took  175  steps.\n",
      "Room is clean. To took  608  steps.\n",
      "Room is clean. To took  466  steps.\n",
      "Room is clean. To took  555  steps.\n",
      "Room is clean. To took  147  steps.\n",
      "Room is clean. To took  410  steps.\n",
      "Room is clean. To took  109  steps.\n",
      "Room is clean. To took  280  steps.\n",
      "Room is clean. To took  417  steps.\n",
      "Room is clean. To took  615  steps.\n",
      "Room is clean. To took  163  steps.\n",
      "Room is clean. To took  104  steps.\n",
      "Room is clean. To took  567  steps.\n",
      "Room is clean. To took  41  steps.\n",
      "Room is clean. To took  263  steps.\n",
      "Room is clean. To took  325  steps.\n",
      "Room is clean. To took  270  steps.\n",
      "Room is clean. To took  442  steps.\n",
      "Room is clean. To took  148  steps.\n",
      "Room is clean. To took  409  steps.\n",
      "Room is clean. To took  126  steps.\n",
      "Room is clean. To took  740  steps.\n",
      "Room is clean. To took  306  steps.\n",
      "Room is clean. To took  523  steps.\n",
      "Room is clean. To took  187  steps.\n",
      "Room is clean. To took  520  steps.\n",
      "Room is clean. To took  118  steps.\n",
      "Room is clean. To took  430  steps.\n",
      "Room is clean. To took  57  steps.\n",
      "Room is clean. To took  132  steps.\n",
      "Room is clean. To took  78  steps.\n",
      "Room is clean. To took  253  steps.\n",
      "Room is clean. To took  411  steps.\n",
      "Room is clean. To took  453  steps.\n",
      "Room is clean. To took  282  steps.\n",
      "Room is clean. To took  295  steps.\n",
      "Room is clean. To took  1  steps.\n",
      "Room is clean. To took  199  steps.\n",
      "Room is clean. To took  119  steps.\n",
      "Room is clean. To took  127  steps.\n",
      "Room is clean. To took  127  steps.\n",
      "Room is clean. To took  562  steps.\n",
      "Room is clean. To took  81  steps.\n",
      "Room is clean. To took  156  steps.\n",
      "Room is clean. To took  27  steps.\n",
      "Room is clean. To took  211  steps.\n",
      "Room is clean. To took  334  steps.\n",
      "Room is clean. To took  406  steps.\n",
      "Room is clean. To took  309  steps.\n",
      "Room is clean. To took  60  steps.\n",
      "Room is clean. To took  411  steps.\n",
      "Room is clean. To took  569  steps.\n",
      "Room is clean. To took  331  steps.\n",
      "Room is clean. To took  112  steps.\n",
      "Room is clean. To took  76  steps.\n",
      "Room is clean. To took  237  steps.\n",
      "Room is clean. To took  52  steps.\n",
      "Room is clean. To took  13  steps.\n",
      "Room is clean. To took  370  steps.\n",
      "Room is clean. To took  183  steps.\n",
      "Room is clean. To took  421  steps.\n",
      "Room is clean. To took  270  steps.\n",
      "Room is clean. To took  541  steps.\n",
      "Room is clean. To took  408  steps.\n",
      "Room is clean. To took  216  steps.\n",
      "Room is clean. To took  140  steps.\n",
      "Room is clean. To took  294  steps.\n",
      "Room is clean. To took  516  steps.\n",
      "Room is clean. To took  90  steps.\n",
      "Room is clean. To took  257  steps.\n",
      "Room is clean. To took  161  steps.\n",
      "Room is clean. To took  306  steps.\n",
      "Room is clean. To took  140  steps.\n",
      "Room is clean. To took  627  steps.\n",
      "Room is clean. To took  278  steps.\n",
      "Room is clean. To took  87  steps.\n",
      "Room is clean. To took  157  steps.\n",
      "Room is clean. To took  311  steps.\n",
      "Room is clean. To took  158  steps.\n",
      "Room is clean. To took  536  steps.\n",
      "Room is clean. To took  253  steps.\n",
      "Room is clean. To took  323  steps.\n",
      "Room is clean. To took  214  steps.\n",
      "Room is clean. To took  224  steps.\n",
      "Room is clean. To took  381  steps.\n",
      "Room is clean. To took  525  steps.\n",
      "Room is clean. To took  630  steps.\n",
      "Room is clean. To took  255  steps.\n",
      "Room is clean. To took  79  steps.\n",
      "Room is clean. To took  731  steps.\n",
      "Room is clean. To took  64  steps.\n",
      "Room is clean. To took  331  steps.\n",
      "Room is clean. To took  235  steps.\n",
      "Room is clean. To took  699  steps.\n",
      "Room is clean. To took  277  steps.\n",
      "Room is clean. To took  302  steps.\n",
      "Room is clean. To took  172  steps.\n",
      "Room is clean. To took  268  steps.\n",
      "Room is clean. To took  123  steps.\n",
      "Room is clean. To took  420  steps.\n",
      "Room is clean. To took  199  steps.\n",
      "Room is clean. To took  569  steps.\n",
      "Room is clean. To took  326  steps.\n",
      "Room is clean. To took  741  steps.\n",
      "Room is clean. To took  666  steps.\n",
      "Room is clean. To took  559  steps.\n",
      "Room is clean. To took  205  steps.\n",
      "Room is clean. To took  37  steps.\n",
      "Room is clean. To took  263  steps.\n",
      "Room is clean. To took  443  steps.\n",
      "Room is clean. To took  160  steps.\n",
      "Room is clean. To took  524  steps.\n",
      "Room is clean. To took  182  steps.\n",
      "Room is clean. To took  255  steps.\n",
      "Room is clean. To took  354  steps.\n",
      "Room is clean. To took  574  steps.\n",
      "Room is clean. To took  328  steps.\n",
      "Room is clean. To took  550  steps.\n",
      "Room is clean. To took  189  steps.\n",
      "Room is clean. To took  530  steps.\n",
      "Room is clean. To took  214  steps.\n",
      "Room is clean. To took  827  steps.\n",
      "Room is clean. To took  307  steps.\n",
      "Room is clean. To took  327  steps.\n",
      "Room is clean. To took  161  steps.\n",
      "Room is clean. To took  275  steps.\n",
      "Room is clean. To took  233  steps.\n",
      "Room is clean. To took  517  steps.\n",
      "Room is clean. To took  313  steps.\n",
      "Room is clean. To took  739  steps.\n",
      "Room is clean. To took  371  steps.\n",
      "Room is clean. To took  860  steps.\n",
      "Room is clean. To took  265  steps.\n",
      "Room is clean. To took  178  steps.\n",
      "Room is clean. To took  96  steps.\n"
     ]
    },
    {
     "data": {
      "text/plain": [
       "[[263, 125],\n",
       " [445, 390],\n",
       " [274, 574],\n",
       " [239, 310],\n",
       " [865, 779],\n",
       " [428, 267],\n",
       " [271, 183],\n",
       " [265, 259],\n",
       " [239, 265],\n",
       " [288, 320],\n",
       " [79, 155],\n",
       " [369, 399],\n",
       " [734, 93],\n",
       " [625, 487],\n",
       " [328, 214],\n",
       " [243, 398],\n",
       " [443, 183],\n",
       " [87, 280],\n",
       " [298, 227],\n",
       " [351, 350],\n",
       " [361, 151],\n",
       " [853, 227],\n",
       " [478, 194],\n",
       " [139, 69],\n",
       " [306, 292],\n",
       " [358, 259],\n",
       " [201, 176],\n",
       " [624, 435],\n",
       " [259, 519],\n",
       " [151, 335],\n",
       " [389, 313],\n",
       " [664, 269],\n",
       " [405, 175],\n",
       " [608, 466],\n",
       " [555, 147],\n",
       " [410, 109],\n",
       " [280, 417],\n",
       " [615, 163],\n",
       " [104, 567],\n",
       " [41, 263],\n",
       " [325, 270],\n",
       " [442, 148],\n",
       " [409, 126],\n",
       " [740, 306],\n",
       " [523, 187],\n",
       " [520, 118],\n",
       " [430, 57],\n",
       " [132, 78],\n",
       " [253, 411],\n",
       " [453, 282],\n",
       " [295, 1],\n",
       " [199, 119],\n",
       " [127, 127],\n",
       " [562, 81],\n",
       " [156, 27],\n",
       " [211, 334],\n",
       " [406, 309],\n",
       " [60, 411],\n",
       " [569, 331],\n",
       " [112, 76],\n",
       " [237, 52],\n",
       " [13, 370],\n",
       " [183, 421],\n",
       " [270, 541],\n",
       " [408, 216],\n",
       " [140, 294],\n",
       " [516, 90],\n",
       " [257, 161],\n",
       " [306, 140],\n",
       " [627, 278],\n",
       " [87, 157],\n",
       " [311, 158],\n",
       " [536, 253],\n",
       " [323, 214],\n",
       " [224, 381],\n",
       " [525, 630],\n",
       " [255, 79],\n",
       " [731, 64],\n",
       " [331, 235],\n",
       " [699, 277],\n",
       " [302, 172],\n",
       " [268, 123],\n",
       " [420, 199],\n",
       " [569, 326],\n",
       " [741, 666],\n",
       " [559, 205],\n",
       " [37, 263],\n",
       " [443, 160],\n",
       " [524, 182],\n",
       " [255, 354],\n",
       " [574, 328],\n",
       " [550, 189],\n",
       " [530, 214],\n",
       " [827, 307],\n",
       " [327, 161],\n",
       " [275, 233],\n",
       " [517, 313],\n",
       " [739, 371],\n",
       " [860, 265],\n",
       " [178, 96]]"
      ]
     },
     "execution_count": 41,
     "metadata": {},
     "output_type": "execute_result"
    }
   ],
   "source": [
    "# Your code goes here\n",
    "def simulate_cleaning_room(runs, num_rows, num_cols):\n",
    "    performance = []\n",
    "    for i in range(0, runs):\n",
    "        run = []\n",
    "        steps = vacuum_environment(simple_randomized_agent, 2000, verbose = False)\n",
    "        run.append(steps)\n",
    "        steps = vacuum_environment(simple_reflex_agent, 2000, verbose = False)\n",
    "        run.append(steps)\n",
    "        performance.append(run)\n",
    "        \n",
    "    return performance\n",
    "#########################################################\n",
    "\n",
    "simulate_cleaning_room(100, 5, 5)"
   ]
  },
  {
   "cell_type": "markdown",
   "metadata": {},
   "source": [
    "#### Your discussion of the results goes here"
   ]
  },
  {
   "cell_type": "markdown",
   "metadata": {},
   "source": [
    "## Task 5: Robustness of the agent implementations [1 Point] \n",
    "\n",
    "Describe how your agent implementations will perform \n",
    "\n",
    "* if it is put into a rectangular room with unknown size, \n",
    "* if the cleaning area can have an iregular shape (e.g., a hallway connecting two rooms), or \n",
    "* if the room contains obstacles (i.e., squares that it cannot pass through and trigger the bumper sensors)."
   ]
  },
  {
   "cell_type": "code",
   "execution_count": 8,
   "metadata": {},
   "outputs": [],
   "source": [
    "# Answer goes here"
   ]
  },
  {
   "cell_type": "markdown",
   "metadata": {},
   "source": [
    "## Bonus tasks [+1 Point]\n",
    "\n",
    "Change your simulation environment tor run experiments for the following problems:\n",
    "\n",
    "* __Obstacles:__ Add random obstacle squares that also trigger the bumper sensor. The agent does not know where the obstacles are. Observe how this changes the performance of the three implementations.\n",
    "* __Unknown environment with obstacles:__ Implement an agent for an environment where the agent does not know how large the environment is (we assume it is rectangular), where it starts or where the obstacles are. An option would be to always move to the closest unchecked/uncleaned square.\n",
    "* __Utility-based agent:__ Change the environment, so each square has a fixed probability of getting dirty again. We assume the agent has learned this information over time. For the implementation, we give this information to the agent as a 2-dimensional array of probabilities  Cleaning one dirty square produces a utility of 1. Implement a utility-based agent that maximizes the expected utility over one full charge which lasts for 10000 time steps. This is very tricky!"
   ]
  },
  {
   "cell_type": "code",
   "execution_count": 9,
   "metadata": {},
   "outputs": [],
   "source": [
    "# Your code and discussion goes here"
   ]
  }
 ],
 "metadata": {
  "kernelspec": {
   "display_name": "Python 3",
   "language": "python",
   "name": "python3"
  },
  "language_info": {
   "codemirror_mode": {
    "name": "ipython",
    "version": 3
   },
   "file_extension": ".py",
   "mimetype": "text/x-python",
   "name": "python",
   "nbconvert_exporter": "python",
   "pygments_lexer": "ipython3",
   "version": "3.8.6"
  }
 },
 "nbformat": 4,
 "nbformat_minor": 4
}
