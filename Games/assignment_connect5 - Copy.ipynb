{
 "cells": [
  {
   "cell_type": "markdown",
   "metadata": {},
   "source": [
    "# Adversarial Search: Playing Connect 4\n",
    "\n",
    "\n",
    "## Instructions\n",
    "\n",
    "Total Points: Undegraduates 10, graduate students 11\n",
    "\n",
    "Complete this notebook and submit it. The notebook needs to be a complete project report with your implementation, documentation including a short discussion of how your implementation works and your design choices, and experimental results (e.g., tables and charts with simulation results) with a short discussion of what they mean. Use the provided notebook cells and insert additional code and markdown cells as needed.\n",
    "\n",
    "## Introduction\n",
    "\n",
    "You will implement different versions of agents that play Connect 4:\n",
    "\n",
    "> \"Connect 4 is a two-player connection board game, in which the players choose a color and then take turns dropping colored discs into a seven-column, six-row vertically suspended grid. The pieces fall straight down, occupying the lowest available space within the column. The objective of the game is to be the first to form a horizontal, vertical, or diagonal line of four of one's own discs.\" (see [Connect Four on Wikipedia](https://en.wikipedia.org/wiki/Connect_Four))"
   ]
  },
  {
   "cell_type": "markdown",
   "metadata": {},
   "source": [
    "## Task 1: Defining the Search Problem [1 point]\n",
    "\n",
    "Define the components of the search problem:\n",
    "\n",
    "* Initial state - The initial state is \n",
    "* Actions - A column number for where the player drops their playing piece. It will fall to the lowest open place for that column.\n",
    "* Transition model - Place a piece in the column that was selected by the player\n",
    "* Goal state - Create 4 pieces in a row"
   ]
  },
  {
   "cell_type": "markdown",
   "metadata": {},
   "source": [
    "\n",
    "\n",
    "* **Initial state** - The initial state is \n",
    "* **Actions** - A column number for where the player drops their playing piece. It will fall to the lowest open place for that column.\n",
    "* **Transition model** - Place a piece in the column that was selected by the player\n",
    "* **Goal state** - Create 4 pieces in a row"
   ]
  },
  {
   "cell_type": "markdown",
   "metadata": {},
   "source": [
    "How big is the search space?"
   ]
  },
  {
   "cell_type": "markdown",
   "metadata": {},
   "source": [
    "TODO: calculate this state space"
   ]
  },
  {
   "cell_type": "markdown",
   "metadata": {},
   "source": [
    "__Note:__ The search space for a $6 \\times 7$ board is large. You can experiment with smaller boards (the smallest is $4 times \\4$) and/or changing the winning rule to connect 3 instead of 4."
   ]
  },
  {
   "cell_type": "markdown",
   "metadata": {},
   "source": [
    "## Task 2: Game Environment and Random Agent [2 point]\n",
    "\n",
    "Use a numpy character array as the board."
   ]
  },
  {
   "cell_type": "code",
   "execution_count": 2,
   "metadata": {},
   "outputs": [
    {
     "name": "stdout",
     "output_type": "stream",
     "text": [
      "[[' ' ' ' ' ' ' ' ' ' ' ' ' ']\n",
      " [' ' ' ' ' ' ' ' ' ' ' ' ' ']\n",
      " [' ' ' ' ' ' ' ' ' ' ' ' ' ']\n",
      " [' ' ' ' ' ' ' ' ' ' ' ' ' ']\n",
      " [' ' ' ' ' ' ' ' ' ' ' ' ' ']\n",
      " [' ' ' ' ' ' ' ' ' ' ' ' ' ']]\n"
     ]
    }
   ],
   "source": [
    "import numpy as np\n",
    "\n",
    "def empty_board(shape=(6, 7)):\n",
    "    return np.full(shape=shape, fill_value=' ')\n",
    "\n",
    "def fill_board(board):\n",
    "    s = '0123456789ABCDEFGHIJKLMNOPQRSTUVWXYZ'\n",
    "    i = 0\n",
    "    for row in range(len(board)):\n",
    "        for col in range(len(board[0])):\n",
    "            board[row][col] = s[i%len(s)]\n",
    "            i+=1\n",
    "\n",
    "def pretty_board(board):\n",
    "    for i in range(0,board.shape[1]+board.shape[1]+1):\n",
    "        print('-',end='')\n",
    "    print()\n",
    "    for row in board:\n",
    "        print('|', end='')\n",
    "        for piece in row:\n",
    "            print(piece, end='')\n",
    "            print('|',end='')\n",
    "        print() \n",
    "    for i in range(0,board.shape[1]+board.shape[1]+1):\n",
    "        print('-',end='')\n",
    "    print()            \n",
    "            \n",
    "print(empty_board())"
   ]
  },
  {
   "cell_type": "markdown",
   "metadata": {},
   "source": [
    "Instead of colors for the players use 'x' and 'o' to represent the players. Make sure that your agent functions all have the from: `agent_type(board, player = 'x')`, where board is the current board position and player is the player whose next move it is and who the agent should play."
   ]
  },
  {
   "cell_type": "markdown",
   "metadata": {},
   "source": [
    "Implement the board and helper functions for:\n",
    "\n",
    "* The transition model (result).\n",
    "* The utility function.\n",
    "* Check for terminal states.\n",
    "* A check for available actions.\n",
    "* A function to visualize the board.\n",
    "\n",
    "Make sure that all these functions work with boards of different sizes.\n",
    "\n",
    "Implement an agent that plays randomly and let two random agents play against each other 1000 times. How often does each player win? Is the result expected? "
   ]
  },
  {
   "cell_type": "code",
   "execution_count": 19,
   "metadata": {},
   "outputs": [],
   "source": [
    "import random\n",
    "\n",
    "def flip_player(player):\n",
    "    if player == 'x':\n",
    "        return 'o'\n",
    "    else:\n",
    "        return 'x'\n",
    "    \n",
    "def actions(board):\n",
    "    options = []\n",
    "    for col in range(0, len(board[0])):\n",
    "        if board[0][col] == ' ':\n",
    "            options.append(col)\n",
    "    return options\n",
    "\n",
    "def agent_random(board, player = 'x'):\n",
    "    options = actions(board)\n",
    "    if len(options) == 0:\n",
    "        return None\n",
    "    return random.choice(options)\n",
    "            \n",
    "# Environment methods\n",
    "def place_piece(board, col, player='x'):\n",
    "    \"\"\"Place the player piece in the col on the board\"\"\"\n",
    "    if board[0][col] != ' ':\n",
    "        return False\n",
    "    \n",
    "    next_open_row = len(board) - 1 # if the col is empty use the bottom row\n",
    "    for row in range(0, len(board)):\n",
    "        if board[row][col] != ' ':\n",
    "            next_open_row = row - 1\n",
    "            break\n",
    "            \n",
    "    board[next_open_row][col] = player\n",
    "\n",
    "\n",
    "def result(board, player, action):\n",
    "    board_copy = board.copy()\n",
    "    place_piece(board_copy, action, player)\n",
    "    return board_copy\n",
    "\n",
    "\n",
    "# TODO: Optimize this\n",
    "def check_series_for_winner(series):\n",
    "    \"\"\"Check if this line (could be anywhere)\n",
    "    has 4 in a row\"\"\"\n",
    "    count = 0\n",
    "    prev = ' '\n",
    "    for current_space in series:\n",
    "        if current_space != ' ' and current_space == prev:\n",
    "            count += 1\n",
    "        elif current_space != ' ' and current_space != prev:\n",
    "            count = 1\n",
    "            prev = current_space\n",
    "        elif current_space == ' ':\n",
    "            prev = ' '\n",
    "            count = 0\n",
    "        \n",
    "        if count == 4:\n",
    "            return prev\n",
    "\n",
    "def get_all_series(board):\n",
    "    \"\"\"Get all of the rows/cols/diags that could be winning streaks\"\"\"\n",
    "    num_cols = len(board[0])\n",
    "    num_rows = len(board)\n",
    "    \n",
    "    runs = []\n",
    "    for row in range(0, num_rows):\n",
    "        runs.append(board[row])\n",
    "    for col in range(0, num_cols):\n",
    "        runs.append(board[:,col])\n",
    "        \n",
    "    for offset in range(1-num_rows, num_cols):\n",
    "        runs.append(np.diagonal(board, offset=offset))\n",
    "        runs.append(np.diagonal(np.fliplr(board), offset=offset))\n",
    "    # get all diags\n",
    "    max_row_cols = max(num_rows, num_cols)\n",
    "\n",
    "    return runs\n",
    "\n",
    "def terminal(board):\n",
    "    \"\"\"Determine if a player has won\"\"\"\n",
    "    num_cols = len(board[0])\n",
    "    num_rows = len(board)\n",
    "    if len(actions(board)) == 0:\n",
    "        return 'c'\n",
    "    \n",
    "    series = get_all_series(board)\n",
    "    for s in series:\n",
    "        winner = check_series_for_winner(s)\n",
    "        if winner is not None:\n",
    "            return winner\n",
    "    return ' '\n",
    "\n",
    "def utility(board, player = 'x'):\n",
    "    \"\"\"check is a state a terminal state, return the utility if it is.\n",
    "    None means not terminal\"\"\"\n",
    "    \n",
    "    winner = terminal(board)\n",
    "    if winner == player:\n",
    "        return +1\n",
    "    if winner == flip_player(player):\n",
    "        return -1\n",
    "    if winner == 'c':\n",
    "        return 0\n",
    "    return None\n",
    "\n",
    "def play_list_plays(moves, board, starting_player='x'):\n",
    "    for move in moves:\n",
    "        place_piece(board=board, player=starting_player, col=move)\n",
    "        starting_player = flip_player(starting_player)"
   ]
  },
  {
   "cell_type": "code",
   "execution_count": 20,
   "metadata": {},
   "outputs": [],
   "source": [
    "\n",
    "def play_game(player_x, player_o, board_shape = (6, 7), verbose=False):\n",
    "    players_turn = 'x'\n",
    "    \n",
    "    board = empty_board(board_shape)\n",
    "    while True:\n",
    "        col = -1\n",
    "        if players_turn == 'x':\n",
    "            col = player_x(board, players_turn)\n",
    "        else:\n",
    "            col = player_o(board, players_turn)\n",
    "        #place_piece(board, col, players_turn)\n",
    "        board = result(board=board, player=players_turn, action=col)\n",
    "        if verbose:\n",
    "            print('Player: ', players_turn, 'placing in col', col)\n",
    "        winner = terminal(board)\n",
    "        if winner == 'c':\n",
    "            return ('c', board)\n",
    "        elif winner != ' ':\n",
    "            return (players_turn, board)\n",
    "        \n",
    "        players_turn = flip_player(players_turn)\n"
   ]
  },
  {
   "cell_type": "markdown",
   "metadata": {},
   "source": [
    "### Test Utility"
   ]
  },
  {
   "cell_type": "code",
   "execution_count": 21,
   "metadata": {},
   "outputs": [
    {
     "name": "stdout",
     "output_type": "stream",
     "text": [
      "---------------\n",
      "| | | | | | | |\n",
      "| | | | | | | |\n",
      "| | | | | | | |\n",
      "| | | | | | | |\n",
      "| | | | | | | |\n",
      "| | | | | | | |\n",
      "---------------\n",
      "x: None o: None\n",
      "---------------\n",
      "| | | | | | | |\n",
      "| | | | | | | |\n",
      "| | | |x| | | |\n",
      "| | | |x| | | |\n",
      "| | | |x| | | |\n",
      "|o|o|o|x| | | |\n",
      "---------------\n",
      "x: 1 o: -1\n",
      "---------------\n",
      "| | | | | | | |\n",
      "| | | | | | | |\n",
      "| | | |x| | | |\n",
      "| | |x|o| | | |\n",
      "| |x|o|x| | | |\n",
      "|x|o|o|x| |o| |\n",
      "---------------\n",
      "x: 1 o: -1\n",
      "---------------\n",
      "| | | | | | | |\n",
      "| | | | | | | |\n",
      "| | | |o| | | |\n",
      "| | |o|x| | | |\n",
      "| |o|x|o| | | |\n",
      "|o|x|x|o| |x| |\n",
      "---------------\n",
      "x: -1 o: 1\n",
      "x: None o: None\n"
     ]
    }
   ],
   "source": [
    "board = empty_board()\n",
    "pretty_board(board)\n",
    "print('x:', utility(board, player='x'), 'o:', utility(board, player='o'))\n",
    "play_list_plays([3,2,3,1,3,0,3], board)\n",
    "pretty_board(board)\n",
    "print('x:', utility(board, player='x'), 'o:', utility(board, player='o'))\n",
    "board = empty_board()\n",
    "play_list_plays([0,1,1,2,3,2,2,5,3,3,3], board)\n",
    "pretty_board(board)\n",
    "print('x:', utility(board, player='x'), 'o:', utility(board, player='o'))\n",
    "board = empty_board()\n",
    "play_list_plays([0,1,1,2,3,2,2,5,3,3,3], board, starting_player='o')\n",
    "pretty_board(board)\n",
    "print('x:', utility(board, player='x'), 'o:', utility(board, player='o'))\n",
    "board = empty_board(shape = (5,6))\n",
    "play_list_plays([2,2,1,1,0,1,1,2,2,0,0], board)\n",
    "print('x:', utility(board, player='x'), 'o:', utility(board, player='x'))"
   ]
  },
  {
   "cell_type": "markdown",
   "metadata": {},
   "source": [
    "### Random V Random"
   ]
  },
  {
   "cell_type": "code",
   "execution_count": 22,
   "metadata": {},
   "outputs": [
    {
     "name": "stdout",
     "output_type": "stream",
     "text": [
      "X won: 546 |O won 454 |Cat games 0\n"
     ]
    }
   ],
   "source": [
    "x_ct = 0\n",
    "o_ct = 0\n",
    "c_ct = 0\n",
    "games = []\n",
    "for i in range(1000):\n",
    "    game = play_game(agent_random, agent_random, verbose=False)\n",
    "    winner = game[0]\n",
    "    if winner == 'x':\n",
    "        x_ct += 1\n",
    "    elif winner == 'o':\n",
    "        o_ct += 1\n",
    "    elif winner == 'c':\n",
    "        c_ct += 1\n",
    "    games.append(game)\n",
    "print('X won:', x_ct, '|O won', o_ct, '|Cat games', c_ct)"
   ]
  },
  {
   "cell_type": "markdown",
   "metadata": {},
   "source": [
    "## Task 3: Minimax Search with Alpha-Beta Pruning [4 points]\n",
    "\n",
    "### Implement the search starting from a given board and specifying the player."
   ]
  },
  {
   "cell_type": "code",
   "execution_count": 31,
   "metadata": {},
   "outputs": [],
   "source": [
    "import math\n",
    "import random\n",
    "DEBUG = 1 # 1 ... count nodes, 2 ... debug each node\n",
    "COUNT = 0\n",
    "def alpha_beta_search(board, player='x'):\n",
    "    global DEBUG, COUNT\n",
    "    COUNT = 0\n",
    "    \n",
    "    value, move = max_value_ab(board, player, -math.inf, +math.inf)\n",
    "    \n",
    "    if DEBUG >= 1: print(f\"Number of nodes searched: {COUNT}\") \n",
    "        \n",
    "    return value, move\n",
    "\n",
    "def max_value_ab(board, player, alpha, beta):\n",
    "    \"\"\"Player's best move\"\"\"\n",
    "    global DEBUG, COUNT\n",
    "    COUNT += 1\n",
    "    \n",
    "    v = utility(board, player)\n",
    "    if DEBUG >= 2: print(\"max: \\n\" + str(board) + str([alpha, beta, v])) \n",
    "    if v is not None: return v, None\n",
    "    \n",
    "    v, move = -math.inf, None\n",
    "    \n",
    "    moves = actions(board)\n",
    "    random.shuffle(moves)\n",
    "    for a in moves:\n",
    "        v2, a2 = min_value_ab(result(board, player, a), player, alpha, beta)\n",
    "        if v2 > v:\n",
    "            v, move = v2, a\n",
    "            alpha = max(alpha, v)\n",
    "        if v >= beta:\n",
    "            return v, move\n",
    "    return v, move\n",
    "\n",
    "def min_value_ab(board, player, alpha, beta):\n",
    "    \"\"\"opponent's best response\"\"\"\n",
    "    global DEBUG, COUNT\n",
    "    COUNT += 1\n",
    "    \n",
    "    #return utility if state is terminal state\n",
    "    v = utility(board, player)\n",
    "    if DEBUG >= 2: print(\"min: \\n\" + str(board) + str([alpha, beta, v]))\n",
    "    if v is not None: return v, None\n",
    "    \n",
    "    v, move = +math.inf, None\n",
    "    \n",
    "    moves = actions(board)\n",
    "    random.shuffle(moves)\n",
    "    for a in moves:\n",
    "        v2, a2 = max_value_ab(result(board, flip_player(player), a),player,alpha,beta)\n",
    "        if v2 < v:\n",
    "            v, move = v2, a\n",
    "            beta = min(beta, v)\n",
    "        if v <= alpha:\n",
    "            return v, move\n",
    "        \n",
    "    return v, move"
   ]
  },
  {
   "cell_type": "markdown",
   "metadata": {},
   "source": [
    "### Test against Random"
   ]
  },
  {
   "cell_type": "code",
   "execution_count": 32,
   "metadata": {},
   "outputs": [
    {
     "name": "stdout",
     "output_type": "stream",
     "text": [
      "Number of nodes searched: 87099\n",
      "Player:  x placing in col 2\n",
      "Player:  o placing in col 2\n",
      "Number of nodes searched: 20985\n",
      "Player:  x placing in col 2\n",
      "Player:  o placing in col 2\n",
      "Number of nodes searched: 2119\n",
      "Player:  x placing in col 1\n",
      "Player:  o placing in col 1\n",
      "Number of nodes searched: 501\n",
      "Player:  x placing in col 0\n",
      "Player:  o placing in col 1\n",
      "Number of nodes searched: 112\n",
      "Player:  x placing in col 3\n"
     ]
    },
    {
     "data": {
      "text/plain": [
       "('x',\n",
       " array([[' ', ' ', 'o', ' '],\n",
       "        [' ', 'o', 'x', ' '],\n",
       "        [' ', 'o', 'o', ' '],\n",
       "        ['x', 'x', 'x', 'x']], dtype='<U1'))"
      ]
     },
     "execution_count": 32,
     "metadata": {},
     "output_type": "execute_result"
    }
   ],
   "source": [
    "def mini_max_ab_agent(board, player='x'):\n",
    "    v, col = alpha_beta_search(board=board)\n",
    "    return col\n",
    "#\n",
    "#def play_agents(agent_x, agent_o, shape=(6,7)):\n",
    "#    global DEBUG\n",
    "#    DEBUG = 2\n",
    "#    board = empty_board(shape=shape)\n",
    "#    player = 'x'\n",
    "#    finised = False\n",
    "#    while not finished:\n",
    "#        if player == 'x':\n",
    "#            col = agent_x(board, player=player)\n",
    "#            if DEBUG == 2:\n",
    "#                print(player, 'placing in col', col)\n",
    "#            pretty_board(board)\n",
    "#            place_piece(board, col, player=player)\n",
    "#        else:\n",
    "#            col = agent_o(board, player=player)\n",
    "#            if DEBUG == 2:\n",
    "#                print(player, 'placing in col', col)\n",
    "#            pretty_board(board)\n",
    "#            place_piece(board, col, player=player)\n",
    "#        player = flip_player(player)\n",
    "#        finished = utility(board, player) is None\n",
    "#    pretty_board(board)\n",
    "#play_agents(agent_x=mini_max_ab_agent, agent_o= shape=(4,4))\n",
    "\n",
    "play_game(mini_max_ab_agent, agent_random, board_shape=(4,4), verbose=True)"
   ]
  },
  {
   "cell_type": "code",
   "execution_count": 35,
   "metadata": {},
   "outputs": [
    {
     "name": "stdout",
     "output_type": "stream",
     "text": [
      "Number of nodes searched: 100018\n"
     ]
    },
    {
     "data": {
      "text/plain": [
       "(0, 2)"
      ]
     },
     "metadata": {},
     "output_type": "display_data"
    }
   ],
   "source": [
    "board = empty_board(shape = (4,4))\n",
    "display(alpha_beta_search(board, player='x'))"
   ]
  },
  {
   "cell_type": "markdown",
   "metadata": {},
   "source": [
    "Experiment with some manually created boards (at least 5) to check if the agent spots wining opportunities."
   ]
  },
  {
   "cell_type": "code",
   "execution_count": 36,
   "metadata": {},
   "outputs": [
    {
     "name": "stdout",
     "output_type": "stream",
     "text": [
      "-----------\n",
      "| |x| | | |\n",
      "| |o|o| | |\n",
      "| |o|o| | |\n",
      "|x|x|x| | |\n",
      "-----------\n"
     ]
    },
    {
     "data": {
      "text/plain": [
       "(1, 3)"
      ]
     },
     "metadata": {},
     "output_type": "display_data"
    },
    {
     "name": "stdout",
     "output_type": "stream",
     "text": [
      "Wall time: 210 ms\n"
     ]
    }
   ],
   "source": [
    "%%time\n",
    "board = empty_board(shape = (4,5))\n",
    "place_piece(board, col=2, player= 'x')\n",
    "place_piece(board, col=2, player= 'o')\n",
    "place_piece(board, col=1, player= 'x')\n",
    "place_piece(board, col=1, player= 'o')\n",
    "place_piece(board, col=0, player= 'x')\n",
    "place_piece(board, col=1, player= 'o')\n",
    "place_piece(board, col=1, player= 'x')\n",
    "place_piece(board, col=2, player= 'o')\n",
    "pretty_board(board)\n",
    "DEBUG = 0\n",
    "display(alpha_beta_search(board, player='x'))"
   ]
  },
  {
   "cell_type": "code",
   "execution_count": 37,
   "metadata": {},
   "outputs": [
    {
     "name": "stdout",
     "output_type": "stream",
     "text": [
      "-----------\n",
      "| | | | | |\n",
      "| | | | | |\n",
      "| | | |o| |\n",
      "| |x|x|o| |\n",
      "|x|o|o|x| |\n",
      "-----------\n"
     ]
    },
    {
     "data": {
      "text/plain": [
       "(0, 1)"
      ]
     },
     "metadata": {},
     "output_type": "display_data"
    },
    {
     "name": "stdout",
     "output_type": "stream",
     "text": [
      "Wall time: 2min 37s\n"
     ]
    }
   ],
   "source": [
    "%%time\n",
    "board = empty_board(shape = (5,5))\n",
    "place_piece(board, col=0, player= 'x')\n",
    "place_piece(board, col=1, player= 'o')\n",
    "place_piece(board, col=1, player= 'x')\n",
    "place_piece(board, col=2, player= 'o')\n",
    "place_piece(board, col=3, player= 'x')\n",
    "place_piece(board, col=3, player= 'o')\n",
    "place_piece(board, col=2, player= 'x')\n",
    "place_piece(board, col=3, player= 'o')\n",
    "pretty_board(board)\n",
    "display(alpha_beta_search(board, player='x'))"
   ]
  },
  {
   "cell_type": "code",
   "execution_count": null,
   "metadata": {},
   "outputs": [
    {
     "name": "stdout",
     "output_type": "stream",
     "text": [
      "-------------\n",
      "| | | | | | |\n",
      "| |x| | | | |\n",
      "| |o|o| | | |\n",
      "| |o|o| | | |\n",
      "|x|x|x| | | |\n",
      "-------------\n"
     ]
    }
   ],
   "source": [
    "%%time\n",
    "board = empty_board(shape = (5,6))\n",
    "place_piece(board, col=2, player= 'x')\n",
    "place_piece(board, col=2, player= 'o')\n",
    "place_piece(board, col=1, player= 'x')\n",
    "place_piece(board, col=1, player= 'o')\n",
    "place_piece(board, col=0, player= 'x')\n",
    "place_piece(board, col=1, player= 'o')\n",
    "place_piece(board, col=1, player= 'x')\n",
    "place_piece(board, col=2, player= 'o')\n",
    "pretty_board(board)\n",
    "DEBUG = 0\n",
    "display(alpha_beta_search(board, player='x'))"
   ]
  },
  {
   "cell_type": "code",
   "execution_count": 23,
   "metadata": {},
   "outputs": [
    {
     "name": "stdout",
     "output_type": "stream",
     "text": [
      "-------------\n",
      "| | | | | | |\n",
      "| |o|o| | | |\n",
      "| |x|x| | | |\n",
      "| |x|x| | | |\n",
      "|o|o|o| | | |\n",
      "-------------\n"
     ]
    },
    {
     "data": {
      "text/plain": [
       "(1, 3)"
      ]
     },
     "metadata": {},
     "output_type": "display_data"
    },
    {
     "name": "stdout",
     "output_type": "stream",
     "text": [
      "Wall time: 5min 43s\n"
     ]
    }
   ],
   "source": [
    "%%time\n",
    "board = empty_board(shape = (5,6))\n",
    "place_piece(board, col=2, player= 'o')\n",
    "place_piece(board, col=2, player= 'x')\n",
    "place_piece(board, col=1, player= 'o')\n",
    "place_piece(board, col=1, player= 'x')\n",
    "place_piece(board, col=0, player= 'o')\n",
    "place_piece(board, col=1, player= 'x')\n",
    "place_piece(board, col=1, player= 'o')\n",
    "place_piece(board, col=2, player= 'x')\n",
    "place_piece(board, col=2, player= 'o')\n",
    "pretty_board(board)\n",
    "DEBUG = 0\n",
    "display(alpha_be\n",
    "        ta_search(board, player='x'))"
   ]
  },
  {
   "cell_type": "code",
   "execution_count": 25,
   "metadata": {},
   "outputs": [
    {
     "name": "stdout",
     "output_type": "stream",
     "text": [
      "-------------\n",
      "| | | | | | |\n",
      "| |x|x| | | |\n",
      "|x|o|o| | | |\n",
      "|o|o|o| | | |\n",
      "|x|x|x| | | |\n",
      "-------------\n"
     ]
    },
    {
     "data": {
      "text/plain": [
       "(1, 0)"
      ]
     },
     "metadata": {},
     "output_type": "display_data"
    },
    {
     "name": "stdout",
     "output_type": "stream",
     "text": [
      "Wall time: 1min 18s\n"
     ]
    }
   ],
   "source": [
    "%%time\n",
    "board = empty_board(shape = (5,6))\n",
    "place_piece(board, col=2, player= 'x')\n",
    "place_piece(board, col=2, player= 'o')\n",
    "place_piece(board, col=1, player= 'x')\n",
    "place_piece(board, col=1, player= 'o')\n",
    "place_piece(board, col=0, player= 'x')\n",
    "place_piece(board, col=1, player= 'o')\n",
    "place_piece(board, col=1, player= 'x')\n",
    "place_piece(board, col=2, player= 'o')\n",
    "place_piece(board, col=2, player= 'x')\n",
    "place_piece(board, col=0, player= 'o')\n",
    "place_piece(board, col=0, player= 'x')\n",
    "pretty_board(board)\n",
    "DEBUG = 0\n",
    "display(alpha_beta_search(board, player='x'))"
   ]
  },
  {
   "cell_type": "markdown",
   "metadata": {},
   "source": [
    "How long does it take to make a move? Start with a smaller board with 4 columns and make the board larger by adding columns."
   ]
  },
  {
   "cell_type": "code",
   "execution_count": null,
   "metadata": {},
   "outputs": [],
   "source": [
    "# Your code/ answer goes here.\n",
    "board = empty_board(shape=(5,4))\n",
    "display(alpha_beta_search(board, player='x'))"
   ]
  },
  {
   "cell_type": "markdown",
   "metadata": {},
   "source": [
    "### Move ordering\n",
    "\n",
    "Describe and implement a simple move ordering strategy. How does this strategy influence the time it takes to \n",
    "make a move?"
   ]
  },
  {
   "cell_type": "code",
   "execution_count": 8,
   "metadata": {},
   "outputs": [],
   "source": [
    "# Your code/ answer goes here."
   ]
  },
  {
   "cell_type": "markdown",
   "metadata": {},
   "source": [
    "### Playtime\n",
    "\n",
    "Let the Minimax Search agent play a random agent on a small board. Analyze wins, losses and draws."
   ]
  },
  {
   "cell_type": "code",
   "execution_count": 9,
   "metadata": {},
   "outputs": [],
   "source": [
    "# Your code/ answer goes here."
   ]
  },
  {
   "cell_type": "markdown",
   "metadata": {},
   "source": [
    "## Task 4: Heuristic Alpha-Beta Tree Search [3 points] \n",
    "\n",
    "### Heuristic evaluation function\n",
    "\n",
    "Define and implement a heuristic evaluation function."
   ]
  },
  {
   "cell_type": "code",
   "execution_count": 10,
   "metadata": {},
   "outputs": [],
   "source": [
    "# Your code/ answer goes here."
   ]
  },
  {
   "cell_type": "markdown",
   "metadata": {},
   "source": [
    "### Cutting off search \n",
    "\n",
    "Modify your Minimax Search with Alpha-Beta Pruning to cut off search at a specified depth and use the heuristic evaluation function. Experiment with different cutoff values."
   ]
  },
  {
   "cell_type": "code",
   "execution_count": 11,
   "metadata": {},
   "outputs": [],
   "source": [
    "# Your code/ answer goes here."
   ]
  },
  {
   "cell_type": "markdown",
   "metadata": {},
   "source": [
    "Experiment with the same manually created boards as above to check if the agent spots wining opportunities."
   ]
  },
  {
   "cell_type": "code",
   "execution_count": 12,
   "metadata": {},
   "outputs": [],
   "source": [
    "# Your code/ answer goes here."
   ]
  },
  {
   "cell_type": "markdown",
   "metadata": {},
   "source": [
    "How long does it take to make a move? Start with a smaller board with 4 columns and make the board larger by adding columns."
   ]
  },
  {
   "cell_type": "code",
   "execution_count": 13,
   "metadata": {},
   "outputs": [],
   "source": [
    "# Your code/ answer goes here."
   ]
  },
  {
   "cell_type": "markdown",
   "metadata": {},
   "source": [
    "### Forward Pruning\n",
    "\n",
    "Add forward pruning to the cutoff search where you do not consider moves that have a low evaluation value after a shallow search \n",
    "(way smaller than the cuttoff value)."
   ]
  },
  {
   "cell_type": "code",
   "execution_count": 14,
   "metadata": {},
   "outputs": [],
   "source": [
    "# Your code/ answer goes here."
   ]
  },
  {
   "cell_type": "markdown",
   "metadata": {},
   "source": [
    "How long does it take to make a move? Start with a smaller board with 4 columns and make the board larger by adding columns."
   ]
  },
  {
   "cell_type": "code",
   "execution_count": 15,
   "metadata": {},
   "outputs": [],
   "source": [
    "# Your code/ answer goes here."
   ]
  },
  {
   "cell_type": "markdown",
   "metadata": {},
   "source": [
    "### Playtime\n",
    "\n",
    "Let two heuristic search agents (different cutoff depth, different heuristic evaluation function or different forward pruning) compete against each other on a reasonably sized board. Since there is no randomness, you only need to let them play once."
   ]
  },
  {
   "cell_type": "code",
   "execution_count": 16,
   "metadata": {},
   "outputs": [],
   "source": [
    "# Your code/ answer goes here."
   ]
  },
  {
   "cell_type": "markdown",
   "metadata": {},
   "source": [
    "## Challenge task [+ 1 bonus point]\n",
    "\n",
    "Find another student and let your best agent play against the other student's best player. We will set up a class tournament on Canvas. This tournament will continue after the submission deadline."
   ]
  },
  {
   "cell_type": "markdown",
   "metadata": {},
   "source": [
    "## Graduate student advanced task: Pure Monte Carlo Search and Best First Move [1 point]\n",
    "\n",
    "__Undergraduate students:__ This is a bonus task you can attempt if you like [+1 Bonus point].\n",
    "\n",
    "### Pure Monte Carlos Search\n",
    "\n",
    "Implement Pure Monte Carlo Search and investigate how this search performs on the test boards that you have used above. "
   ]
  },
  {
   "cell_type": "code",
   "execution_count": 17,
   "metadata": {},
   "outputs": [],
   "source": [
    "# Your code/ answer goes here."
   ]
  },
  {
   "cell_type": "markdown",
   "metadata": {},
   "source": [
    "### Best First Move\n",
    "\n",
    "How would you determine what the best first move is? You can use Pure Monte Carlo Search or any algorithms \n",
    "that you have implemented above."
   ]
  },
  {
   "cell_type": "code",
   "execution_count": 18,
   "metadata": {},
   "outputs": [],
   "source": [
    "# Your code/ answer goes here."
   ]
  },
  {
   "cell_type": "code",
   "execution_count": 160,
   "metadata": {},
   "outputs": [],
   "source": [
    "def basic_utility(board, player='x'):\n",
    "    series = get_all_series(board)\n",
    "    util = 0\n",
    "    for s in series:\n",
    "        as_string = \"\"\n",
    "        as_string = as_string.join(s)\n",
    "        # points for xxx\n",
    "        \n",
    "        idx = as_string.find('xxx')\n",
    "        while idx >= 0:\n",
    "            if idx-1 >= 0 and as_string[idx-1] == ' ':\n",
    "                util += 3\n",
    "            if idx >= 0 and idx+3 < len(as_string) and as_string[idx+3] == ' ':\n",
    "                util += 3\n",
    "            print(idx, as_string, util)\n",
    "            idx = as_string.find('xxx', idx+3)\n",
    "            \n",
    "        #points for xx\n",
    "        idx = as_string.find('xx')\n",
    "        while idx >= 0:\n",
    "            if idx-1 >= 0 and as_string[idx-1] == player:\n",
    "                idx = as_string.find('xx', idx+2)\n",
    "                continue\n",
    "            if idx+2 < len(as_string) and as_string[idx+2] == player:\n",
    "                idx = as_string.find('xx', idx+2)\n",
    "                continue\n",
    "            if idx-1 >= 0 and as_string[idx-1] == ' ':\n",
    "                util += 2\n",
    "            if idx > 0 and idx+2 < len(as_string) and as_string[idx+2] == ' ':\n",
    "                util += 2\n",
    "            idx = as_string.find('xx', idx+2)\n",
    "    return util"
   ]
  }
 ],
 "metadata": {
  "kernelspec": {
   "display_name": "Python 3",
   "language": "python",
   "name": "python3"
  },
  "language_info": {
   "codemirror_mode": {
    "name": "ipython",
    "version": 3
   },
   "file_extension": ".py",
   "mimetype": "text/x-python",
   "name": "python",
   "nbconvert_exporter": "python",
   "pygments_lexer": "ipython3",
   "version": "3.7.9"
  }
 },
 "nbformat": 4,
 "nbformat_minor": 4
}
