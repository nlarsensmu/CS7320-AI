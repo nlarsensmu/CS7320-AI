{
 "cells": [
  {
   "cell_type": "markdown",
   "metadata": {},
   "source": [
    "# Adversarial Search: Playing Connect 4\n",
    "\n",
    "\n",
    "## Instructions\n",
    "\n",
    "Total Points: Undegraduates 10, graduate students 11\n",
    "\n",
    "Complete this notebook and submit it. The notebook needs to be a complete project report with your implementation, documentation including a short discussion of how your implementation works and your design choices, and experimental results (e.g., tables and charts with simulation results) with a short discussion of what they mean. Use the provided notebook cells and insert additional code and markdown cells as needed.\n",
    "\n",
    "## Introduction\n",
    "\n",
    "You will implement different versions of agents that play Connect 4:\n",
    "\n",
    "> \"Connect 4 is a two-player connection board game, in which the players choose a color and then take turns dropping colored discs into a seven-column, six-row vertically suspended grid. The pieces fall straight down, occupying the lowest available space within the column. The objective of the game is to be the first to form a horizontal, vertical, or diagonal line of four of one's own discs.\" (see [Connect Four on Wikipedia](https://en.wikipedia.org/wiki/Connect_Four))"
   ]
  },
  {
   "cell_type": "markdown",
   "metadata": {},
   "source": [
    "## Task 1: Defining the Search Problem [1 point]\n",
    "\n",
    "Define the components of the search problem:\n",
    "\n",
    "* Initial state - The initial state is \n",
    "* Actions - A column number for where the player drops their playing piece. It will fall to the lowest open place for that column.\n",
    "* Transition model - Place a piece in the column that was selected by the player\n",
    "* Goal state - Create 4 pieces in a row"
   ]
  },
  {
   "cell_type": "markdown",
   "metadata": {},
   "source": [
    "\n",
    "\n",
    "* **Initial state** - The initial state is \n",
    "* **Actions** - A column number for where the player drops their playing piece. It will fall to the lowest open place for that column.\n",
    "* **Transition model** - Place a piece in the column that was selected by the player\n",
    "* **Goal state** - Create 4 pieces in a row"
   ]
  },
  {
   "cell_type": "markdown",
   "metadata": {},
   "source": [
    "How big is the search space?"
   ]
  },
  {
   "cell_type": "markdown",
   "metadata": {},
   "source": [
    "TODO: calculate this state space"
   ]
  },
  {
   "cell_type": "markdown",
   "metadata": {},
   "source": [
    "__Note:__ The search space for a $6 \\times 7$ board is large. You can experiment with smaller boards (the smallest is $4 times \\4$) and/or changing the winning rule to connect 3 instead of 4."
   ]
  },
  {
   "cell_type": "markdown",
   "metadata": {},
   "source": [
    "## Task 2: Game Environment and Random Agent [2 point]\n",
    "\n",
    "Use a numpy character array as the board."
   ]
  },
  {
   "cell_type": "code",
   "execution_count": 1,
   "metadata": {},
   "outputs": [
    {
     "name": "stdout",
     "output_type": "stream",
     "text": [
      "[[' ' ' ' ' ' ' ' ' ' ' ' ' ']\n",
      " [' ' ' ' ' ' ' ' ' ' ' ' ' ']\n",
      " [' ' ' ' ' ' ' ' ' ' ' ' ' ']\n",
      " [' ' ' ' ' ' ' ' ' ' ' ' ' ']\n",
      " [' ' ' ' ' ' ' ' ' ' ' ' ' ']\n",
      " [' ' ' ' ' ' ' ' ' ' ' ' ' ']]\n"
     ]
    }
   ],
   "source": [
    "import numpy as np\n",
    "\n",
    "def empty_board(shape=(6, 7)):\n",
    "    return np.full(shape=shape, fill_value=' ')\n",
    "\n",
    "def fill_board(board):\n",
    "    s = '0123456789ABCDEFGHIJKLMNOPQRSTUVWXYZ'\n",
    "    i = 0\n",
    "    for row in range(len(board)):\n",
    "        for col in range(len(board[0])):\n",
    "            board[row][col] = s[i%len(s)]\n",
    "            i+=1\n",
    "\n",
    "print(empty_board())"
   ]
  },
  {
   "cell_type": "markdown",
   "metadata": {},
   "source": [
    "Instead of colors for the players use 'x' and 'o' to represent the players. Make sure that your agent functions all have the from: `agent_type(board, player = 'x')`, where board is the current board position and player is the player whose next move it is and who the agent should play."
   ]
  },
  {
   "cell_type": "markdown",
   "metadata": {},
   "source": [
    "Implement the board and helper functions for:\n",
    "\n",
    "* The transition model (result).\n",
    "* The utility function.\n",
    "* Check for terminal states.\n",
    "* A check for available actions.\n",
    "* A function to visualize the board.\n",
    "\n",
    "Make sure that all these functions work with boards of different sizes.\n",
    "\n",
    "Implement an agent that plays randomly and let two random agents play against each other 1000 times. How often does each player win? Is the result expected? "
   ]
  },
  {
   "cell_type": "code",
   "execution_count": 26,
   "metadata": {},
   "outputs": [],
   "source": [
    "import random\n",
    "\n",
    "def flip_player(player):\n",
    "    if player == 'x':\n",
    "        return 'o'\n",
    "    else:\n",
    "        return 'x'\n",
    "    \n",
    "def actions(board):\n",
    "    options = []\n",
    "    for col in range(0, len(board[0])):\n",
    "        if board[0][col] == ' ':\n",
    "            options.append(col)\n",
    "    return options\n",
    "\n",
    "def random_order_actions(board):\n",
    "    options = actions(board)\n",
    "    random.shuffle(options)\n",
    "    return options\n",
    "\n",
    "def agent_random(board, player = 'x'):\n",
    "    options = actions(board)\n",
    "    if len(options) == 0:\n",
    "        return None\n",
    "    return random.choice(options)\n",
    "            \n",
    "# Environment methods\n",
    "def place_piece(board, col, player='x'):\n",
    "    \"\"\"Place the player piece in the col on the board\"\"\"\n",
    "    if board[0][col] != ' ':\n",
    "        return False\n",
    "    \n",
    "    next_open_row = len(board) - 1 # if the col is empty use the bottom row\n",
    "    for row in range(0, len(board)):\n",
    "        if board[row][col] != ' ':\n",
    "            next_open_row = row - 1\n",
    "            break\n",
    "            \n",
    "    board[next_open_row][col] = player\n",
    "\n",
    "\n",
    "def result(board, player, action):\n",
    "    board_copy = board.copy()\n",
    "    place_piece(board_copy, action, player)\n",
    "    return board_copy\n",
    "\n",
    "\n",
    "# TODO: Optimize this\n",
    "def check_series_for_winner(series):\n",
    "    \"\"\"Check if this line (could be anywhere)\n",
    "    has 4 in a row\"\"\"\n",
    "    count = 0\n",
    "    prev = ' '\n",
    "    for current_space in series:\n",
    "        if current_space != ' ' and current_space == prev:\n",
    "            count += 1\n",
    "        elif current_space != ' ' and current_space != prev:\n",
    "            count = 1\n",
    "            prev = current_space\n",
    "        elif current_space == ' ':\n",
    "            prev = ' '\n",
    "            count = 0\n",
    "        \n",
    "        if count == 4:\n",
    "            return prev\n",
    "\n",
    "def get_all_series(board):\n",
    "    \"\"\"Get all of the rows/cols/diags that could be winning streaks\"\"\"\n",
    "    num_cols = len(board[0])\n",
    "    num_rows = len(board)\n",
    "    \n",
    "    runs = []\n",
    "    for row in range(0, num_rows):\n",
    "        runs.append(board[row])\n",
    "    for col in range(0, num_cols):\n",
    "        runs.append(board[:,col])\n",
    "        \n",
    "    for offset in range(1-num_rows, num_cols):\n",
    "        runs.append(np.diagonal(board, offset=offset))\n",
    "        runs.append(np.diagonal(np.fliplr(board), offset=offset))\n",
    "    # get all diags\n",
    "    max_row_cols = max(num_rows, num_cols)\n",
    "\n",
    "    return runs\n",
    "\n",
    "def terminal(board):\n",
    "    \"\"\"Determine if a player has won\"\"\"\n",
    "    num_cols = len(board[0])\n",
    "    num_rows = len(board)\n",
    "    if len(actions(board)) == 0:\n",
    "        return 'c'\n",
    "    \n",
    "    series = get_all_series(board)\n",
    "    for s in series:\n",
    "        winner = check_series_for_winner(s)\n",
    "        if winner is not None:\n",
    "            return winner\n",
    "    return ' '\n",
    "\n",
    "def utility(board, player = 'x'):\n",
    "    \"\"\"check is a state a terminal state, return the utility if it is.\n",
    "    None means not terminal\"\"\"\n",
    "    \n",
    "    winner = terminal(board)\n",
    "    if winner == player:\n",
    "        return +1\n",
    "    if winner == flip_player(player):\n",
    "        return -1\n",
    "    if winner == 'c':\n",
    "        return 0\n",
    "    return None\n",
    "\n",
    "def play_list_plays(moves, board, starting_player='x'):\n",
    "    for move in moves:\n",
    "        place_piece(board=board, player=starting_player, col=move)\n",
    "        starting_player = flip_player(starting_player)"
   ]
  },
  {
   "cell_type": "code",
   "execution_count": 27,
   "metadata": {},
   "outputs": [],
   "source": [
    "def pretty_board(board):\n",
    "    for i in range(0,board.shape[1]+board.shape[1]+1):\n",
    "        print('-',end='')\n",
    "    print()\n",
    "    for row in board:\n",
    "        print('|', end='')\n",
    "        for piece in row:\n",
    "            print(piece, end='')\n",
    "            print('|',end='')\n",
    "        print() \n",
    "    for i in range(0,board.shape[1]+board.shape[1]+1):\n",
    "        print('-',end='')\n",
    "    print()"
   ]
  },
  {
   "cell_type": "code",
   "execution_count": 4,
   "metadata": {},
   "outputs": [],
   "source": [
    "\n",
    "def play_game(player_x, player_o, board_shape = (6, 7), verbose=False):\n",
    "    players_turn = 'x'\n",
    "    \n",
    "    board = empty_board(board_shape)\n",
    "    while True:\n",
    "        col = -1\n",
    "        if players_turn == 'x':\n",
    "            col = player_x(board, players_turn)\n",
    "        else:\n",
    "            col = player_o(board, players_turn)\n",
    "        #place_piece(board, col, players_turn)\n",
    "        board = result(board=board, player=players_turn, action=col)\n",
    "        if verbose:\n",
    "            print('Player: ', players_turn, 'placing in col', col)\n",
    "        winner = terminal(board)\n",
    "        if winner == 'c':\n",
    "            return ('c', board)\n",
    "        elif winner != ' ':\n",
    "            return (players_turn, board)\n",
    "        \n",
    "        players_turn = flip_player(players_turn)\n"
   ]
  },
  {
   "cell_type": "markdown",
   "metadata": {},
   "source": [
    "### Test Utility"
   ]
  },
  {
   "cell_type": "code",
   "execution_count": 5,
   "metadata": {},
   "outputs": [
    {
     "name": "stdout",
     "output_type": "stream",
     "text": [
      "---------------\n",
      "| | | | | | | |\n",
      "| | | | | | | |\n",
      "| | | | | | | |\n",
      "| | | | | | | |\n",
      "| | | | | | | |\n",
      "| | | | | | | |\n",
      "---------------\n",
      "None\n",
      "---------------\n",
      "| | | | | | | |\n",
      "| | | | | | | |\n",
      "| | | |x| | | |\n",
      "| | | |x| | | |\n",
      "| | | |x| | | |\n",
      "|o|o|o|x| | | |\n",
      "---------------\n",
      "x: 1 o: -1\n",
      "---------------\n",
      "| | | | | | | |\n",
      "| | | | | | | |\n",
      "| | | |x| | | |\n",
      "| | |x|o| | | |\n",
      "| |x|o|x| | | |\n",
      "|x|o|o|x| |o| |\n",
      "---------------\n",
      "x: 1 o: -1\n",
      "---------------\n",
      "| | | | | | | |\n",
      "| | | | | | | |\n",
      "| | | |o| | | |\n",
      "| | |o|x| | | |\n",
      "| |o|x|o| | | |\n",
      "|o|x|x|o| |x| |\n",
      "---------------\n",
      "x: -1 o: 1\n",
      "x: None o: None\n"
     ]
    }
   ],
   "source": [
    "board = empty_board()\n",
    "pretty_board(board)\n",
    "print(utility(board))\n",
    "play_list_plays([3,2,3,1,3,0,3], board)\n",
    "pretty_board(board)\n",
    "print('x:', utility(board, player='x'), 'o:', utility(board, player='o'))\n",
    "board = empty_board()\n",
    "play_list_plays([0,1,1,2,3,2,2,5,3,3,3], board)\n",
    "pretty_board(board)\n",
    "print('x:', utility(board, player='x'), 'o:', utility(board, player='o'))\n",
    "board = empty_board()\n",
    "play_list_plays([0,1,1,2,3,2,2,5,3,3,3], board, starting_player='o')\n",
    "pretty_board(board)\n",
    "print('x:', utility(board, player='x'), 'o:', utility(board, player='o'))\n",
    "board = empty_board(shape = (5,6))\n",
    "play_list_plays([2,2,1,1,0,1,1,2,2,0,0], board)\n",
    "print('x:', utility(board, player='x'), 'o:', utility(board, player='x'))"
   ]
  },
  {
   "cell_type": "markdown",
   "metadata": {},
   "source": [
    "### Random V Random"
   ]
  },
  {
   "cell_type": "code",
   "execution_count": 6,
   "metadata": {},
   "outputs": [
    {
     "name": "stdout",
     "output_type": "stream",
     "text": [
      "X won: 535 |O won 463 |Cat games 2\n"
     ]
    }
   ],
   "source": [
    "x_ct = 0\n",
    "o_ct = 0\n",
    "c_ct = 0\n",
    "games = []\n",
    "for i in range(1000):\n",
    "    game = play_game(agent_random, agent_random, verbose=False)\n",
    "    winner = game[0]\n",
    "    if winner == 'x':\n",
    "        x_ct += 1\n",
    "    elif winner == 'o':\n",
    "        o_ct += 1\n",
    "    elif winner == 'c':\n",
    "        c_ct += 1\n",
    "    games.append(game)\n",
    "print('X won:', x_ct, '|O won', o_ct, '|Cat games', c_ct)"
   ]
  },
  {
   "cell_type": "markdown",
   "metadata": {},
   "source": [
    "## Task 3: Minimax Search with Alpha-Beta Pruning [4 points]\n",
    "\n",
    "### Implement the search starting from a given board and specifying the player."
   ]
  },
  {
   "cell_type": "code",
   "execution_count": 58,
   "metadata": {},
   "outputs": [],
   "source": [
    "import math\n",
    "import random\n",
    "DEBUG = 1 # 1 ... count nodes, 2 ... debug each node\n",
    "COUNT = 0\n",
    "def alpha_beta_search(board, player='x', actions=random_order_actions):\n",
    "    global DEBUG, COUNT\n",
    "    COUNT = 0\n",
    "    \n",
    "    value, move = max_value_ab(board, player, -math.inf, +math.inf, actions=actions)\n",
    "    \n",
    "    if DEBUG >= 1: print(f\"Number of nodes searched: {COUNT}\") \n",
    "        \n",
    "    return value, move\n",
    "\n",
    "def max_value_ab(board, player, alpha, beta, actions=actions):\n",
    "    \"\"\"Player's best move\"\"\"\n",
    "    v = utility(board, player)\n",
    "    global DEBUG, COUNT\n",
    "    COUNT += 1\n",
    "    if DEBUG >= 2:\n",
    "        print(\"max: \\n\" + str(board) + str([alpha, beta, v])) \n",
    "    if v is not None: return v, None\n",
    "    \n",
    "    v, move = -math.inf, None\n",
    "    \n",
    "    moves = actions(board)\n",
    "    for a in moves:\n",
    "        v2, a2 = min_value_ab(result(board, player, a), player, alpha, beta, actions=actions)\n",
    "        if v2 > v:\n",
    "            v, move = v2, a\n",
    "            alpha = max(alpha, v)\n",
    "        if v >= beta:\n",
    "            return v, move\n",
    "    return v, move\n",
    "\n",
    "def min_value_ab(board, player, alpha, beta, actions=actions):\n",
    "    \"\"\"opponent's best response\"\"\"\n",
    "    global DEBUG, COUNT\n",
    "    COUNT += 1\n",
    "    \n",
    "    #return utility if state is terminal state\n",
    "    v = utility(board, player)\n",
    "    if DEBUG >= 2: print(\"min: \\n\" + str(board) + str([alpha, beta, v]))\n",
    "    if v is not None: return v, None\n",
    "    \n",
    "    v, move = +math.inf, None\n",
    "    \n",
    "    moves = actions(board)\n",
    "    for a in moves:\n",
    "        v2, a2 = max_value_ab(result(board, flip_player(player), a),player,alpha,beta, actions=actions)\n",
    "        if v2 < v:\n",
    "            v, move = v2, a\n",
    "            beta = min(beta, v)\n",
    "        if v <= alpha:\n",
    "            return v, move\n",
    "        \n",
    "    return v, move"
   ]
  },
  {
   "cell_type": "markdown",
   "metadata": {},
   "source": [
    "Experiment with some manually created boards (at least 5) to check if the agent spots wining opportunities."
   ]
  },
  {
   "cell_type": "markdown",
   "metadata": {},
   "source": [
    "### Find winning move"
   ]
  },
  {
   "cell_type": "code",
   "execution_count": 44,
   "metadata": {},
   "outputs": [
    {
     "name": "stdout",
     "output_type": "stream",
     "text": [
      "-----------\n",
      "| |x| | | |\n",
      "| |o|o| | |\n",
      "| |o|o| | |\n",
      "|x|x|x| | |\n",
      "-----------\n"
     ]
    },
    {
     "data": {
      "text/plain": [
       "(1, 3)"
      ]
     },
     "metadata": {},
     "output_type": "display_data"
    },
    {
     "name": "stdout",
     "output_type": "stream",
     "text": [
      "Wall time: 93 ms\n"
     ]
    }
   ],
   "source": [
    "%%time\n",
    "board = empty_board(shape = (4,5))\n",
    "moves = [2,2,1,1,0,1,1,2]\n",
    "play_list_plays(moves, board)\n",
    "pretty_board(board)\n",
    "DEBUG = 0\n",
    "display(alpha_beta_search(board, player='x'))"
   ]
  },
  {
   "cell_type": "markdown",
   "metadata": {},
   "source": [
    "### Play through this game (1)"
   ]
  },
  {
   "cell_type": "code",
   "execution_count": 45,
   "metadata": {},
   "outputs": [
    {
     "name": "stdout",
     "output_type": "stream",
     "text": [
      "---------\n",
      "| | | | |\n",
      "| | | | |\n",
      "| | | |o|\n",
      "| |x|x|o|\n",
      "|x|o|o|x|\n",
      "---------\n"
     ]
    },
    {
     "data": {
      "text/plain": [
       "(1, 3)"
      ]
     },
     "metadata": {},
     "output_type": "display_data"
    },
    {
     "name": "stdout",
     "output_type": "stream",
     "text": [
      "Wall time: 208 ms\n"
     ]
    }
   ],
   "source": [
    "%%time\n",
    "board = empty_board(shape = (5,4))\n",
    "moves = [0,1,1,2,3,3,2,3]\n",
    "play_list_plays(moves, board)\n",
    "pretty_board(board)\n",
    "display(alpha_beta_search(board, player='x'))"
   ]
  },
  {
   "cell_type": "code",
   "execution_count": 46,
   "metadata": {},
   "outputs": [
    {
     "name": "stdout",
     "output_type": "stream",
     "text": [
      "---------\n",
      "| | | | |\n",
      "| | | |x|\n",
      "| | | |o|\n",
      "| |x|x|o|\n",
      "|x|o|o|x|\n",
      "---------\n"
     ]
    },
    {
     "data": {
      "text/plain": [
       "(-1, 1)"
      ]
     },
     "metadata": {},
     "output_type": "display_data"
    },
    {
     "name": "stdout",
     "output_type": "stream",
     "text": [
      "Wall time: 97 ms\n"
     ]
    }
   ],
   "source": [
    "%%time\n",
    "board = empty_board(shape = (5,4))\n",
    "moves = [0,1,1,2,3,3,2,3,3]\n",
    "play_list_plays(moves, board)\n",
    "pretty_board(board)\n",
    "display(alpha_beta_search(board, player='o'))"
   ]
  },
  {
   "cell_type": "code",
   "execution_count": 47,
   "metadata": {},
   "outputs": [
    {
     "name": "stdout",
     "output_type": "stream",
     "text": [
      "---------\n",
      "| | | |o|\n",
      "| | | |x|\n",
      "| | | |o|\n",
      "| |x|x|o|\n",
      "|x|o|o|x|\n",
      "---------\n"
     ]
    },
    {
     "data": {
      "text/plain": [
       "(1, 2)"
      ]
     },
     "metadata": {},
     "output_type": "display_data"
    },
    {
     "name": "stdout",
     "output_type": "stream",
     "text": [
      "Wall time: 15 ms\n"
     ]
    }
   ],
   "source": [
    "%%time\n",
    "board = empty_board(shape = (5,4))\n",
    "moves = [0,1,1,2,3,3,2,3,3,3]\n",
    "play_list_plays(moves, board)\n",
    "pretty_board(board)\n",
    "display(alpha_beta_search(board, player='x'))"
   ]
  },
  {
   "cell_type": "code",
   "execution_count": 48,
   "metadata": {},
   "outputs": [
    {
     "name": "stdout",
     "output_type": "stream",
     "text": [
      "---------\n",
      "| | | |o|\n",
      "| | | |x|\n",
      "| |x| |o|\n",
      "| |x|x|o|\n",
      "|x|o|o|x|\n",
      "---------\n"
     ]
    },
    {
     "data": {
      "text/plain": [
       "(-1, 1)"
      ]
     },
     "metadata": {},
     "output_type": "display_data"
    },
    {
     "name": "stdout",
     "output_type": "stream",
     "text": [
      "Wall time: 15 ms\n"
     ]
    }
   ],
   "source": [
    "%%time\n",
    "board = empty_board(shape = (5,4))\n",
    "moves = [0,1,1,2,3,3,2,3,3,3,1]\n",
    "play_list_plays(moves, board)\n",
    "pretty_board(board)\n",
    "display(alpha_beta_search(board, player='o'))"
   ]
  },
  {
   "cell_type": "code",
   "execution_count": 49,
   "metadata": {},
   "outputs": [
    {
     "name": "stdout",
     "output_type": "stream",
     "text": [
      "---------\n",
      "| | | |o|\n",
      "| | | |x|\n",
      "| |x| |o|\n",
      "|o|x|x|o|\n",
      "|x|o|o|x|\n",
      "---------\n"
     ]
    },
    {
     "data": {
      "text/plain": [
       "(1, 1)"
      ]
     },
     "metadata": {},
     "output_type": "display_data"
    },
    {
     "name": "stdout",
     "output_type": "stream",
     "text": [
      "Wall time: 12 ms\n"
     ]
    }
   ],
   "source": [
    "%%time\n",
    "board = empty_board(shape = (5,4))\n",
    "moves = [0,1,1,2,3,3,2,3,3,3,1,0]\n",
    "play_list_plays(moves, board)\n",
    "pretty_board(board)\n",
    "display(alpha_beta_search(board, player='x'))"
   ]
  },
  {
   "cell_type": "code",
   "execution_count": 50,
   "metadata": {},
   "outputs": [
    {
     "name": "stdout",
     "output_type": "stream",
     "text": [
      "---------\n",
      "| | | |o|\n",
      "| | | |x|\n",
      "| |x|x|o|\n",
      "|o|x|x|o|\n",
      "|x|o|o|x|\n",
      "---------\n",
      "Wall time: 6 ms\n"
     ]
    }
   ],
   "source": [
    "%%time\n",
    "board = empty_board(shape = (5,4))\n",
    "moves = [0,1,1,2,3,3,2,3,3,3,1,0,2]\n",
    "play_list_plays(moves, board)\n",
    "pretty_board(board)\n"
   ]
  },
  {
   "cell_type": "markdown",
   "metadata": {},
   "source": [
    "TODO: Discuss why this is okay, and iven though it doesn't place in the obvious win column, it knows it will end up winning so it takes it."
   ]
  },
  {
   "cell_type": "markdown",
   "metadata": {},
   "source": [
    "### Play through this game (2)"
   ]
  },
  {
   "cell_type": "code",
   "execution_count": 51,
   "metadata": {
    "scrolled": true
   },
   "outputs": [
    {
     "name": "stdout",
     "output_type": "stream",
     "text": [
      "-----------\n",
      "| | | | | |\n",
      "| |x|x| | |\n",
      "| |o|o| | |\n",
      "| |o|o| | |\n",
      "|x|x|x| | |\n",
      "-----------\n",
      "Number of nodes searched: 25516\n"
     ]
    },
    {
     "data": {
      "text/plain": [
       "(1, 3)"
      ]
     },
     "metadata": {},
     "output_type": "display_data"
    },
    {
     "name": "stdout",
     "output_type": "stream",
     "text": [
      "Wall time: 2.29 s\n"
     ]
    }
   ],
   "source": [
    "%%time\n",
    "board = empty_board(shape = (5,5))\n",
    "play_list_plays(moves=[2,2,1,1,0,1,1,2,2],\n",
    "                board=board,\n",
    "                starting_player='x')\n",
    "pretty_board(board)\n",
    "DEBUG = 1\n",
    "display(alpha_beta_search(board, player='o'))"
   ]
  },
  {
   "cell_type": "markdown",
   "metadata": {},
   "source": [
    "### Next test"
   ]
  },
  {
   "cell_type": "markdown",
   "metadata": {},
   "source": [
    "TODO: Add more tests"
   ]
  },
  {
   "cell_type": "markdown",
   "metadata": {},
   "source": [
    "## How long does it take to decide the first move?"
   ]
  },
  {
   "cell_type": "code",
   "execution_count": 16,
   "metadata": {
    "scrolled": true
   },
   "outputs": [
    {
     "name": "stdout",
     "output_type": "stream",
     "text": [
      "Number of nodes searched: 84003\n"
     ]
    },
    {
     "data": {
      "text/plain": [
       "(0, 3)"
      ]
     },
     "metadata": {},
     "output_type": "display_data"
    },
    {
     "name": "stdout",
     "output_type": "stream",
     "text": [
      "Wall time: 5.47 s\n"
     ]
    }
   ],
   "source": [
    "%%time\n",
    "DEBUG = 1\n",
    "board = empty_board(shape=(4,4))\n",
    "display(alpha_beta_search(board, player='x'))"
   ]
  },
  {
   "cell_type": "markdown",
   "metadata": {},
   "source": [
    "TODO: Add more tests on bigger empty boards"
   ]
  },
  {
   "cell_type": "markdown",
   "metadata": {},
   "source": [
    "### Move ordering\n",
    "\n",
    "My move ordering will explore the paths in the center before other moves. \n",
    "* actions_middle_first\n",
    " * Returns the middle actions first if they are available"
   ]
  },
  {
   "cell_type": "code",
   "execution_count": 19,
   "metadata": {},
   "outputs": [
    {
     "name": "stdout",
     "output_type": "stream",
     "text": [
      "[2, 3, 1, 0]\n",
      "[2, 3, 1, 4, 0]\n",
      "[2, 3, 1, 4]\n"
     ]
    }
   ],
   "source": [
    "def actions_middle_first(board):\n",
    "    \"\"\"Return the option of moves in the order starting with the middle\"\"\"\n",
    "    moves = actions(board) # the moves in order\n",
    "    num_cols = board.shape[1]\n",
    "    new_order = []\n",
    "    if board[0][num_cols//2] == ' ':\n",
    "        new_order.append(num_cols//2)\n",
    "    for i in range(1, num_cols//2+1):\n",
    "        idx = (num_cols//2) + i\n",
    "        if idx < num_cols and board[0][idx] == ' ':\n",
    "            new_order.append(idx)\n",
    "        idx = (num_cols//2) - i\n",
    "        if idx >= 0 and board[0][idx] == ' ':\n",
    "            new_order.append(idx)\n",
    "    return new_order\n",
    "\n",
    "board = empty_board(shape=(4,4))\n",
    "print(actions_middle_first(board))\n",
    "board = empty_board(shape=(4,5))\n",
    "print(actions_middle_first(board))\n",
    "board = empty_board(shape=(4,5))\n",
    "play_list_plays([0,0,0,0], board)\n",
    "print(actions_middle_first(board))"
   ]
  },
  {
   "cell_type": "code",
   "execution_count": 20,
   "metadata": {
    "scrolled": true
   },
   "outputs": [
    {
     "name": "stdout",
     "output_type": "stream",
     "text": [
      "---------\n",
      "| | | | |\n",
      "| | | | |\n",
      "| | | | |\n",
      "| | | | |\n",
      "---------\n",
      "Number of nodes searched: 88544\n"
     ]
    },
    {
     "data": {
      "text/plain": [
       "(0, 3)"
      ]
     },
     "metadata": {},
     "output_type": "display_data"
    },
    {
     "name": "stdout",
     "output_type": "stream",
     "text": [
      "Wall time: 5.73 s\n"
     ]
    }
   ],
   "source": [
    "%%time\n",
    "board = empty_board(shape=(4,4))\n",
    "pretty_board(board)\n",
    "display(alpha_beta_search(board, player='x',actions=random_order_actions))"
   ]
  },
  {
   "cell_type": "code",
   "execution_count": 52,
   "metadata": {
    "scrolled": true
   },
   "outputs": [
    {
     "name": "stdout",
     "output_type": "stream",
     "text": [
      "Number of nodes searched: 54505\n"
     ]
    },
    {
     "data": {
      "text/plain": [
       "(0, 2)"
      ]
     },
     "metadata": {},
     "output_type": "display_data"
    },
    {
     "name": "stdout",
     "output_type": "stream",
     "text": [
      "Wall time: 3.59 s\n"
     ]
    }
   ],
   "source": [
    "%%time\n",
    "board = empty_board(shape=(4,4))\n",
    "display(alpha_beta_search(board, player='x',actions=actions_middle_first))"
   ]
  },
  {
   "cell_type": "code",
   "execution_count": 21,
   "metadata": {
    "scrolled": true
   },
   "outputs": [
    {
     "name": "stdout",
     "output_type": "stream",
     "text": [
      "Number of nodes searched: 5017045\n"
     ]
    },
    {
     "data": {
      "text/plain": [
       "(0, 2)"
      ]
     },
     "metadata": {},
     "output_type": "display_data"
    },
    {
     "name": "stdout",
     "output_type": "stream",
     "text": [
      "Wall time: 6min 9s\n"
     ]
    }
   ],
   "source": [
    "%%time\n",
    "board = empty_board(shape=(4,5))\n",
    "display(alpha_beta_search(board, player='x',actions=actions_middle_first))"
   ]
  },
  {
   "cell_type": "markdown",
   "metadata": {},
   "source": [
    "### Playtime\n",
    "\n",
    "Let the Minimax Search agent play a random agent on a small board. Analyze wins, losses and draws."
   ]
  },
  {
   "cell_type": "code",
   "execution_count": 140,
   "metadata": {},
   "outputs": [
    {
     "name": "stderr",
     "output_type": "stream",
     "text": [
      "Runs: 100/100"
     ]
    },
    {
     "name": "stdout",
     "output_type": "stream",
     "text": [
      "x won: 65 o won 0 tie  35\n"
     ]
    }
   ],
   "source": [
    "# Your code/ answer goes here.\n",
    "import sys\n",
    "def mini_max_ab_agent(baord, player='x'):\n",
    "    v, col = alpha_beta_search(board=board, player=player)\n",
    "\n",
    "def mini_max_ab_agent_middle(board, player='x'):\n",
    "    v, col = alpha_beta_search(board=board, player=player, actions=actions_middle_first)\n",
    "    return col\n",
    "\n",
    "DEBUG = 0\n",
    "\n",
    "def play_games(N, agent_x, agent_o, shape):\n",
    "    winnings =[0, 0, 0]\n",
    "    for i in range(0, N):\n",
    "        result_data = play_game(agent_x,\n",
    "                                agent_o,\n",
    "                                board_shape=shape)\n",
    "\n",
    "        if result_data[0] == 'x': winnings[0]+=1\n",
    "        if result_data[0] == 'o': winnings[1]+=1\n",
    "        if result_data[0] == 'c': winnings[2]+=1\n",
    "            \n",
    "        sys.stderr.write('\\rRuns: %d/%d' % (i+1, N))\n",
    "        sys.stderr.flush()\n",
    "\n",
    "    return winnings\n",
    "\n",
    "winnings = play_games(100, mini_max_ab_agent_middle, agent_random, shape=(4,4))\n",
    "print('x won:', winnings[0], 'o won', winnings[1], 'tie ', winnings[2])"
   ]
  },
  {
   "cell_type": "markdown",
   "metadata": {},
   "source": [
    "## Task 4: Heuristic Alpha-Beta Tree Search [3 points] \n",
    "\n",
    "### Heuristic evaluation function\n",
    "\n",
    "this Heuristic will award 3 points for every open square on either side of 3 pieces in a row, and 2 points for each open side on 2 pieces in a row"
   ]
  },
  {
   "cell_type": "code",
   "execution_count": 65,
   "metadata": {},
   "outputs": [
    {
     "name": "stdout",
     "output_type": "stream",
     "text": [
      "---------\n",
      "| | | |o|\n",
      "| | | |x|\n",
      "| |x| |o|\n",
      "|o|x|x|o|\n",
      "|x|o|o|x|\n",
      "---------\n",
      "H(x) = (7, False) H(x) = H(o) = (0, False)\n",
      "---------\n",
      "| | | |o|\n",
      "| | | |x|\n",
      "| |x|x|o|\n",
      "|o|x|x|o|\n",
      "|x|o|o|x|\n",
      "---------\n",
      "H(x) = (100, True) H(x) = H(o) = (-100, True)\n",
      "---------------\n",
      "| | | | | | | |\n",
      "| | | | | | | |\n",
      "| | | | | | | |\n",
      "| | | | | | | |\n",
      "| | | |o|o| | |\n",
      "| | |x|x|x| | |\n",
      "---------------\n",
      "H(x) = (6, False) H(x) = H(o) = (4, False)\n"
     ]
    }
   ],
   "source": [
    "def basic_heuristic(board, player='x'):\n",
    "    series = get_all_series(board)\n",
    "    util = utility(board, player)\n",
    "    if util is not None: return util*100, True\n",
    "    \n",
    "    util = 0\n",
    "    for s in series:\n",
    "        as_string = \"\"\n",
    "        as_string = as_string.join(s)\n",
    "        # points for xxx\n",
    "        \n",
    "        idx = as_string.find(player*3)\n",
    "        while idx >= 0:\n",
    "            if idx-1 >= 0 and as_string[idx-1] == ' ':\n",
    "                util += 3\n",
    "            if idx >= 0 and idx+3 < len(as_string) and as_string[idx+3] == ' ':\n",
    "                util += 3\n",
    "            idx = as_string.find(player*3, idx+3)\n",
    "            \n",
    "        #points for xx\n",
    "        idx = as_string.find(player*2)\n",
    "        while idx >= 0:\n",
    "            if idx-1 >= 0 and as_string[idx-1] == player:\n",
    "                idx = as_string.find(player*2, idx+2)\n",
    "                continue\n",
    "            if idx+2 < len(as_string) and as_string[idx+2] == player:\n",
    "                idx = as_string.find(player*2, idx+2)\n",
    "                continue\n",
    "            if idx-1 >= 0 and as_string[idx-1] == ' ':\n",
    "                util += 2\n",
    "            if idx > 0 and idx+2 < len(as_string) and as_string[idx+2] == ' ':\n",
    "                util += 2\n",
    "            idx = as_string.find(player*2, idx+2)\n",
    "    return util, False\n",
    "\n",
    "# Test 1\n",
    "board = empty_board(shape = (5,4))\n",
    "moves = [0,1,1,2,3,3,2,3,3,3,1,0]\n",
    "play_list_plays(moves, board)\n",
    "pretty_board(board)\n",
    "print('H(x) =', basic_heuristic(board, player='x'),'H(x) =',\n",
    "      'H(o) =',basic_heuristic(board, player='o'))\n",
    "board = empty_board(shape = (6,7))\n",
    "board = empty_board(shape = (5,4))\n",
    "\n",
    "# Test 2\n",
    "moves = [0,1,1,2,3,3,2,3,3,3,1,0,2]\n",
    "play_list_plays(moves, board)\n",
    "pretty_board(board)\n",
    "print('H(x) =', basic_heuristic(board, player='x'),'H(x) =',\n",
    "      'H(o) =',basic_heuristic(board, player='o'))\n",
    "board = empty_board(shape = (6,7))\n",
    "\n",
    "# Test 3\n",
    "moves = [3,3,4,4,2]\n",
    "play_list_plays(moves, board)\n",
    "pretty_board(board)\n",
    "print('H(x) =', basic_heuristic(board, player='x'),'H(x) =',\n",
    "      'H(o) =',basic_heuristic(board, player='o'))"
   ]
  },
  {
   "cell_type": "markdown",
   "metadata": {},
   "source": [
    "### Cutting off search \n",
    "\n",
    "Modify your Minimax Search with Alpha-Beta Pruning to cut off search at a specified depth and use the heuristic evaluation function. Experiment with different cutoff values."
   ]
  },
  {
   "cell_type": "code",
   "execution_count": 77,
   "metadata": {},
   "outputs": [],
   "source": [
    "def alpha_beta_search_cutoff(baord, cutoff = None, player = 'x', H=basic_heuristic):\n",
    "    global DEBUG, COUNT\n",
    "    COUNT = 0\n",
    "    \n",
    "    value, move = max_value_ab_cutoff(board, player, -math.inf, +math.inf, 0, cutoff, H)\n",
    "    \n",
    "    if DEBUG >= 1:\n",
    "        print(f\"Number of nodes searched (cutoff = {cutoff}): {COUNT})\")\n",
    "        \n",
    "    return value, move\n",
    "\n",
    "def max_value_ab_cutoff(state, player, alpha, beta, depth, cutoff, H):\n",
    "    \"\"\"Player's best move\"\"\"\n",
    "    global DEBUG, COUNT\n",
    "    COUNT += 1\n",
    "    \n",
    "    # cut off and terminal test\n",
    "    v, terminal = H(state, player)\n",
    "    if((cutoff is not None and depth >= cutoff) or terminal): \n",
    "        if(terminal): alpha, beta = v, v\n",
    "        if DEBUG >= 2: print(f\"stopped at {depth}: {state} term: {terminal} eval: {v} [{alpha}, {beta}]\" ) \n",
    "        return v, None\n",
    "    \n",
    "    v, move = -math.inf, None\n",
    "\n",
    "    # check all possible actions in the state, update alpha and return move with the largest value\n",
    "    for a in actions_middle_first(state):\n",
    "        v2, a2 = min_value_ab_cutoff(result(state, player, a), player, alpha, beta, depth + 1, cutoff, H)\n",
    "        if v2 > v:\n",
    "            v, move = v2, a\n",
    "            alpha = max(alpha, v)\n",
    "        if v >= beta: return v, move\n",
    "    return v, move\n",
    "\n",
    "def min_value_ab_cutoff(state, player, alpha, beta, depth, cutoff, H):\n",
    "    \"\"\"opponent's best response.\"\"\"\n",
    "    global DEBUG, COUNT\n",
    "    COUNT += 1\n",
    "    \n",
    "    # cut off and terminal test\n",
    "    v, terminal = H(state, player)\n",
    "    #if((cutoff is not None and depth >= cutoff) or terminal): \n",
    "    # always let the opponent make her move\n",
    "    if(terminal): \n",
    "        alpha, beta = v, v\n",
    "        if DEBUG >= 2:\n",
    "            print(f\"stopped at {depth}: {state} term: {terminal} eval: {v} [{alpha}, {beta}]\" ) \n",
    "        return v, None\n",
    "    \n",
    "    v, move = +math.inf, None\n",
    "\n",
    "    # check all possible actions in the state, update beta and return move with the smallest value\n",
    "    for a in actions_middle_first(state):\n",
    "        v2, a2 = max_value_ab_cutoff(result(state, flip_player(player), a), player, alpha, beta, depth + 1, cutoff, H)\n",
    "        if v2 < v:\n",
    "            v, move = v2, a\n",
    "            beta = min(beta, v)\n",
    "        if v <= alpha: return v, move\n",
    "    \n",
    "    return v, move\n",
    "    \n",
    "    "
   ]
  },
  {
   "cell_type": "markdown",
   "metadata": {},
   "source": [
    "Experiment with the same manually created boards as above to check if the agent spots wining opportunities."
   ]
  },
  {
   "cell_type": "code",
   "execution_count": 81,
   "metadata": {},
   "outputs": [
    {
     "name": "stdout",
     "output_type": "stream",
     "text": [
      "---------\n",
      "| | | |o|\n",
      "| | | |x|\n",
      "| |x| |o|\n",
      "|o|x|x|o|\n",
      "|x|o|o|x|\n",
      "---------\n",
      "H(x) = (7, False) H(x) = H(o) = (0, False)\n",
      "Number of nodes searched (cutoff = 10): 34)\n"
     ]
    },
    {
     "data": {
      "text/plain": [
       "(100, 2)"
      ]
     },
     "metadata": {},
     "output_type": "display_data"
    },
    {
     "name": "stdout",
     "output_type": "stream",
     "text": [
      "---------------\n",
      "| | | |o| | | |\n",
      "| | | |x| | | |\n",
      "| | | |o| | | |\n",
      "| | | |x| | | |\n",
      "| | | |o|x| | |\n",
      "| | |o|x|x| | |\n",
      "---------------\n",
      "Number of nodes searched (cutoff = 10): 126901)\n"
     ]
    },
    {
     "data": {
      "text/plain": [
       "(17, 2)"
      ]
     },
     "metadata": {},
     "output_type": "display_data"
    }
   ],
   "source": [
    "# Test 1\n",
    "board = empty_board(shape = (5,4))\n",
    "moves = [0,1,1,2,3,3,2,3,3,3,1,0]\n",
    "play_list_plays(moves, board)\n",
    "pretty_board(board)\n",
    "print('H(x) =', basic_heuristic(board, player='x'),'H(x) =',\n",
    "      'H(o) =',basic_heuristic(board, player='o'))\n",
    "\n",
    "display(alpha_beta_search_cutoff(board, cutoff=10, player='x'))\n",
    "\n",
    "# Test 2\n",
    "board = empty_board(shape =(6,7))\n",
    "moves = [3,3,3,3,3,3,4,2,4]\n",
    "play_list_plays(moves, board)\n",
    "pretty_board(board)\n",
    "display(alpha_beta_search_cutoff(board, cutoff=10, player='x'))"
   ]
  },
  {
   "cell_type": "code",
   "execution_count": 84,
   "metadata": {},
   "outputs": [
    {
     "name": "stdout",
     "output_type": "stream",
     "text": [
      "---------\n",
      "| | | | |\n",
      "| | | | |\n",
      "|o|o| | |\n",
      "|x|x|x| |\n",
      "---------\n",
      "Number of nodes searched (cutoff = 10): 1959)\n"
     ]
    },
    {
     "data": {
      "text/plain": [
       "(2, 3)"
      ]
     },
     "metadata": {},
     "output_type": "display_data"
    }
   ],
   "source": [
    "# Test 2\n",
    "board = empty_board(shape =(4,4))\n",
    "moves = [0,0,1,1,2]\n",
    "play_list_plays(moves, board)\n",
    "pretty_board(board)\n",
    "display(alpha_beta_search_cutoff(board, cutoff=10, player='o'))"
   ]
  },
  {
   "cell_type": "markdown",
   "metadata": {},
   "source": [
    "How long does it take to make a move? Start with a smaller board with 4 columns and make the board larger by adding columns."
   ]
  },
  {
   "cell_type": "code",
   "execution_count": 91,
   "metadata": {},
   "outputs": [
    {
     "name": "stdout",
     "output_type": "stream",
     "text": [
      "---------\n",
      "| | | | |\n",
      "| | | | |\n",
      "| | | | |\n",
      "| | | | |\n",
      "---------\n",
      "Number of nodes searched (cutoff = 10): 8569)\n"
     ]
    },
    {
     "data": {
      "text/plain": [
       "(4, 2)"
      ]
     },
     "metadata": {},
     "output_type": "display_data"
    },
    {
     "name": "stdout",
     "output_type": "stream",
     "text": [
      "Wall time: 1.4 s\n"
     ]
    }
   ],
   "source": [
    "%%time\n",
    "board = empty_board(shape =(4,4))\n",
    "pretty_board(board)\n",
    "display(alpha_beta_search_cutoff(board, cutoff=10, player='x'))"
   ]
  },
  {
   "cell_type": "code",
   "execution_count": 92,
   "metadata": {},
   "outputs": [
    {
     "name": "stdout",
     "output_type": "stream",
     "text": [
      "-----------\n",
      "| | | | | |\n",
      "| | | | | |\n",
      "| | | | | |\n",
      "| | | | | |\n",
      "-----------\n",
      "Number of nodes searched (cutoff = 10): 72211)\n"
     ]
    },
    {
     "data": {
      "text/plain": [
       "(4, 2)"
      ]
     },
     "metadata": {},
     "output_type": "display_data"
    },
    {
     "name": "stdout",
     "output_type": "stream",
     "text": [
      "Wall time: 13.4 s\n"
     ]
    }
   ],
   "source": [
    "%%time\n",
    "board = empty_board(shape =(4,5))\n",
    "pretty_board(board)\n",
    "display(alpha_beta_search_cutoff(board, cutoff=10, player='x'))"
   ]
  },
  {
   "cell_type": "code",
   "execution_count": 93,
   "metadata": {},
   "outputs": [
    {
     "name": "stdout",
     "output_type": "stream",
     "text": [
      "-------------\n",
      "| | | | | | |\n",
      "| | | | | | |\n",
      "| | | | | | |\n",
      "| | | | | | |\n",
      "-------------\n",
      "Number of nodes searched (cutoff = 10): 54804)\n"
     ]
    },
    {
     "data": {
      "text/plain": [
       "(6, 3)"
      ]
     },
     "metadata": {},
     "output_type": "display_data"
    },
    {
     "name": "stdout",
     "output_type": "stream",
     "text": [
      "Wall time: 11.6 s\n"
     ]
    }
   ],
   "source": [
    "%%time\n",
    "board = empty_board(shape =(4,6))\n",
    "pretty_board(board)\n",
    "display(alpha_beta_search_cutoff(board, cutoff=10, player='x'))"
   ]
  },
  {
   "cell_type": "code",
   "execution_count": 95,
   "metadata": {},
   "outputs": [
    {
     "name": "stdout",
     "output_type": "stream",
     "text": [
      "-------------\n",
      "| | | | | | |\n",
      "| | | | | | |\n",
      "| | | | | | |\n",
      "| | | | | | |\n",
      "| | | | | | |\n",
      "| | | | | | |\n",
      "-------------\n",
      "Number of nodes searched (cutoff = 10): 56515)\n"
     ]
    },
    {
     "data": {
      "text/plain": [
       "(8, 3)"
      ]
     },
     "metadata": {},
     "output_type": "display_data"
    },
    {
     "name": "stdout",
     "output_type": "stream",
     "text": [
      "Wall time: 13.5 s\n"
     ]
    }
   ],
   "source": [
    "%%time\n",
    "board = empty_board(shape =(6,6))\n",
    "pretty_board(board)\n",
    "display(alpha_beta_search_cutoff(board, cutoff=10, player='x'))"
   ]
  },
  {
   "cell_type": "code",
   "execution_count": 96,
   "metadata": {},
   "outputs": [
    {
     "name": "stdout",
     "output_type": "stream",
     "text": [
      "---------------\n",
      "| | | | | | | |\n",
      "| | | | | | | |\n",
      "| | | | | | | |\n",
      "| | | | | | | |\n",
      "| | | | | | | |\n",
      "| | | | | | | |\n",
      "---------------\n",
      "Number of nodes searched (cutoff = 10): 105987)\n"
     ]
    },
    {
     "data": {
      "text/plain": [
       "(8, 3)"
      ]
     },
     "metadata": {},
     "output_type": "display_data"
    },
    {
     "name": "stdout",
     "output_type": "stream",
     "text": [
      "Wall time: 28 s\n"
     ]
    }
   ],
   "source": [
    "%%time\n",
    "board = empty_board(shape =(6,7))\n",
    "pretty_board(board)\n",
    "display(alpha_beta_search_cutoff(board, cutoff=10, player='x'))"
   ]
  },
  {
   "cell_type": "markdown",
   "metadata": {},
   "source": [
    "### Forward Pruning\n",
    "\n",
    "Add forward pruning to the cutoff search where you do not consider moves that have a low evaluation value after a shallow search \n",
    "(way smaller than the cuttoff value)."
   ]
  },
  {
   "cell_type": "code",
   "execution_count": 14,
   "metadata": {},
   "outputs": [],
   "source": [
    "# Your code/ answer goes here."
   ]
  },
  {
   "cell_type": "markdown",
   "metadata": {},
   "source": [
    "How long does it take to make a move? Start with a smaller board with 4 columns and make the board larger by adding columns."
   ]
  },
  {
   "cell_type": "code",
   "execution_count": 15,
   "metadata": {},
   "outputs": [],
   "source": [
    "# Your code/ answer goes here."
   ]
  },
  {
   "cell_type": "markdown",
   "metadata": {},
   "source": [
    "### Playtime\n",
    "\n",
    "Let two heuristic search agents (different cutoff depth, different heuristic evaluation function or different forward pruning) compete against each other on a reasonably sized board. Since there is no randomness, you only need to let them play once."
   ]
  },
  {
   "cell_type": "code",
   "execution_count": 16,
   "metadata": {},
   "outputs": [],
   "source": [
    "# Your code/ answer goes here."
   ]
  },
  {
   "cell_type": "markdown",
   "metadata": {},
   "source": [
    "## Challenge task [+ 1 bonus point]\n",
    "\n",
    "Find another student and let your best agent play against the other student's best player. We will set up a class tournament on Canvas. This tournament will continue after the submission deadline."
   ]
  },
  {
   "cell_type": "markdown",
   "metadata": {},
   "source": [
    "## Graduate student advanced task: Pure Monte Carlo Search and Best First Move [1 point]\n",
    "\n",
    "__Undergraduate students:__ This is a bonus task you can attempt if you like [+1 Bonus point].\n",
    "\n",
    "### Pure Monte Carlos Search\n",
    "\n",
    "Implement Pure Monte Carlo Search and investigate how this search performs on the test boards that you have used above. "
   ]
  },
  {
   "cell_type": "markdown",
   "metadata": {},
   "source": [
    "#### Playout playouts function"
   ]
  },
  {
   "cell_type": "code",
   "execution_count": 102,
   "metadata": {},
   "outputs": [
    {
     "name": "stdout",
     "output_type": "stream",
     "text": [
      "-1\n",
      "1\n",
      "1\n"
     ]
    }
   ],
   "source": [
    "def playout(board, action, player='x'):\n",
    "    board = result(board, player, action)\n",
    "    current_player = flip_player(player)\n",
    "    \n",
    "    while(True):\n",
    "        u = utility(board, player)\n",
    "        if u is not None: #if terminal return the utility\n",
    "            return(u)\n",
    "        \n",
    "        col = agent_random(board, current_player)\n",
    "        board = result(board, current_player, col)\n",
    "        \n",
    "        current_player = flip_player(current_player)\n",
    "\n",
    "board = empty_board()\n",
    "print(playout(board, 0))\n",
    "print(playout(board, 0))\n",
    "print(playout(board, 0))"
   ]
  },
  {
   "cell_type": "code",
   "execution_count": 112,
   "metadata": {},
   "outputs": [
    {
     "name": "stdout",
     "output_type": "stream",
     "text": [
      "--- first move 0 ---\n",
      "mean utility 0.1\n",
      "win prob 0.55\n",
      "lose prob 0.45\n",
      "--- first move 3 ---\n",
      "mean utility 0.34\n",
      "win prob 0.67\n",
      "lose prob 0.33\n"
     ]
    }
   ],
   "source": [
    "def playouts(board, action, player='x', N =100):\n",
    "    return [playout(board, action, player) for i in range(N)]\n",
    "\n",
    "board = empty_board()\n",
    "p = playouts(board, 0)\n",
    "print('--- first move 0 ---')\n",
    "print(f\"mean utility {np.mean(p)}\")\n",
    "print(f\"win prob {sum(np.array(p) == +1)/len(p)}\")\n",
    "print(f\"lose prob {sum(np.array(p) == -1)/len(p)}\")\n",
    "print('--- first move 3 ---')\n",
    "p = playouts(board, 3)\n",
    "print(f\"mean utility {np.mean(p)}\")\n",
    "print(f\"win prob {sum(np.array(p) == +1)/len(p)}\")\n",
    "print(f\"lose prob {sum(np.array(p) == -1)/len(p)}\")"
   ]
  },
  {
   "cell_type": "code",
   "execution_count": 133,
   "metadata": {},
   "outputs": [
    {
     "name": "stdout",
     "output_type": "stream",
     "text": [
      "---------------\n",
      "| | | | | | | |\n",
      "| | | | | | | |\n",
      "| | | | | | | |\n",
      "| | | | | | | |\n",
      "| | | | | | | |\n",
      "| | | | | | | |\n",
      "---------------\n",
      "100 playouts on empty board gets you:\n",
      "Actions: [0, 1, 2, 3, 4, 5, 6] (142 playouts per actions)\n"
     ]
    },
    {
     "data": {
      "text/plain": [
       "{0: -0.1267605633802817,\n",
       " 1: 0.028169014084507043,\n",
       " 2: 0.2535211267605634,\n",
       " 3: 0.30985915492957744,\n",
       " 4: 0.23943661971830985,\n",
       " 5: 0.09859154929577464,\n",
       " 6: -0.1267605633802817}"
      ]
     },
     "metadata": {},
     "output_type": "display_data"
    },
    {
     "name": "stdout",
     "output_type": "stream",
     "text": [
      "3\n",
      "10 playouts on empty board gets you:\n",
      "Actions: [0, 1, 2, 3, 4, 5, 6] (1 playouts per actions)\n"
     ]
    },
    {
     "data": {
      "text/plain": [
       "{0: 1.0, 1: 1.0, 2: 1.0, 3: -1.0, 4: -1.0, 5: 1.0, 6: 1.0}"
      ]
     },
     "metadata": {},
     "output_type": "display_data"
    },
    {
     "name": "stdout",
     "output_type": "stream",
     "text": [
      "0\n"
     ]
    }
   ],
   "source": [
    "def pure_monte_carlo_search(board, N=100, player='x'):\n",
    "    \n",
    "    global DEBUG\n",
    "    \n",
    "    action_options = actions(board)\n",
    "    # find how many playouts each actions gets, force it to be at least 1\n",
    "    n = max(1, N//len(action_options))\n",
    "    if DEBUG >= 1:\n",
    "        print(f\"Actions: {action_options} ({n} playouts per actions)\")\n",
    "    \n",
    "    # create a dictionary of the actions and their playout average value\n",
    "    play_outcomes = {i:np.mean(playouts(board, i, player, N=n)) for i in action_options}\n",
    "    \n",
    "    if DEBUG >= 1:\n",
    "        display(play_outcomes)\n",
    "    \n",
    "    action = max(play_outcomes, key=play_outcomes.get)\n",
    "    return action\n",
    "\n",
    "board = empty_board()\n",
    "pretty_board(board)\n",
    "DEBUG = 1\n",
    "print(\"1000 playouts on empty board gets you:\")\n",
    "print(pure_monte_carlo_search(board, N=1000))\n",
    "print(\"10 playouts on empty board gets you:\")\n",
    "print(pure_monte_carlo_search(board, N=10))\n",
    "\n",
    "    "
   ]
  },
  {
   "cell_type": "markdown",
   "metadata": {},
   "source": [
    "#### Monte Carlo Agents"
   ]
  },
  {
   "cell_type": "code",
   "execution_count": 141,
   "metadata": {},
   "outputs": [
    {
     "name": "stderr",
     "output_type": "stream",
     "text": [
      "Runs: 100/100"
     ]
    },
    {
     "name": "stdout",
     "output_type": "stream",
     "text": [
      "1000(x) won: 95 100(o) won 5 tie  0\n"
     ]
    }
   ],
   "source": [
    "def pmcs_1000(board, player):\n",
    "    action = pure_monte_carlo_search(board, N=1000, player=player)\n",
    "    return action\n",
    "\n",
    "def pmcs_100(board, player):\n",
    "    action = pure_monte_carlo_search(board, N=100, player=player)\n",
    "    return action\n",
    "\n",
    "winnings = play_games(100, pmcs_1000, pmcs_100, (6,7))\n",
    "print('1000(x) won:', winnings[0], '100(o) won', winnings[1], 'tie ', winnings[2])"
   ]
  },
  {
   "cell_type": "markdown",
   "metadata": {},
   "source": [
    "### Best First Move\n",
    "\n",
    "How would you determine what the best first move is? You can use Pure Monte Carlo Search or any algorithms \n",
    "that you have implemented above."
   ]
  },
  {
   "cell_type": "code",
   "execution_count": 116,
   "metadata": {},
   "outputs": [
    {
     "name": "stdout",
     "output_type": "stream",
     "text": [
      "--- first move 0 ---\n",
      "mean utility 0.026\n",
      "win prob 0.511\n",
      "lose prob 0.485\n",
      "--- first move 1 ---\n",
      "mean utility 0.08\n",
      "win prob 0.539\n",
      "lose prob 0.459\n",
      "--- first move 2 ---\n",
      "mean utility 0.144\n",
      "win prob 0.57\n",
      "lose prob 0.426\n",
      "--- first move 3 ---\n",
      "mean utility 0.288\n",
      "win prob 0.644\n",
      "lose prob 0.356\n",
      "--- first move 4 ---\n",
      "mean utility 0.155\n",
      "win prob 0.576\n",
      "lose prob 0.421\n",
      "--- first move 5 ---\n",
      "mean utility 0.082\n",
      "win prob 0.539\n",
      "lose prob 0.457\n",
      "--- first move 6 ---\n",
      "mean utility 0.017\n",
      "win prob 0.507\n",
      "lose prob 0.49\n"
     ]
    }
   ],
   "source": [
    "for i in range(7):\n",
    "    board = empty_board()\n",
    "    p = playouts(board, i, N=1000)\n",
    "    print(f\"--- first move {i} ---\")\n",
    "    print(f\"mean utility {np.mean(p)}\")\n",
    "    print(f\"win prob {sum(np.array(p) == +1)/len(p)}\")\n",
    "    print(f\"lose prob {sum(np.array(p) == -1)/len(p)}\")\n",
    "    "
   ]
  },
  {
   "cell_type": "markdown",
   "metadata": {},
   "source": [
    "Here we use the playouts to determine how much each starting move wins if the rest of the moves are random across 1000 games. We see that moving at column 3, in the very middle does the best with a winning percentage of 64.4%"
   ]
  },
  {
   "cell_type": "code",
   "execution_count": null,
   "metadata": {},
   "outputs": [],
   "source": []
  }
 ],
 "metadata": {
  "kernelspec": {
   "display_name": "Python 3",
   "language": "python",
   "name": "python3"
  },
  "language_info": {
   "codemirror_mode": {
    "name": "ipython",
    "version": 3
   },
   "file_extension": ".py",
   "mimetype": "text/x-python",
   "name": "python",
   "nbconvert_exporter": "python",
   "pygments_lexer": "ipython3",
   "version": "3.7.9"
  }
 },
 "nbformat": 4,
 "nbformat_minor": 4
}
