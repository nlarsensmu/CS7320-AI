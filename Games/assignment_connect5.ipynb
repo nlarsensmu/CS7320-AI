{
 "cells": [
  {
   "cell_type": "markdown",
   "metadata": {},
   "source": [
    "# Adversarial Search: Playing Connect 4\n",
    "\n",
    "\n",
    "Nicholas Larsen\n",
    "\n",
    "## Instructions\n",
    "\n",
    "Total Points: Undegraduates 10, graduate students 11\n",
    "\n",
    "Complete this notebook and submit it. The notebook needs to be a complete project report with your implementation, documentation including a short discussion of how your implementation works and your design choices, and experimental results (e.g., tables and charts with simulation results) with a short discussion of what they mean. Use the provided notebook cells and insert additional code and markdown cells as needed.\n",
    "\n",
    "## Introduction\n",
    "\n",
    "You will implement different versions of agents that play Connect 4:\n",
    "\n",
    "> \"Connect 4 is a two-player connection board game, in which the players choose a color and then take turns dropping colored discs into a seven-column, six-row vertically suspended grid. The pieces fall straight down, occupying the lowest available space within the column. The objective of the game is to be the first to form a horizontal, vertical, or diagonal line of four of one's own discs.\" (see [Connect Four on Wikipedia](https://en.wikipedia.org/wiki/Connect_Four))"
   ]
  },
  {
   "cell_type": "code",
   "execution_count": 1,
   "metadata": {},
   "outputs": [],
   "source": [
    "import sys  \n",
    "sys.path.insert(0, '.\\\\')"
   ]
  },
  {
   "cell_type": "markdown",
   "metadata": {},
   "source": [
    "## Task 1: Defining the Search Problem [1 point]\n",
    "\n",
    "Define the components of the search problem:\n",
    "\n",
    "* Initial state - The initial state is \n",
    "* Actions - A column number for where the player drops their playing piece. It will fall to the lowest open place for that column.\n",
    "* Transition model - Place a piece in the column that was selected by the player\n",
    "* Goal state - Create 4 pieces in a row"
   ]
  },
  {
   "cell_type": "markdown",
   "metadata": {},
   "source": [
    "\n",
    "\n",
    "* **Initial state** - The initial state is \n",
    "* **Actions** - A column number for where the player drops their playing piece. It will fall to the lowest open place for that column.\n",
    "* **Transition model** - Place a piece in the column that was selected by the player\n",
    "* **Goal state** - Create 4 pieces in a row"
   ]
  },
  {
   "cell_type": "markdown",
   "metadata": {},
   "source": [
    "How big is the search space?"
   ]
  },
  {
   "cell_type": "markdown",
   "metadata": {},
   "source": [
    "TODO: calculate this state space"
   ]
  },
  {
   "cell_type": "markdown",
   "metadata": {},
   "source": [
    "__Note:__ The search space for a $6 \\times 7$ board is large. You can experiment with smaller boards (the smallest is $4 times \\4$) and/or changing the winning rule to connect 3 instead of 4."
   ]
  },
  {
   "cell_type": "markdown",
   "metadata": {},
   "source": [
    "## Task 2: Game Environment and Random Agent [2 point]\n",
    "\n",
    "Use a numpy character array as the board."
   ]
  },
  {
   "cell_type": "code",
   "execution_count": 4,
   "metadata": {},
   "outputs": [
    {
     "name": "stdout",
     "output_type": "stream",
     "text": [
      "[[' ' ' ' ' ' ' ' ' ' ' ' ' ']\n",
      " [' ' ' ' ' ' ' ' ' ' ' ' ' ']\n",
      " [' ' ' ' ' ' ' ' ' ' ' ' ' ']\n",
      " [' ' ' ' ' ' ' ' ' ' ' ' ' ']\n",
      " [' ' ' ' ' ' ' ' ' ' ' ' ' ']\n",
      " [' ' ' ' ' ' ' ' ' ' ' ' ' ']]\n"
     ]
    }
   ],
   "source": [
    "import numpy as np\n",
    "\n",
    "def empty_board(shape=(6, 7)):\n",
    "    return np.full(shape=shape, fill_value=' ')\n",
    "\n",
    "def fill_board(board):\n",
    "    s = '0123456789ABCDEFGHIJKLMNOPQRSTUVWXYZ'\n",
    "    i = 0\n",
    "    for row in range(len(board)):\n",
    "        for col in range(len(board[0])):\n",
    "            board[row][col] = s[i%len(s)]\n",
    "            i+=1\n",
    "\n",
    "print(empty_board())"
   ]
  },
  {
   "cell_type": "markdown",
   "metadata": {},
   "source": [
    "Instead of colors for the players use 'x' and 'o' to represent the players. Make sure that your agent functions all have the from: `agent_type(board, player = 'x')`, where board is the current board position and player is the player whose next move it is and who the agent should play."
   ]
  },
  {
   "cell_type": "markdown",
   "metadata": {},
   "source": [
    "Implement the board and helper functions for:\n",
    "\n",
    "* The transition model (result).\n",
    "* The utility function.\n",
    "* Check for terminal states.\n",
    "* A check for available actions.\n",
    "* A function to visualize the board.\n",
    "\n",
    "Make sure that all these functions work with boards of different sizes.\n",
    "\n",
    "Implement an agent that plays randomly and let two random agents play against each other 1000 times. How often does each player win? Is the result expected? "
   ]
  },
  {
   "cell_type": "code",
   "execution_count": 95,
   "metadata": {},
   "outputs": [
    {
     "data": {
      "text/plain": [
       "numpy.str_"
      ]
     },
     "execution_count": 95,
     "metadata": {},
     "output_type": "execute_result"
    }
   ],
   "source": [
    "type(board[0][3])"
   ]
  },
  {
   "cell_type": "code",
   "execution_count": 97,
   "metadata": {},
   "outputs": [],
   "source": [
    "board = empty_board()\n",
    "if type(board[0][3]) != np.str_:\n",
    "    print('col',board[0][3], 'b')\n",
    "    print('board',board)"
   ]
  },
  {
   "cell_type": "code",
   "execution_count": 6,
   "metadata": {},
   "outputs": [],
   "source": [
    "import random\n",
    "\n",
    "def flip_player(player):\n",
    "    if player == 'x':\n",
    "        return 'o'\n",
    "    else:\n",
    "        return 'x'\n",
    "    \n",
    "def actions(board):\n",
    "    options = []\n",
    "    for col in range(0, len(board[0])):\n",
    "        if board[0][col] == ' ':\n",
    "            options.append(col)\n",
    "    return options\n",
    "\n",
    "def random_order_actions(board):\n",
    "    options = actions(board)\n",
    "    random.shuffle(options)\n",
    "    return options\n",
    "\n",
    "def agent_random(board, player = 'x'):\n",
    "    options = actions(board)\n",
    "    if len(options) == 0:\n",
    "        return None\n",
    "    return random.choice(options)\n",
    "            \n",
    "# Environment methods\n",
    "def place_piece(board, col, player='x'):\n",
    "    \"\"\"Place the player piece in the col on the board\"\"\"\n",
    "    if board[0][col] != ' ':\n",
    "        return False\n",
    "    \n",
    "    next_open_row = len(board) - 1 # if the col is empty use the bottom row\n",
    "    for row in range(0, len(board)):\n",
    "        if board[row][col] != ' ':\n",
    "            next_open_row = row - 1\n",
    "            break\n",
    "    \n",
    "    board[next_open_row][col] = player\n",
    "\n",
    "\n",
    "def result(board, player, action):\n",
    "    board_copy = board.copy()\n",
    "    place_piece(board_copy, action, player)\n",
    "    return board_copy\n",
    "\n",
    "\n",
    "def check_series_for_winner(series):\n",
    "    \"\"\"Check if this line (could be anywhere)\n",
    "    has 4 in a row\"\"\"\n",
    "    count = 0\n",
    "    prev = ' '\n",
    "    for current_space in series:\n",
    "        if current_space != ' ' and current_space == prev:\n",
    "            count += 1\n",
    "        elif current_space != ' ' and current_space != prev:\n",
    "            count = 1\n",
    "            prev = current_space\n",
    "        elif current_space == ' ':\n",
    "            prev = ' '\n",
    "            count = 0\n",
    "        \n",
    "        if count == 4:\n",
    "            return prev\n",
    "\n",
    "def get_all_series(board):\n",
    "    \"\"\"Get all of the rows/cols/diags that could be winning streaks\"\"\"\n",
    "    num_cols = len(board[0])\n",
    "    num_rows = len(board)\n",
    "    \n",
    "    runs = []\n",
    "    for row in range(0, num_rows):\n",
    "        runs.append(board[row])\n",
    "    for col in range(0, num_cols):\n",
    "        runs.append(board[:,col])\n",
    "        \n",
    "    for offset in range(1-num_rows, num_cols):\n",
    "        runs.append(np.diagonal(board, offset=offset))\n",
    "        runs.append(np.diagonal(np.fliplr(board), offset=offset))\n",
    "    # get all diags\n",
    "    max_row_cols = max(num_rows, num_cols)\n",
    "\n",
    "    return runs\n",
    "\n",
    "def terminal(board):\n",
    "    \"\"\"Determine if a player has won\"\"\"\n",
    "    num_cols = len(board[0])\n",
    "    num_rows = len(board)\n",
    "    if len(actions(board)) == 0:\n",
    "        return 'c'\n",
    "    \n",
    "    series = get_all_series(board)\n",
    "    for s in series:\n",
    "        winner = check_series_for_winner(s)\n",
    "        if winner is not None:\n",
    "            return winner\n",
    "    return ' '\n",
    "\n",
    "def utility(board, player = 'x'):\n",
    "    \"\"\"check is a state a terminal state, return the utility if it is.\n",
    "    None means not terminal\"\"\"\n",
    "    \n",
    "    winner = terminal(board)\n",
    "    if winner == player:\n",
    "        return +1\n",
    "    if winner == flip_player(player):\n",
    "        return -1\n",
    "    if winner == 'c':\n",
    "        return 0\n",
    "    return None\n",
    "\n",
    "def play_list_plays(moves, board, starting_player='x'):\n",
    "    for move in moves:\n",
    "        place_piece(board=board, player=starting_player, col=move)\n",
    "        starting_player = flip_player(starting_player)"
   ]
  },
  {
   "cell_type": "code",
   "execution_count": 4,
   "metadata": {},
   "outputs": [],
   "source": [
    "def pretty_board(board):\n",
    "    for i in range(0,board.shape[1]+board.shape[1]+1):\n",
    "        print('-',end='')\n",
    "    print()\n",
    "    for row in board:\n",
    "        print('|', end='')\n",
    "        for piece in row:\n",
    "            print(piece, end='')\n",
    "            print('|',end='')\n",
    "        print() \n",
    "    for i in range(0,board.shape[1]+board.shape[1]+1):\n",
    "        print('-',end='')\n",
    "    print()"
   ]
  },
  {
   "cell_type": "code",
   "execution_count": 5,
   "metadata": {},
   "outputs": [],
   "source": [
    "\n",
    "def play_game(player_x, player_o, board_shape = (6, 7), verbose=False):\n",
    "    players_turn = 'x'\n",
    "    \n",
    "    board = empty_board(board_shape)\n",
    "    while True:\n",
    "        col = -1\n",
    "        if players_turn == 'x':\n",
    "            col = player_x(board, players_turn)\n",
    "        else:\n",
    "            col = player_o(board, players_turn)\n",
    "        board = result(board=board, player=players_turn, action=col)\n",
    "        if verbose:\n",
    "            print('Player: ', players_turn, 'placing in col', col)\n",
    "        winner = terminal(board)\n",
    "        if winner == 'c':\n",
    "            return ('c', board)\n",
    "        elif winner != ' ':\n",
    "            return (players_turn, board)\n",
    "        \n",
    "        players_turn = flip_player(players_turn)\n"
   ]
  },
  {
   "cell_type": "markdown",
   "metadata": {},
   "source": [
    "### Test Utility"
   ]
  },
  {
   "cell_type": "code",
   "execution_count": 6,
   "metadata": {},
   "outputs": [
    {
     "name": "stdout",
     "output_type": "stream",
     "text": [
      "---------------\n",
      "| | | | | | | |\n",
      "| | | | | | | |\n",
      "| | | | | | | |\n",
      "| | | | | | | |\n",
      "| | | | | | | |\n",
      "| | | | | | | |\n",
      "---------------\n",
      "None\n",
      "---------------\n",
      "| | | | | | | |\n",
      "| | | | | | | |\n",
      "| | | |x| | | |\n",
      "| | | |x| | | |\n",
      "| | | |x| | | |\n",
      "|o|o|o|x| | | |\n",
      "---------------\n",
      "x: 1 o: -1\n",
      "---------------\n",
      "| | | | | | | |\n",
      "| | | | | | | |\n",
      "| | | |x| | | |\n",
      "| | |x|o| | | |\n",
      "| |x|o|x| | | |\n",
      "|x|o|o|x| |o| |\n",
      "---------------\n",
      "x: 1 o: -1\n",
      "---------------\n",
      "| | | | | | | |\n",
      "| | | | | | | |\n",
      "| | | |o| | | |\n",
      "| | |o|x| | | |\n",
      "| |o|x|o| | | |\n",
      "|o|x|x|o| |x| |\n",
      "---------------\n",
      "x: -1 o: 1\n",
      "x: None o: None\n"
     ]
    }
   ],
   "source": [
    "board = empty_board()\n",
    "pretty_board(board)\n",
    "print(utility(board))\n",
    "play_list_plays([3,2,3,1,3,0,3], board)\n",
    "pretty_board(board)\n",
    "print('x:', utility(board, player='x'), 'o:', utility(board, player='o'))\n",
    "board = empty_board()\n",
    "play_list_plays([0,1,1,2,3,2,2,5,3,3,3], board)\n",
    "pretty_board(board)\n",
    "print('x:', utility(board, player='x'), 'o:', utility(board, player='o'))\n",
    "board = empty_board()\n",
    "play_list_plays([0,1,1,2,3,2,2,5,3,3,3], board, starting_player='o')\n",
    "pretty_board(board)\n",
    "print('x:', utility(board, player='x'), 'o:', utility(board, player='o'))\n",
    "board = empty_board(shape = (5,6))\n",
    "play_list_plays([2,2,1,1,0,1,1,2,2,0,0], board)\n",
    "print('x:', utility(board, player='x'), 'o:', utility(board, player='x'))"
   ]
  },
  {
   "cell_type": "markdown",
   "metadata": {},
   "source": [
    "### Random V Random"
   ]
  },
  {
   "cell_type": "code",
   "execution_count": 7,
   "metadata": {},
   "outputs": [
    {
     "name": "stdout",
     "output_type": "stream",
     "text": [
      "X won: 555 |O won 440 |Cat games 5\n"
     ]
    }
   ],
   "source": [
    "x_ct = 0\n",
    "o_ct = 0\n",
    "c_ct = 0\n",
    "games = []\n",
    "for i in range(1000):\n",
    "    game = play_game(agent_random, agent_random, verbose=False)\n",
    "    winner = game[0]\n",
    "    if winner == 'x':\n",
    "        x_ct += 1\n",
    "    elif winner == 'o':\n",
    "        o_ct += 1\n",
    "    elif winner == 'c':\n",
    "        c_ct += 1\n",
    "    games.append(game)\n",
    "print('X won:', x_ct, '|O won', o_ct, '|Cat games', c_ct)"
   ]
  },
  {
   "cell_type": "markdown",
   "metadata": {},
   "source": [
    "## Task 3: Minimax Search with Alpha-Beta Pruning [4 points]\n",
    "\n",
    "### Implement the search starting from a given board and specifying the player."
   ]
  },
  {
   "cell_type": "code",
   "execution_count": 8,
   "metadata": {},
   "outputs": [],
   "source": [
    "import math\n",
    "import random\n",
    "DEBUG = 1 # 1 ... count nodes, 2 ... debug each node\n",
    "COUNT = 0\n",
    "def alpha_beta_search(board, player='x', actions=random_order_actions):\n",
    "    global DEBUG, COUNT\n",
    "    COUNT = 0\n",
    "    \n",
    "    value, move = max_value_ab(board, player, -math.inf, +math.inf, actions=actions)\n",
    "    \n",
    "    if DEBUG >= 1: print(f\"Number of nodes searched: {COUNT}\") \n",
    "        \n",
    "    return value, move\n",
    "\n",
    "def max_value_ab(board, player, alpha, beta, actions=actions):\n",
    "    \"\"\"Player's best move\"\"\"\n",
    "    v = utility(board, player)\n",
    "    global DEBUG, COUNT\n",
    "    COUNT += 1\n",
    "    if DEBUG >= 2:\n",
    "        print(\"max: \\n\" + str(board) + str([alpha, beta, v])) \n",
    "    if v is not None: return v, None\n",
    "    \n",
    "    v, move = -math.inf, None\n",
    "    \n",
    "    moves = actions(board)\n",
    "    for a in moves:\n",
    "        v2, a2 = min_value_ab(result(board, player, a), player, alpha, beta, actions=actions)\n",
    "        if v2 > v:\n",
    "            v, move = v2, a\n",
    "            alpha = max(alpha, v)\n",
    "        if v >= beta:\n",
    "            return v, move\n",
    "    return v, move\n",
    "\n",
    "def min_value_ab(board, player, alpha, beta, actions=actions):\n",
    "    \"\"\"opponent's best response\"\"\"\n",
    "    global DEBUG, COUNT\n",
    "    COUNT += 1\n",
    "    \n",
    "    #return utility if state is terminal state\n",
    "    v = utility(board, player)\n",
    "    if DEBUG >= 2: print(\"min: \\n\" + str(board) + str([alpha, beta, v]))\n",
    "    if v is not None: return v, None\n",
    "    \n",
    "    v, move = +math.inf, None\n",
    "    \n",
    "    moves = actions(board)\n",
    "    for a in moves:\n",
    "        v2, a2 = max_value_ab(result(board, flip_player(player), a),player,alpha,beta, actions=actions)\n",
    "        if v2 < v:\n",
    "            v, move = v2, a\n",
    "            beta = min(beta, v)\n",
    "        if v <= alpha:\n",
    "            return v, move\n",
    "        \n",
    "    return v, move"
   ]
  },
  {
   "cell_type": "markdown",
   "metadata": {},
   "source": [
    "Experiment with some manually created boards (at least 5) to check if the agent spots wining opportunities."
   ]
  },
  {
   "cell_type": "markdown",
   "metadata": {},
   "source": [
    "### Find winning move"
   ]
  },
  {
   "cell_type": "code",
   "execution_count": 9,
   "metadata": {},
   "outputs": [
    {
     "name": "stdout",
     "output_type": "stream",
     "text": [
      "-----------\n",
      "| |x| | | |\n",
      "| |o|o| | |\n",
      "| |o|o| | |\n",
      "|x|x|x| | |\n",
      "-----------\n"
     ]
    },
    {
     "data": {
      "text/plain": [
       "(1, 3)"
      ]
     },
     "metadata": {},
     "output_type": "display_data"
    },
    {
     "name": "stdout",
     "output_type": "stream",
     "text": [
      "Wall time: 117 ms\n"
     ]
    }
   ],
   "source": [
    "%%time\n",
    "board = empty_board(shape = (4,5))\n",
    "moves = [2,2,1,1,0,1,1,2]\n",
    "play_list_plays(moves, board)\n",
    "pretty_board(board)\n",
    "DEBUG = 0\n",
    "display(alpha_beta_search(board, player='x'))"
   ]
  },
  {
   "cell_type": "markdown",
   "metadata": {},
   "source": [
    "### Play through this game (1)"
   ]
  },
  {
   "cell_type": "code",
   "execution_count": 10,
   "metadata": {},
   "outputs": [
    {
     "name": "stdout",
     "output_type": "stream",
     "text": [
      "---------\n",
      "| | | | |\n",
      "| | | | |\n",
      "| | | |o|\n",
      "| |x|x|o|\n",
      "|x|o|o|x|\n",
      "---------\n"
     ]
    },
    {
     "data": {
      "text/plain": [
       "(1, 1)"
      ]
     },
     "metadata": {},
     "output_type": "display_data"
    },
    {
     "name": "stdout",
     "output_type": "stream",
     "text": [
      "Wall time: 192 ms\n"
     ]
    }
   ],
   "source": [
    "%%time\n",
    "board = empty_board(shape = (5,4))\n",
    "moves = [0,1,1,2,3,3,2,3]\n",
    "play_list_plays(moves, board)\n",
    "pretty_board(board)\n",
    "display(alpha_beta_search(board, player='x'))"
   ]
  },
  {
   "cell_type": "code",
   "execution_count": 11,
   "metadata": {},
   "outputs": [
    {
     "name": "stdout",
     "output_type": "stream",
     "text": [
      "---------\n",
      "| | | | |\n",
      "| | | | |\n",
      "| |x| |o|\n",
      "| |x|x|o|\n",
      "|x|o|o|x|\n",
      "---------\n"
     ]
    },
    {
     "data": {
      "text/plain": [
       "(-1, 3)"
      ]
     },
     "metadata": {},
     "output_type": "display_data"
    },
    {
     "name": "stdout",
     "output_type": "stream",
     "text": [
      "Wall time: 122 ms\n"
     ]
    }
   ],
   "source": [
    "%%time\n",
    "board = empty_board(shape = (5,4))\n",
    "moves = [0,1,1,2,3,3,2,3,1]\n",
    "play_list_plays(moves, board)\n",
    "pretty_board(board)\n",
    "display(alpha_beta_search(board, player='o'))"
   ]
  },
  {
   "cell_type": "code",
   "execution_count": 12,
   "metadata": {},
   "outputs": [
    {
     "name": "stdout",
     "output_type": "stream",
     "text": [
      "---------\n",
      "| | | | |\n",
      "| | | |o|\n",
      "| |x| |o|\n",
      "| |x|x|o|\n",
      "|x|o|o|x|\n",
      "---------\n"
     ]
    },
    {
     "data": {
      "text/plain": [
       "(1, 3)"
      ]
     },
     "metadata": {},
     "output_type": "display_data"
    },
    {
     "name": "stdout",
     "output_type": "stream",
     "text": [
      "Wall time: 30 ms\n"
     ]
    }
   ],
   "source": [
    "%%time\n",
    "board = empty_board(shape = (5,4))\n",
    "moves = [0,1,1,2,3,3,2,3,1,3]\n",
    "play_list_plays(moves, board)\n",
    "pretty_board(board)\n",
    "display(alpha_beta_search(board, player='x'))"
   ]
  },
  {
   "cell_type": "code",
   "execution_count": 13,
   "metadata": {},
   "outputs": [
    {
     "name": "stdout",
     "output_type": "stream",
     "text": [
      "---------\n",
      "| | | |x|\n",
      "| | | |o|\n",
      "| |x| |o|\n",
      "| |x|x|o|\n",
      "|x|o|o|x|\n",
      "---------\n"
     ]
    },
    {
     "data": {
      "text/plain": [
       "(-1, 1)"
      ]
     },
     "metadata": {},
     "output_type": "display_data"
    },
    {
     "name": "stdout",
     "output_type": "stream",
     "text": [
      "Wall time: 23 ms\n"
     ]
    }
   ],
   "source": [
    "%%time\n",
    "board = empty_board(shape = (5,4))\n",
    "moves = [0,1,1,2,3,3,2,3,1,3,3]\n",
    "play_list_plays(moves, board)\n",
    "pretty_board(board)\n",
    "display(alpha_beta_search(board, player='o'))"
   ]
  },
  {
   "cell_type": "code",
   "execution_count": 15,
   "metadata": {},
   "outputs": [
    {
     "name": "stdout",
     "output_type": "stream",
     "text": [
      "---------\n",
      "| | | |x|\n",
      "| |o| |o|\n",
      "| |x| |o|\n",
      "| |x|x|o|\n",
      "|x|o|o|x|\n",
      "---------\n"
     ]
    },
    {
     "data": {
      "text/plain": [
       "(1, 1)"
      ]
     },
     "metadata": {},
     "output_type": "display_data"
    },
    {
     "name": "stdout",
     "output_type": "stream",
     "text": [
      "Wall time: 9 ms\n"
     ]
    }
   ],
   "source": [
    "%%time\n",
    "board = empty_board(shape = (5,4))\n",
    "moves = [0,1,1,2,3,3,2,3,1,3,3,1]\n",
    "play_list_plays(moves, board)\n",
    "pretty_board(board)\n",
    "display(alpha_beta_search(board, player='x'))"
   ]
  },
  {
   "cell_type": "code",
   "execution_count": 17,
   "metadata": {},
   "outputs": [
    {
     "name": "stdout",
     "output_type": "stream",
     "text": [
      "---------\n",
      "| |x| |x|\n",
      "| |o| |o|\n",
      "| |x| |o|\n",
      "| |x|x|o|\n",
      "|x|o|o|x|\n",
      "---------\n"
     ]
    },
    {
     "data": {
      "text/plain": [
       "(-1, 2)"
      ]
     },
     "metadata": {},
     "output_type": "display_data"
    },
    {
     "name": "stdout",
     "output_type": "stream",
     "text": [
      "Wall time: 11 ms\n"
     ]
    }
   ],
   "source": [
    "%%time\n",
    "board = empty_board(shape = (5,4))\n",
    "moves = [0,1,1,2,3,3,2,3,1,3,3,1,1]\n",
    "play_list_plays(moves, board)\n",
    "pretty_board(board)\n",
    "display(alpha_beta_search(board, player='o'))"
   ]
  },
  {
   "cell_type": "code",
   "execution_count": 18,
   "metadata": {},
   "outputs": [
    {
     "name": "stdout",
     "output_type": "stream",
     "text": [
      "---------\n",
      "| |x| |x|\n",
      "| |o| |o|\n",
      "| |x|o|o|\n",
      "| |x|x|o|\n",
      "|x|o|o|x|\n",
      "---------\n"
     ]
    },
    {
     "data": {
      "text/plain": [
       "(1, 2)"
      ]
     },
     "metadata": {},
     "output_type": "display_data"
    },
    {
     "name": "stdout",
     "output_type": "stream",
     "text": [
      "Wall time: 4 ms\n"
     ]
    }
   ],
   "source": [
    "%%time\n",
    "board = empty_board(shape = (5,4))\n",
    "moves = [0,1,1,2,3,3,2,3,1,3,3,1,1,2]\n",
    "play_list_plays(moves, board)\n",
    "pretty_board(board)\n",
    "display(alpha_beta_search(board, player='x'))"
   ]
  },
  {
   "cell_type": "code",
   "execution_count": 19,
   "metadata": {},
   "outputs": [
    {
     "name": "stdout",
     "output_type": "stream",
     "text": [
      "---------\n",
      "| |x| |x|\n",
      "| |o|x|o|\n",
      "| |x|o|o|\n",
      "| |x|x|o|\n",
      "|x|o|o|x|\n",
      "---------\n"
     ]
    },
    {
     "data": {
      "text/plain": [
       "(-1, 2)"
      ]
     },
     "metadata": {},
     "output_type": "display_data"
    },
    {
     "name": "stdout",
     "output_type": "stream",
     "text": [
      "Wall time: 4.97 ms\n"
     ]
    }
   ],
   "source": [
    "%%time\n",
    "board = empty_board(shape = (5,4))\n",
    "moves = [0,1,1,2,3,3,2,3,1,3,3,1,1,2,2]\n",
    "play_list_plays(moves, board)\n",
    "pretty_board(board)\n",
    "display(alpha_beta_search(board, player='o'))"
   ]
  },
  {
   "cell_type": "code",
   "execution_count": 20,
   "metadata": {},
   "outputs": [
    {
     "name": "stdout",
     "output_type": "stream",
     "text": [
      "---------\n",
      "| |x|o|x|\n",
      "| |o|x|o|\n",
      "| |x|o|o|\n",
      "| |x|x|o|\n",
      "|x|o|o|x|\n",
      "---------\n"
     ]
    },
    {
     "data": {
      "text/plain": [
       "(1, 0)"
      ]
     },
     "metadata": {},
     "output_type": "display_data"
    },
    {
     "name": "stdout",
     "output_type": "stream",
     "text": [
      "Wall time: 6 ms\n"
     ]
    }
   ],
   "source": [
    "%%time\n",
    "board = empty_board(shape = (5,4))\n",
    "moves = [0,1,1,2,3,3,2,3,1,3,3,1,1,2,2,2]\n",
    "play_list_plays(moves, board)\n",
    "pretty_board(board)\n",
    "display(alpha_beta_search(board, player='x'))"
   ]
  },
  {
   "cell_type": "code",
   "execution_count": 23,
   "metadata": {},
   "outputs": [
    {
     "name": "stdout",
     "output_type": "stream",
     "text": [
      "---------\n",
      "| |x|o|x|\n",
      "|x|o|x|o|\n",
      "|o|x|o|o|\n",
      "|x|x|x|o|\n",
      "|x|o|o|x|\n",
      "---------\n"
     ]
    },
    {
     "data": {
      "text/plain": [
       "(1, None)"
      ]
     },
     "metadata": {},
     "output_type": "display_data"
    },
    {
     "name": "stdout",
     "output_type": "stream",
     "text": [
      "Wall time: 5.96 ms\n"
     ]
    }
   ],
   "source": [
    "%%time\n",
    "# the rest of the moves are in 0 and x wins, like was predicted in the first cell\n",
    "board = empty_board(shape = (5,4))\n",
    "moves = [0,1,1,2,3,3,2,3,1,3,3,1,1,2,2,2,0,0,0]\n",
    "play_list_plays(moves, board)\n",
    "pretty_board(board)\n",
    "display(alpha_beta_search(board, player='x'))"
   ]
  },
  {
   "cell_type": "markdown",
   "metadata": {},
   "source": [
    "### We can see here that 'o' Makes a block when x has a chance at winning"
   ]
  },
  {
   "cell_type": "code",
   "execution_count": 51,
   "metadata": {
    "scrolled": true
   },
   "outputs": [
    {
     "name": "stdout",
     "output_type": "stream",
     "text": [
      "-----------\n",
      "| | | | | |\n",
      "| |x|x| | |\n",
      "| |o|o| | |\n",
      "| |o|o| | |\n",
      "|x|x|x| | |\n",
      "-----------\n",
      "Number of nodes searched: 25516\n"
     ]
    },
    {
     "data": {
      "text/plain": [
       "(1, 3)"
      ]
     },
     "metadata": {},
     "output_type": "display_data"
    },
    {
     "name": "stdout",
     "output_type": "stream",
     "text": [
      "Wall time: 2.29 s\n"
     ]
    }
   ],
   "source": [
    "%%time\n",
    "board = empty_board(shape = (5,5))\n",
    "play_list_plays(moves=[2,2,1,1,0,1,1,2,2],\n",
    "                board=board,\n",
    "                starting_player='x')\n",
    "pretty_board(board)\n",
    "DEBUG = 1\n",
    "display(alpha_beta_search(board, player='o'))"
   ]
  },
  {
   "cell_type": "markdown",
   "metadata": {},
   "source": [
    "## How long does it take to decide the first move?"
   ]
  },
  {
   "cell_type": "code",
   "execution_count": 24,
   "metadata": {
    "scrolled": true
   },
   "outputs": [
    {
     "name": "stdout",
     "output_type": "stream",
     "text": [
      "Number of nodes searched: 96974\n"
     ]
    },
    {
     "data": {
      "text/plain": [
       "(0, 2)"
      ]
     },
     "metadata": {},
     "output_type": "display_data"
    },
    {
     "name": "stdout",
     "output_type": "stream",
     "text": [
      "Wall time: 5.61 s\n"
     ]
    }
   ],
   "source": [
    "%%time\n",
    "DEBUG = 1\n",
    "board = empty_board(shape=(4,4))\n",
    "display(alpha_beta_search(board, player='x'))"
   ]
  },
  {
   "cell_type": "code",
   "execution_count": 153,
   "metadata": {
    "scrolled": true
   },
   "outputs": [
    {
     "name": "stdout",
     "output_type": "stream",
     "text": [
      "Number of nodes searched: 10992089\n"
     ]
    },
    {
     "data": {
      "text/plain": [
       "(0, 1)"
      ]
     },
     "metadata": {},
     "output_type": "display_data"
    },
    {
     "name": "stdout",
     "output_type": "stream",
     "text": [
      "Wall time: 12min 34s\n"
     ]
    }
   ],
   "source": [
    "%%time\n",
    "DEBUG = 1\n",
    "board = empty_board(shape=(4,5))\n",
    "display(alpha_beta_search(board, player='x'))"
   ]
  },
  {
   "cell_type": "markdown",
   "metadata": {},
   "source": [
    "### Move ordering\n",
    "\n",
    "My move ordering will explore the paths in the center before other moves. \n",
    "* actions_middle_first\n",
    " * Returns the middle actions first if they are available"
   ]
  },
  {
   "cell_type": "code",
   "execution_count": 26,
   "metadata": {},
   "outputs": [
    {
     "name": "stdout",
     "output_type": "stream",
     "text": [
      "[2, 3, 1, 0]\n",
      "[2, 3, 1, 4, 0]\n",
      "[3, 1, 4, 0]\n",
      "[4, 2, 5, 1, 6, 0]\n"
     ]
    }
   ],
   "source": [
    "def actions_middle_first(board):\n",
    "    \"\"\"Return the option of moves in the order starting with the middle\"\"\"\n",
    "    moves = actions(board) # the moves in order\n",
    "    num_cols = board.shape[1]\n",
    "    new_order = []\n",
    "    if board[0][num_cols//2] == ' ':\n",
    "        new_order.append(num_cols//2)\n",
    "    for i in range(1, num_cols//2+1):\n",
    "        idx = (num_cols//2) + i\n",
    "        if idx < num_cols and board[0][idx] == ' ':\n",
    "            new_order.append(idx)\n",
    "        idx = (num_cols//2) - i\n",
    "        if idx >= 0 and board[0][idx] == ' ':\n",
    "            new_order.append(idx)\n",
    "    return new_order\n",
    "\n",
    "board = empty_board(shape=(4,4))\n",
    "print(actions_middle_first(board))\n",
    "board = empty_board(shape=(4,5))\n",
    "print(actions_middle_first(board))\n",
    "board = empty_board(shape=(4,5))\n",
    "play_list_plays([2,2,2,2], board)\n",
    "print(actions_middle_first(board))\n",
    "board = empty_board()\n",
    "play_list_plays([3,3,3,3,3,3], board)\n",
    "print(actions_middle_first(board))"
   ]
  },
  {
   "cell_type": "code",
   "execution_count": 27,
   "metadata": {
    "scrolled": true
   },
   "outputs": [
    {
     "name": "stdout",
     "output_type": "stream",
     "text": [
      "---------\n",
      "| | | | |\n",
      "| | | | |\n",
      "| | | | |\n",
      "| | | | |\n",
      "---------\n",
      "Number of nodes searched: 98123\n"
     ]
    },
    {
     "data": {
      "text/plain": [
       "(0, 0)"
      ]
     },
     "metadata": {},
     "output_type": "display_data"
    },
    {
     "name": "stdout",
     "output_type": "stream",
     "text": [
      "Wall time: 6.13 s\n"
     ]
    }
   ],
   "source": [
    "%%time\n",
    "board = empty_board(shape=(4,4))\n",
    "pretty_board(board)\n",
    "display(alpha_beta_search(board, player='x',actions=random_order_actions))"
   ]
  },
  {
   "cell_type": "code",
   "execution_count": 28,
   "metadata": {
    "scrolled": true
   },
   "outputs": [
    {
     "name": "stdout",
     "output_type": "stream",
     "text": [
      "Number of nodes searched: 54505\n"
     ]
    },
    {
     "data": {
      "text/plain": [
       "(0, 2)"
      ]
     },
     "metadata": {},
     "output_type": "display_data"
    },
    {
     "name": "stdout",
     "output_type": "stream",
     "text": [
      "Wall time: 3.46 s\n"
     ]
    }
   ],
   "source": [
    "%%time\n",
    "board = empty_board(shape=(4,4))\n",
    "display(alpha_beta_search(board, player='x',actions=actions_middle_first))"
   ]
  },
  {
   "cell_type": "code",
   "execution_count": 29,
   "metadata": {
    "scrolled": true
   },
   "outputs": [
    {
     "name": "stdout",
     "output_type": "stream",
     "text": [
      "Number of nodes searched: 5017045\n"
     ]
    },
    {
     "data": {
      "text/plain": [
       "(0, 2)"
      ]
     },
     "metadata": {},
     "output_type": "display_data"
    },
    {
     "name": "stdout",
     "output_type": "stream",
     "text": [
      "Wall time: 5min 47s\n"
     ]
    }
   ],
   "source": [
    "%%time\n",
    "board = empty_board(shape=(4,5))\n",
    "display(alpha_beta_search(board, player='x',actions=actions_middle_first))"
   ]
  },
  {
   "cell_type": "markdown",
   "metadata": {},
   "source": [
    "### Playtime\n",
    "\n",
    "Let the Minimax Search agent play a random agent on a small board. Analyze wins, losses and draws."
   ]
  },
  {
   "cell_type": "code",
   "execution_count": 115,
   "metadata": {
    "scrolled": false
   },
   "outputs": [],
   "source": [
    "import sys\n",
    "def mini_max_ab_agent(board, player='x'):\n",
    "    v, col = alpha_beta_search(board=board, player=player)\n",
    "\n",
    "def mini_max_ab_agent_middle(board, player='x'):\n",
    "    v, col = alpha_beta_search(board=board, player=player, actions=actions_middle_first)\n",
    "    return col\n",
    "\n",
    "DEBUG = 0\n",
    "\n",
    "game_number = 0\n",
    "turn_number = 0\n",
    "def play_game(player_x, player_o, board_shape = (6, 7), verbose = 0):\n",
    "    \n",
    "    global game_number, turn_number, DEBUG\n",
    "    players_turn = 'x'\n",
    "    \n",
    "    turn_number = 0\n",
    "    board = empty_board(board_shape)\n",
    "    while True:\n",
    "        col = -1\n",
    "        if players_turn == 'x':\n",
    "            col = player_x(board, players_turn)\n",
    "        else:\n",
    "            col = player_o(board, players_turn)  \n",
    "            \n",
    "        board = result(board=board, player=players_turn, action=col)\n",
    "        \n",
    "        if verbose == 2:\n",
    "            pretty_board(board)\n",
    "        \n",
    "        if verbose >= 2:\n",
    "            print('Player: ', players_turn, 'placing in col', col)\n",
    "        winner = terminal(board)\n",
    "        if winner == 'c':\n",
    "            return ('c', board)\n",
    "        elif winner != ' ':\n",
    "            return (players_turn, board)\n",
    "        \n",
    "        \n",
    "        turn_number+=1\n",
    "        players_turn = flip_player(players_turn)\n",
    "    if verbose >= 1:\n",
    "        pretty_board(board)\n",
    "\n",
    "def play_games(N, agent_x, agent_o, shape):\n",
    "    winnings =[0, 0, 0]\n",
    "    global game_number, turn_number\n",
    "    game_number = 1\n",
    "    for i in range(0, N):\n",
    "        result_data = play_game(agent_x,\n",
    "                                agent_o,\n",
    "                                board_shape=shape)\n",
    "        turn_number = 0\n",
    "        game_number+=1\n",
    "\n",
    "        if result_data[0] == 'x': winnings[0]+=1\n",
    "        if result_data[0] == 'o': winnings[1]+=1\n",
    "        if result_data[0] == 'c': winnings[2]+=1\n",
    "\n",
    "        sys.stderr.write('\\rGameNumber:%d' % (game_number))\n",
    "        sys.stderr.flush()\n",
    "\n",
    "        print\n",
    "    return winnings\n",
    "\n",
    "#game_number = 0\n",
    "#turn_number = 0\n",
    "#winnings = play_games(100, mini_max_ab_agent_middle, agent_random, shape=(4,4))\n",
    "#print('x won:', winnings[0], 'o won', winnings[1], 'tie ', winnings[2])\n"
   ]
  },
  {
   "cell_type": "markdown",
   "metadata": {},
   "source": [
    "## Task 4: Heuristic Alpha-Beta Tree Search [3 points] \n",
    "\n",
    "### Heuristic evaluation function\n",
    "\n",
    "this Heuristic will award 3 points for every open square on either side of 3 pieces in a row, and 2 points for each open side on 2 pieces in a row"
   ]
  },
  {
   "cell_type": "code",
   "execution_count": 35,
   "metadata": {},
   "outputs": [
    {
     "name": "stdout",
     "output_type": "stream",
     "text": [
      "---------\n",
      "| | | |o|\n",
      "| | | |x|\n",
      "| |x| |o|\n",
      "|o|x|x|o|\n",
      "|x|o|o|x|\n",
      "---------\n",
      "H(x) = (7, False) H(x) = H(o) = (0, False)\n",
      "---------\n",
      "| | | |o|\n",
      "| | | |x|\n",
      "| |x|x|o|\n",
      "|o|x|x|o|\n",
      "|x|o|o|x|\n",
      "---------\n",
      "H(x) = (100, True) H(x) = H(o) = (-100, True)\n",
      "---------------\n",
      "| | | | | | | |\n",
      "| | | | | | | |\n",
      "| | | | | | | |\n",
      "| | | | | | | |\n",
      "| | | |o|o| | |\n",
      "| | |x|x|x| | |\n",
      "---------------\n",
      "H(x) = (6, False) H(x) = H(o) = (4, False)\n"
     ]
    }
   ],
   "source": [
    "def basic_heuristic(board, player='x'):\n",
    "    series = get_all_series(board)\n",
    "    util = utility(board, player)\n",
    "    if util is not None: return util*100, True\n",
    "    \n",
    "    util = 0\n",
    "    for s in series:\n",
    "        as_string = \"\"\n",
    "        as_string = as_string.join(s)\n",
    "        # points for xxx\n",
    "        \n",
    "        idx = as_string.find(player*3)\n",
    "        while idx >= 0:\n",
    "            if idx-1 >= 0 and as_string[idx-1] == ' ':\n",
    "                util += 3\n",
    "            if idx >= 0 and idx+3 < len(as_string) and as_string[idx+3] == ' ':\n",
    "                util += 3\n",
    "            idx = as_string.find(player*3, idx+3)\n",
    "            \n",
    "        #points for xx\n",
    "        idx = as_string.find(player*2)\n",
    "        while idx >= 0:\n",
    "            if idx-1 >= 0 and as_string[idx-1] == player:\n",
    "                idx = as_string.find(player*2, idx+2)\n",
    "                continue\n",
    "            if idx+2 < len(as_string) and as_string[idx+2] == player:\n",
    "                idx = as_string.find(player*2, idx+2)\n",
    "                continue\n",
    "            if idx-1 >= 0 and as_string[idx-1] == ' ':\n",
    "                util += 2\n",
    "            if idx > 0 and idx+2 < len(as_string) and as_string[idx+2] == ' ':\n",
    "                util += 2\n",
    "            idx = as_string.find(player*2, idx+2)\n",
    "    return util, False\n",
    "\n",
    "# Test 1\n",
    "board = empty_board(shape = (5,4))\n",
    "moves = [0,1,1,2,3,3,2,3,3,3,1,0]\n",
    "play_list_plays(moves, board)\n",
    "pretty_board(board)\n",
    "print('H(x) =', basic_heuristic(board, player='x'),'H(x) =',\n",
    "      'H(o) =',basic_heuristic(board, player='o'))\n",
    "board = empty_board(shape = (6,7))\n",
    "board = empty_board(shape = (5,4))\n",
    "\n",
    "# Test 2\n",
    "moves = [0,1,1,2,3,3,2,3,3,3,1,0,2]\n",
    "play_list_plays(moves, board)\n",
    "pretty_board(board)\n",
    "print('H(x) =', basic_heuristic(board, player='x'),'H(x) =',\n",
    "      'H(o) =',basic_heuristic(board, player='o'))\n",
    "board = empty_board(shape = (6,7))\n",
    "\n",
    "# Test 3\n",
    "moves = [3,3,4,4,2]\n",
    "play_list_plays(moves, board)\n",
    "pretty_board(board)\n",
    "print('H(x) =', basic_heuristic(board, player='x'),'H(x) =',\n",
    "      'H(o) =',basic_heuristic(board, player='o'))"
   ]
  },
  {
   "cell_type": "markdown",
   "metadata": {},
   "source": [
    "### Cutting off search \n",
    "\n",
    "Modify your Minimax Search with Alpha-Beta Pruning to cut off search at a specified depth and use the heuristic evaluation function. Experiment with different cutoff values."
   ]
  },
  {
   "cell_type": "code",
   "execution_count": 109,
   "metadata": {},
   "outputs": [],
   "source": [
    "def alpha_beta_search_cutoff(board, cutoff = None, player = 'x', H=basic_heuristic):\n",
    "    global DEBUG, COUNT\n",
    "    COUNT = 0\n",
    "    \n",
    "    value, move = max_value_ab_cutoff(board, player, -math.inf, +math.inf, 0, cutoff, H)\n",
    "    \n",
    "    if DEBUG >= 1:\n",
    "        print(f\"Number of nodes searched (cutoff = {cutoff}): {COUNT})\")\n",
    "        \n",
    "    return value, move\n",
    "\n",
    "def max_value_ab_cutoff(state, player, alpha, beta, depth, cutoff, H):\n",
    "    \"\"\"Player's best move\"\"\"\n",
    "    global DEBUG, COUNT\n",
    "    COUNT += 1\n",
    "    \n",
    "    # cut off and terminal test\n",
    "    v, terminal = H(state, player)\n",
    "    if((cutoff is not None and depth >= cutoff) or terminal): \n",
    "        if(terminal): alpha, beta = v, v\n",
    "        if DEBUG >= 2: print(f\"stopped at {depth}: {state} term: {terminal} eval: {v} [{alpha}, {beta}]\" ) \n",
    "        return v, None\n",
    "    \n",
    "    v, move = -math.inf, None\n",
    "\n",
    "    # check all possible actions in the state, update alpha and return move with the largest value\n",
    "    for a in actions_middle_first(state):\n",
    "        v2, a2 = min_value_ab_cutoff(result(state, player, a), player, alpha, beta, depth + 1, cutoff, H)\n",
    "        if v2 > v:\n",
    "            v, move = v2, a\n",
    "            alpha = max(alpha, v)\n",
    "        if v >= beta: return v, move\n",
    "    return v, move\n",
    "\n",
    "def min_value_ab_cutoff(state, player, alpha, beta, depth, cutoff, H):\n",
    "    \"\"\"opponent's best response.\"\"\"\n",
    "    global DEBUG, COUNT\n",
    "    COUNT += 1\n",
    "    \n",
    "    # cut off and terminal test\n",
    "    v, terminal = H(state, player)\n",
    "    #if((cutoff is not None and depth >= cutoff) or terminal): \n",
    "    # always let the opponent make her move\n",
    "    if(terminal): \n",
    "        alpha, beta = v, v\n",
    "        if DEBUG >= 2:\n",
    "            print(f\"stopped at {depth}: {state} term: {terminal} eval: {v} [{alpha}, {beta}]\" ) \n",
    "        return v, None\n",
    "    \n",
    "    v, move = +math.inf, None\n",
    "\n",
    "    # check all possible actions in the state, update beta and return move with the smallest value\n",
    "    for a in actions_middle_first(state):\n",
    "        v2, a2 = max_value_ab_cutoff(result(state, flip_player(player), a), player, alpha, beta, depth + 1, cutoff, H)\n",
    "        if v2 < v:\n",
    "            v, move = v2, a\n",
    "            beta = min(beta, v)\n",
    "        if v <= alpha: return v, move\n",
    "    \n",
    "    return v, move\n",
    "    \n",
    "    "
   ]
  },
  {
   "cell_type": "markdown",
   "metadata": {},
   "source": [
    "Experiment with the same manually created boards as above to check if the agent spots wining opportunities."
   ]
  },
  {
   "cell_type": "code",
   "execution_count": 36,
   "metadata": {},
   "outputs": [
    {
     "name": "stdout",
     "output_type": "stream",
     "text": [
      "---------\n",
      "| | | |o|\n",
      "| | | |x|\n",
      "| |x| |o|\n",
      "|o|x|x|o|\n",
      "|x|o|o|x|\n",
      "---------\n",
      "H(x) = (7, False) H(x) = H(o) = (0, False)\n"
     ]
    },
    {
     "data": {
      "text/plain": [
       "(100, 2)"
      ]
     },
     "metadata": {},
     "output_type": "display_data"
    },
    {
     "name": "stdout",
     "output_type": "stream",
     "text": [
      "6.34 ms ± 0 ns per loop (mean ± std. dev. of 1 run, 1 loop each)\n",
      "Looked through 236 Nodes\n",
      "---------------\n",
      "| | | |o| | | |\n",
      "| | | |x| | | |\n",
      "| | | |o| | | |\n",
      "| | | |x| | | |\n",
      "| | | |o|x| | |\n",
      "| | |o|x|x| | |\n",
      "---------------\n"
     ]
    },
    {
     "data": {
      "text/plain": [
       "(17, 2)"
      ]
     },
     "metadata": {},
     "output_type": "display_data"
    },
    {
     "name": "stdout",
     "output_type": "stream",
     "text": [
      "32.3 s ± 0 ns per loop (mean ± std. dev. of 1 run, 1 loop each)\n",
      "Looked through 236 Nodes\n"
     ]
    }
   ],
   "source": [
    "# Test 1\n",
    "board = empty_board(shape = (5,4))\n",
    "moves = [0,1,1,2,3,3,2,3,3,3,1,0]\n",
    "play_list_plays(moves, board)\n",
    "pretty_board(board)\n",
    "print('H(x) =', basic_heuristic(board, player='x'),'H(x) =',\n",
    "      'H(o) =',basic_heuristic(board, player='o'))\n",
    "\n",
    "%timeit -n1 -r1 display(alpha_beta_search_cutoff(board, cutoff=10, player='x'))\n",
    "print(f\"Looked through {COUNT} Nodes\")\n",
    "\n",
    "# Test 2\n",
    "board = empty_board(shape =(6,7))\n",
    "moves = [3,3,3,3,3,3,4,2,4]\n",
    "play_list_plays(moves, board)\n",
    "pretty_board(board)\n",
    "%timeit -n1 -r1 display(alpha_beta_search_cutoff(board, cutoff=10, player='x'))\n",
    "print(f\"Looked through {COUNT} Nodes\")"
   ]
  },
  {
   "cell_type": "code",
   "execution_count": 37,
   "metadata": {},
   "outputs": [
    {
     "name": "stdout",
     "output_type": "stream",
     "text": [
      "---------\n",
      "| | | | |\n",
      "| | | | |\n",
      "|o|o| | |\n",
      "|x|x|x| |\n",
      "---------\n"
     ]
    },
    {
     "data": {
      "text/plain": [
       "(2, 3)"
      ]
     },
     "metadata": {},
     "output_type": "display_data"
    },
    {
     "name": "stdout",
     "output_type": "stream",
     "text": [
      "298 ms ± 0 ns per loop (mean ± std. dev. of 1 run, 1 loop each)\n",
      "Looked through 236 Nodes\n"
     ]
    }
   ],
   "source": [
    "# Test 2\n",
    "board = empty_board(shape =(4,4))\n",
    "moves = [0,0,1,1,2]\n",
    "play_list_plays(moves, board)\n",
    "pretty_board(board)\n",
    "%timeit -n1 -r1 display(alpha_beta_search_cutoff(board, cutoff=10, player='o'))\n",
    "print(f\"Looked through {COUNT} Nodes\")"
   ]
  },
  {
   "cell_type": "markdown",
   "metadata": {},
   "source": [
    "How long does it take to make a move? Start with a smaller board with 4 columns and make the board larger by adding columns."
   ]
  },
  {
   "cell_type": "code",
   "execution_count": 38,
   "metadata": {},
   "outputs": [
    {
     "name": "stdout",
     "output_type": "stream",
     "text": [
      "---------\n",
      "| | | | |\n",
      "| | | | |\n",
      "| | | | |\n",
      "| | | | |\n",
      "---------\n"
     ]
    },
    {
     "data": {
      "text/plain": [
       "(4, 2)"
      ]
     },
     "metadata": {},
     "output_type": "display_data"
    },
    {
     "name": "stdout",
     "output_type": "stream",
     "text": [
      "1.25 s ± 0 ns per loop (mean ± std. dev. of 1 run, 1 loop each)\n",
      "Looked through 236 Nodes\n",
      "Wall time: 1.25 s\n"
     ]
    }
   ],
   "source": [
    "%%time\n",
    "board = empty_board(shape =(4,4))\n",
    "pretty_board(board)\n",
    "%timeit -n1 -r1 display(alpha_beta_search_cutoff(board, cutoff=10, player='x'))\n",
    "print(f\"Looked through {COUNT} Nodes\")"
   ]
  },
  {
   "cell_type": "code",
   "execution_count": 39,
   "metadata": {},
   "outputs": [
    {
     "name": "stdout",
     "output_type": "stream",
     "text": [
      "-----------\n",
      "| | | | | |\n",
      "| | | | | |\n",
      "| | | | | |\n",
      "| | | | | |\n",
      "-----------\n"
     ]
    },
    {
     "data": {
      "text/plain": [
       "(4, 2)"
      ]
     },
     "metadata": {},
     "output_type": "display_data"
    },
    {
     "name": "stdout",
     "output_type": "stream",
     "text": [
      "12.1 s ± 0 ns per loop (mean ± std. dev. of 1 run, 1 loop each)\n",
      "Looked through 236 Nodes\n",
      "Wall time: 12.1 s\n"
     ]
    }
   ],
   "source": [
    "%%time\n",
    "board = empty_board(shape =(4,5))\n",
    "pretty_board(board)\n",
    "%timeit -n1 -r1 display(alpha_beta_search_cutoff(board, cutoff=10, player='x'))\n",
    "print(f\"Looked through {COUNT} Nodes\")"
   ]
  },
  {
   "cell_type": "code",
   "execution_count": 40,
   "metadata": {},
   "outputs": [
    {
     "name": "stdout",
     "output_type": "stream",
     "text": [
      "-------------\n",
      "| | | | | | |\n",
      "| | | | | | |\n",
      "| | | | | | |\n",
      "| | | | | | |\n",
      "-------------\n"
     ]
    },
    {
     "data": {
      "text/plain": [
       "(6, 3)"
      ]
     },
     "metadata": {},
     "output_type": "display_data"
    },
    {
     "name": "stdout",
     "output_type": "stream",
     "text": [
      "10.2 s ± 0 ns per loop (mean ± std. dev. of 1 run, 1 loop each)\n",
      "Looked through 236 Nodes\n",
      "Wall time: 10.2 s\n"
     ]
    }
   ],
   "source": [
    "%%time\n",
    "board = empty_board(shape =(4,6))\n",
    "pretty_board(board)\n",
    "%timeit -n1 -r1 display(alpha_beta_search_cutoff(board, cutoff=10, player='x'))\n",
    "print(f\"Looked through {COUNT} Nodes\")"
   ]
  },
  {
   "cell_type": "code",
   "execution_count": 41,
   "metadata": {},
   "outputs": [
    {
     "name": "stdout",
     "output_type": "stream",
     "text": [
      "-------------\n",
      "| | | | | | |\n",
      "| | | | | | |\n",
      "| | | | | | |\n",
      "| | | | | | |\n",
      "| | | | | | |\n",
      "| | | | | | |\n",
      "-------------\n"
     ]
    },
    {
     "data": {
      "text/plain": [
       "(8, 3)"
      ]
     },
     "metadata": {},
     "output_type": "display_data"
    },
    {
     "name": "stdout",
     "output_type": "stream",
     "text": [
      "13.1 s ± 0 ns per loop (mean ± std. dev. of 1 run, 1 loop each)\n",
      "Looked through 236 Nodes\n",
      "Wall time: 13.1 s\n"
     ]
    }
   ],
   "source": [
    "%%time\n",
    "board = empty_board(shape =(6,6))\n",
    "pretty_board(board)\n",
    "%timeit -n1 -r1 display(alpha_beta_search_cutoff(board, cutoff=10, player='x'))\n",
    "print(f\"Looked through {COUNT} Nodes\")"
   ]
  },
  {
   "cell_type": "code",
   "execution_count": 42,
   "metadata": {},
   "outputs": [
    {
     "name": "stdout",
     "output_type": "stream",
     "text": [
      "---------------\n",
      "| | | | | | | |\n",
      "| | | | | | | |\n",
      "| | | | | | | |\n",
      "| | | | | | | |\n",
      "| | | | | | | |\n",
      "| | | | | | | |\n",
      "---------------\n"
     ]
    },
    {
     "data": {
      "text/plain": [
       "(8, 3)"
      ]
     },
     "metadata": {},
     "output_type": "display_data"
    },
    {
     "name": "stdout",
     "output_type": "stream",
     "text": [
      "27.2 s ± 0 ns per loop (mean ± std. dev. of 1 run, 1 loop each)\n",
      "Looked through 236 Nodes\n",
      "Wall time: 27.2 s\n"
     ]
    }
   ],
   "source": [
    "%%time\n",
    "board = empty_board(shape =(6,7))\n",
    "pretty_board(board)\n",
    "%timeit -n1 -r1 display(alpha_beta_search_cutoff(board, cutoff=10, player='x'))\n",
    "print(f\"Looked through {COUNT} Nodes\")"
   ]
  },
  {
   "cell_type": "markdown",
   "metadata": {},
   "source": [
    "### Forward Pruning\n",
    "\n",
    "Add forward pruning to the cutoff search where you do not consider moves that have a low evaluation value after a shallow search \n",
    "(way smaller than the cuttoff value)."
   ]
  },
  {
   "cell_type": "code",
   "execution_count": 132,
   "metadata": {},
   "outputs": [],
   "source": [
    "def alpha_beta_search_cutoff(board, cutoff=None, fp=None, player = 'x', H=basic_heuristic):\n",
    "    global DEBUG, COUNT\n",
    "    COUNT = 0\n",
    "    \n",
    "    value, move = max_value_ab_cutoff(board, player, -math.inf, +math.inf, 0, cutoff, fp, H)\n",
    "    \n",
    "    if DEBUG >= 1:\n",
    "        print(f\"Number of nodes searched (cutoff = {cutoff}) (fp: {fp}) {COUNT}\")\n",
    "        \n",
    "    # If the search could not come up with anything for the cutoff/fp\n",
    "    # This should only happen in very short sided searches\n",
    "    if move is None:\n",
    "        move = agent_random(board)\n",
    "    return value, move\n",
    "\n",
    "def max_value_ab_cutoff(state, player, alpha, beta, depth, cutoff, fp, H):\n",
    "    \"\"\"Player's best move\"\"\"\n",
    "    global DEBUG, COUNT\n",
    "    COUNT += 1\n",
    "    \n",
    "    # cut off and terminal test\n",
    "    v, terminal = H(state, player)\n",
    "    oppo, terminal = H(state, flip_player(player))\n",
    "    diff = v - oppo\n",
    "    \n",
    "    # difference here we will stop evaulating if pass the fp value of H\n",
    "    if (cutoff is not None and depth >= cutoff) or \\\n",
    "        (fp is not None and diff < -fp) or terminal: \n",
    "        if(terminal): alpha, beta = v, v\n",
    "        if DEBUG >= 2: print(f\"stopped at {depth}: {state} term: {terminal} eval_diff: {diff} [{alpha}, {beta}]\" ) \n",
    "        return v, None\n",
    "    \n",
    "    v, move = -math.inf, None\n",
    "\n",
    "    # check all possible actions in the state, update alpha and return move with the largest value\n",
    "    possibles = actions_middle_first(state)\n",
    "    for a in possibles:\n",
    "        v2, a2 = min_value_ab_cutoff(result(state, player, a),\n",
    "                                     player,\n",
    "                                     alpha,\n",
    "                                     beta,\n",
    "                                     depth + 1,\n",
    "                                     cutoff,\n",
    "                                     fp,\n",
    "                                     H)\n",
    "        if v2 > v:\n",
    "            v, move = v2, a\n",
    "            alpha = max(alpha, v)\n",
    "        if v >= beta: return v, move\n",
    "    return v, move\n",
    "\n",
    "def min_value_ab_cutoff(state, player, alpha, beta, depth, cutoff, fp, H):\n",
    "    \"\"\"opponent's best response.\"\"\"\n",
    "    global DEBUG, COUNT\n",
    "    COUNT += 1\n",
    "    \n",
    "    # cut off and terminal test\n",
    "    v, terminal = H(state, player)\n",
    "    #if((cutoff is not None and depth >= cutoff) or terminal): \n",
    "    # always let the opponent make her move\n",
    "    if(terminal): \n",
    "        alpha, beta = v, v\n",
    "        if DEBUG >= 2:\n",
    "            print(f\"stopped at {depth}: {state} term: {terminal} eval: {v} [{alpha}, {beta}]\" ) \n",
    "        return v, None\n",
    "    \n",
    "    v, move = +math.inf, None\n",
    "\n",
    "    # check all possible actions in the state, update beta and return move with the smallest value\n",
    "    for a in actions_middle_first(state):\n",
    "        v2, a2 = max_value_ab_cutoff(result(state, flip_player(player), a),\n",
    "                                     player,\n",
    "                                     alpha,\n",
    "                                     beta,\n",
    "                                     depth + 1,\n",
    "                                     cutoff,\n",
    "                                     fp,\n",
    "                                     H)\n",
    "        if v2 < v:\n",
    "            v, move = v2, a\n",
    "            beta = min(beta, v)\n",
    "        if v <= alpha: return v, move\n",
    "    \n",
    "    return v, move\n",
    "    "
   ]
  },
  {
   "cell_type": "code",
   "execution_count": 44,
   "metadata": {},
   "outputs": [
    {
     "name": "stdout",
     "output_type": "stream",
     "text": [
      "---------\n",
      "| | | |o|\n",
      "| | | |x|\n",
      "| |x| |o|\n",
      "|o|x|x|o|\n",
      "|x|o|o|x|\n",
      "---------\n",
      "H(x) = (7, False) H(x) = H(o) = (0, False)\n",
      "---------\n",
      "| | | | |\n",
      "| | | | |\n",
      "| | | | |\n",
      "| | | | |\n",
      "---------\n",
      "Number of nodes searched (cutoff = 10) (fp: 5) 8144\n"
     ]
    },
    {
     "data": {
      "text/plain": [
       "(4, 2)"
      ]
     },
     "metadata": {},
     "output_type": "display_data"
    },
    {
     "name": "stdout",
     "output_type": "stream",
     "text": [
      "1.9 s ± 0 ns per loop (mean ± std. dev. of 1 run, 1 loop each)\n",
      "Number of nodes searched (cutoff = 10) (fp: 1) 5352\n"
     ]
    },
    {
     "data": {
      "text/plain": [
       "(2, 2)"
      ]
     },
     "metadata": {},
     "output_type": "display_data"
    },
    {
     "name": "stdout",
     "output_type": "stream",
     "text": [
      "1.29 s ± 0 ns per loop (mean ± std. dev. of 1 run, 1 loop each)\n"
     ]
    }
   ],
   "source": [
    "# Test 1\n",
    "board = empty_board(shape = (5,4))\n",
    "moves = [0,1,1,2,3,3,2,3,3,3,1,0]\n",
    "play_list_plays(moves, board)\n",
    "pretty_board(board)\n",
    "print('H(x) =', basic_heuristic(board, player='x'),'H(x) =',\n",
    "      'H(o) =',basic_heuristic(board, player='o'))\n",
    "\n",
    "board = empty_board(shape=(4,4))\n",
    "pretty_board(board)\n",
    "DEBUG = 1\n",
    "%timeit -n1 -r1 display(alpha_beta_search_cutoff(board, cutoff=10, fp=5, player='x'))\n",
    "%timeit -n1 -r1 display(alpha_beta_search_cutoff(board, cutoff=10, fp=1, player='x'))\n"
   ]
  },
  {
   "cell_type": "code",
   "execution_count": 45,
   "metadata": {},
   "outputs": [
    {
     "name": "stdout",
     "output_type": "stream",
     "text": [
      "---------------\n",
      "| | | |o| | | |\n",
      "| | | |x| | | |\n",
      "| | | |o| | | |\n",
      "| | | |x|x| | |\n",
      "| | |o|o|x| | |\n",
      "| | |o|x|x| | |\n",
      "---------------\n",
      "Number of nodes searched (cutoff = 10) (fp: 5) 5150\n"
     ]
    },
    {
     "data": {
      "text/plain": [
       "(100, 4)"
      ]
     },
     "metadata": {},
     "output_type": "display_data"
    },
    {
     "name": "stdout",
     "output_type": "stream",
     "text": [
      "1.85 s ± 0 ns per loop (mean ± std. dev. of 1 run, 1 loop each)\n",
      "---------------\n",
      "| | | |o| | | |\n",
      "| | | |x| | | |\n",
      "| | | |o| | | |\n",
      "| | | |x|x| | |\n",
      "| | |o|o|x| | |\n",
      "| | |o|x|x| | |\n",
      "---------------\n",
      "Number of nodes searched (cutoff = 10) (fp: 1) 2575\n"
     ]
    },
    {
     "data": {
      "text/plain": [
       "(100, 4)"
      ]
     },
     "metadata": {},
     "output_type": "display_data"
    },
    {
     "name": "stdout",
     "output_type": "stream",
     "text": [
      "949 ms ± 0 ns per loop (mean ± std. dev. of 1 run, 1 loop each)\n"
     ]
    }
   ],
   "source": [
    "\n",
    "\n",
    "# Test 2\n",
    "board = empty_board(shape =(6,7))\n",
    "moves = [3,3,3,3,3,3,4,2,4,2,4]\n",
    "play_list_plays(moves, board)\n",
    "pretty_board(board)\n",
    "%timeit -n1 -r1 display(alpha_beta_search_cutoff(board, cutoff=10, fp=5, player='x'))\n",
    "\n",
    "# Test 3\n",
    "board = empty_board(shape =(6,7))\n",
    "moves = [3,3,3,3,3,3,4,2,4,2,4]\n",
    "play_list_plays(moves, board)\n",
    "pretty_board(board)\n",
    "%timeit -n1 -r1 display(alpha_beta_search_cutoff(board, cutoff=10, fp=1, player='x'))\n"
   ]
  },
  {
   "cell_type": "markdown",
   "metadata": {},
   "source": [
    "How long does it take to make a move? Start with a smaller board with 4 columns and make the board larger by adding columns."
   ]
  },
  {
   "cell_type": "code",
   "execution_count": 46,
   "metadata": {},
   "outputs": [
    {
     "name": "stdout",
     "output_type": "stream",
     "text": [
      "-------------\n",
      "| | | | | | |\n",
      "| | | | | | |\n",
      "| | | | | | |\n",
      "| | | | | | |\n",
      "| | | | | | |\n",
      "| | | | | | |\n",
      "-------------\n",
      "Number of nodes searched (cutoff = 10) (fp: None) 56515\n"
     ]
    },
    {
     "data": {
      "text/plain": [
       "(8, 3)"
      ]
     },
     "metadata": {},
     "output_type": "display_data"
    },
    {
     "name": "stdout",
     "output_type": "stream",
     "text": [
      "22.1 s ± 0 ns per loop (mean ± std. dev. of 1 run, 1 loop each)\n",
      "-------------\n",
      "| | | | | | |\n",
      "| | | | | | |\n",
      "| | | | | | |\n",
      "| | | | | | |\n",
      "| | | | | | |\n",
      "| | | | | | |\n",
      "-------------\n",
      "Number of nodes searched (cutoff = 10) (fp: 1) 63964\n"
     ]
    },
    {
     "data": {
      "text/plain": [
       "(3, 3)"
      ]
     },
     "metadata": {},
     "output_type": "display_data"
    },
    {
     "name": "stdout",
     "output_type": "stream",
     "text": [
      "26.6 s ± 0 ns per loop (mean ± std. dev. of 1 run, 1 loop each)\n"
     ]
    }
   ],
   "source": [
    "DEBUG = 1\n",
    "\n",
    "board = empty_board(shape =(6,6))\n",
    "pretty_board(board)\n",
    "%timeit -n1 -r1 display(alpha_beta_search_cutoff(board, cutoff=10, player='x'))\n",
    "\n",
    "board = empty_board(shape =(6,6))\n",
    "pretty_board(board)\n",
    "%timeit -n1 -r1 display(alpha_beta_search_cutoff(board, cutoff=10, fp=1, player='x'))\n"
   ]
  },
  {
   "cell_type": "code",
   "execution_count": 47,
   "metadata": {},
   "outputs": [
    {
     "name": "stdout",
     "output_type": "stream",
     "text": [
      "---------------\n",
      "| | | | | | | |\n",
      "| | | | | | | |\n",
      "| | | | | | | |\n",
      "| | | | | | | |\n",
      "| | | | | | | |\n",
      "| | | | | | | |\n",
      "---------------\n",
      "Number of nodes searched (cutoff = 10) (fp: 5) 132065\n"
     ]
    },
    {
     "data": {
      "text/plain": [
       "(7, 3)"
      ]
     },
     "metadata": {},
     "output_type": "display_data"
    },
    {
     "name": "stdout",
     "output_type": "stream",
     "text": [
      "57.5 s ± 0 ns per loop (mean ± std. dev. of 1 run, 1 loop each)\n",
      "---------------\n",
      "| | | | | | | |\n",
      "| | | | | | | |\n",
      "| | | | | | | |\n",
      "| | | | | | | |\n",
      "| | | | | | | |\n",
      "| | | | | | | |\n",
      "---------------\n",
      "Number of nodes searched (cutoff = 10) (fp: None) 105987\n"
     ]
    },
    {
     "data": {
      "text/plain": [
       "(8, 3)"
      ]
     },
     "metadata": {},
     "output_type": "display_data"
    },
    {
     "name": "stdout",
     "output_type": "stream",
     "text": [
      "45.5 s ± 0 ns per loop (mean ± std. dev. of 1 run, 1 loop each)\n"
     ]
    }
   ],
   "source": [
    "board = empty_board(shape =(6,7))\n",
    "pretty_board(board)\n",
    "%timeit -n1 -r1 display(alpha_beta_search_cutoff(board, cutoff=10, fp=5, player='x'))\n",
    "\n",
    "board = empty_board(shape =(6,7))\n",
    "pretty_board(board)\n",
    "%timeit -n1 -r1 display(alpha_beta_search_cutoff(board, cutoff=10, player='x'))\n"
   ]
  },
  {
   "cell_type": "code",
   "execution_count": 49,
   "metadata": {},
   "outputs": [
    {
     "name": "stdout",
     "output_type": "stream",
     "text": [
      "---------------\n",
      "| | | | | | | |\n",
      "| | | | | | | |\n",
      "| | | | | | | |\n",
      "| | | | | | | |\n",
      "| | | | | | | |\n",
      "| | | | | | | |\n",
      "---------------\n",
      "Number of nodes searched (cutoff = 5) (fp: 1) 2335\n"
     ]
    },
    {
     "data": {
      "text/plain": [
       "(3, 3)"
      ]
     },
     "metadata": {},
     "output_type": "display_data"
    },
    {
     "name": "stdout",
     "output_type": "stream",
     "text": [
      "1.09 s ± 0 ns per loop (mean ± std. dev. of 1 run, 1 loop each)\n"
     ]
    }
   ],
   "source": [
    "board = empty_board(shape =(6,7))\n",
    "pretty_board(board)\n",
    "%timeit -n1 -r1 display(alpha_beta_search_cutoff(board, cutoff=5, fp=1, player='x'))\n"
   ]
  },
  {
   "cell_type": "code",
   "execution_count": 50,
   "metadata": {},
   "outputs": [
    {
     "name": "stdout",
     "output_type": "stream",
     "text": [
      "---------------\n",
      "| | | | | | | |\n",
      "| | | | | | | |\n",
      "| | | | | | | |\n",
      "| | | | | | | |\n",
      "| | | | | | | |\n",
      "| | | | | | | |\n",
      "---------------\n",
      "Number of nodes searched (cutoff = 6) (fp: 1) 2335\n"
     ]
    },
    {
     "data": {
      "text/plain": [
       "(3, 3)"
      ]
     },
     "metadata": {},
     "output_type": "display_data"
    },
    {
     "name": "stdout",
     "output_type": "stream",
     "text": [
      "1.11 s ± 0 ns per loop (mean ± std. dev. of 1 run, 1 loop each)\n"
     ]
    }
   ],
   "source": [
    "board = empty_board(shape =(6,7))\n",
    "pretty_board(board)\n",
    "%timeit -n1 -r1 display(alpha_beta_search_cutoff(board, cutoff=6, fp=1, player='x'))\n"
   ]
  },
  {
   "cell_type": "code",
   "execution_count": 51,
   "metadata": {},
   "outputs": [
    {
     "name": "stdout",
     "output_type": "stream",
     "text": [
      "---------------\n",
      "| | | | | | | |\n",
      "| | | | | | | |\n",
      "| | | | | | | |\n",
      "| | | | | | | |\n",
      "| | | | | | | |\n",
      "| | | | | | | |\n",
      "---------------\n",
      "Number of nodes searched (cutoff = 7) (fp: 1) 19253\n"
     ]
    },
    {
     "data": {
      "text/plain": [
       "(3, 3)"
      ]
     },
     "metadata": {},
     "output_type": "display_data"
    },
    {
     "name": "stdout",
     "output_type": "stream",
     "text": [
      "8.94 s ± 0 ns per loop (mean ± std. dev. of 1 run, 1 loop each)\n"
     ]
    }
   ],
   "source": [
    "board = empty_board(shape =(6,7))\n",
    "pretty_board(board)\n",
    "%timeit -n1 -r1 display(alpha_beta_search_cutoff(board, cutoff=7, fp=1, player='x'))\n"
   ]
  },
  {
   "cell_type": "code",
   "execution_count": 152,
   "metadata": {},
   "outputs": [
    {
     "name": "stdout",
     "output_type": "stream",
     "text": [
      "---------------\n",
      "| | | | | | | |\n",
      "| | | | | | | |\n",
      "| | | | | | | |\n",
      "| | | | | | | |\n",
      "| | | | | | | |\n",
      "| | | | | | | |\n",
      "---------------\n"
     ]
    },
    {
     "data": {
      "text/plain": [
       "(3, 3)"
      ]
     },
     "metadata": {},
     "output_type": "display_data"
    },
    {
     "name": "stdout",
     "output_type": "stream",
     "text": [
      "1min 16s ± 0 ns per loop (mean ± std. dev. of 1 run, 1 loop each)\n"
     ]
    }
   ],
   "source": [
    "board = empty_board(shape =(6,7))\n",
    "pretty_board(board)\n",
    "%timeit -n1 -r1 display(alpha_beta_search_cutoff(board, cutoff=10, fp=1, player='x'))\n"
   ]
  },
  {
   "cell_type": "markdown",
   "metadata": {},
   "source": [
    "### Playtime\n",
    "\n",
    "Let two heuristic search agents (different cutoff depth, different heuristic evaluation function or different forward pruning) compete against each other on a reasonably sized board. Since there is no randomness, you only need to let them play once."
   ]
  },
  {
   "cell_type": "code",
   "execution_count": 64,
   "metadata": {},
   "outputs": [],
   "source": [
    "class ABAgent:\n",
    "    \"\"\"Class used to make agents easily\"\"\"\n",
    "    def __init__(self, H, cutoff=None, fp=None):\n",
    "        self.H = H\n",
    "        self.cutoff = cutoff\n",
    "        self.fp = fp\n",
    "        \n",
    "    def act(self, board, player):\n",
    "        v, move = alpha_beta_search_cutoff(board,\n",
    "                                           cutoff=self.cutoff,\n",
    "                                           fp=self.fp,\n",
    "                                           player=player,\n",
    "                                           H=self.H)\n",
    "        return move\n",
    "    \n",
    "    def __str__(self):\n",
    "        return f\"(AB Agent cutoff: {self.cutoff} forward Pruning: {self.fp})\"\n"
   ]
  },
  {
   "cell_type": "code",
   "execution_count": 151,
   "metadata": {},
   "outputs": [
    {
     "name": "stdout",
     "output_type": "stream",
     "text": [
      "x:(AB Agent cutoff: 10 forward Pruning: 10) o:(AB Agent cutoff: 5 forward Pruning: 10), x won\n",
      "Wall time: 11min 37s\n"
     ]
    }
   ],
   "source": [
    "%%time\n",
    "agent_10_10 = ABAgent(H=basic_heuristic, cutoff=10, fp=10)\n",
    "agent_5_10 = ABAgent(H=basic_heuristic, cutoff=5, fp=10)\n",
    "game_result = play_game(agent_10_10.act, agent_5_10.act)\n",
    "print(f\"x:{agent_10_10} o:{agent_5_10}, {game_result[0]} won\")\n"
   ]
  },
  {
   "cell_type": "code",
   "execution_count": 68,
   "metadata": {},
   "outputs": [
    {
     "name": "stdout",
     "output_type": "stream",
     "text": [
      "x:(AB Agent cutoff: 5 forward Pruning: 10) o:(AB Agent cutoff: 1 forward Pruning: 10), c won\n",
      "---------------\n",
      "|o|x|o|x|x|o|o|\n",
      "|x|o|o|x|o|x|x|\n",
      "|o|x|o|o|o|x|o|\n",
      "|x|o|x|x|o|o|x|\n",
      "|o|x|x|o|x|x|o|\n",
      "|x|o|o|x|x|o|x|\n",
      "---------------\n",
      "Wall time: 15.9 s\n"
     ]
    }
   ],
   "source": [
    "%%time\n",
    "agent_1_10 = ABAgent(H=basic_heuristic, cutoff=1, fp=10)\n",
    "agent_5_10 = ABAgent(H=basic_heuristic, cutoff=5, fp=10)\n",
    "DEBUG = 0\n",
    "game_result = play_game(agent_1_10.act, agent_5_10.act)\n",
    "print(f\"x:{agent_5_10} o:{agent_1_10}, {game_result[0]} won\")\n",
    "\n",
    "pretty_board(game_result[1])"
   ]
  },
  {
   "cell_type": "code",
   "execution_count": 139,
   "metadata": {},
   "outputs": [
    {
     "name": "stdout",
     "output_type": "stream",
     "text": [
      "x:(AB Agent cutoff: 5 forward Pruning: 10) o:(AB Agent cutoff: 1 forward Pruning: 10), x won\n",
      "---------------\n",
      "| | | |o|o| | |\n",
      "| | | |x|x| | |\n",
      "| | | |x|o| | |\n",
      "| | |x|x|x| | |\n",
      "| | |o|o|o|x| |\n",
      "|o| |x|x|o|o|x|\n",
      "---------------\n",
      "Wall time: 6.69 s\n"
     ]
    }
   ],
   "source": [
    "%%time\n",
    "DEBUG = 0\n",
    "game_result = play_game(agent_5_10.act, agent_1_10.act)\n",
    "print(f\"x:{agent_5_10} o:{agent_1_10}, {game_result[0]} won\")\n",
    "\n",
    "pretty_board(game_result[1])"
   ]
  },
  {
   "cell_type": "code",
   "execution_count": 150,
   "metadata": {},
   "outputs": [
    {
     "name": "stdout",
     "output_type": "stream",
     "text": [
      "x:(AB Agent cutoff: 5 forward Pruning: 10) o:(AB Agent cutoff: 10 forward Pruning: 10), o won\n",
      "Wall time: 30min 15s\n"
     ]
    }
   ],
   "source": [
    "%%time\n",
    "game_result = play_game(agent_5_10.act, agent_10_10.act)\n",
    "print(f\"x:{agent_5_10} o:{agent_10_10}, {game_result[0]} won\")"
   ]
  },
  {
   "cell_type": "code",
   "execution_count": 311,
   "metadata": {},
   "outputs": [
    {
     "name": "stdout",
     "output_type": "stream",
     "text": [
      "22min 25s ± 0 ns per loop (mean ± std. dev. of 1 run, 1 loop each)\n"
     ]
    }
   ],
   "source": [
    "%%time\n",
    "\n",
    "agent_10_2 = ABAgent(H=basic_heuristic, cutoff=10, fp=2)\n",
    "game_result = play_game(agent_10_10.act, agent_10_2.act)"
   ]
  },
  {
   "cell_type": "markdown",
   "metadata": {},
   "source": [
    "## Challenge task [+ 1 bonus point]\n",
    "\n",
    "Find another student and let your best agent play against the other student's best player. We will set up a class tournament on Canvas. This tournament will continue after the submission deadline.\n",
    "\n",
    "I am challenging Steven Larsen. "
   ]
  },
  {
   "cell_type": "code",
   "execution_count": 2,
   "metadata": {},
   "outputs": [],
   "source": [
    "import time\n",
    "def play_game_with_time(player_x, player_o, shape=(6,7)):\n",
    "    \n",
    "    global game_number, turn_number, DEBUG\n",
    "    players_turn = 'x'\n",
    "    time_x = 0.0\n",
    "    time_o = 0.0\n",
    "    \n",
    "    turn_number = 0\n",
    "    board = empty_board(shape)\n",
    "    while True:\n",
    "        col = -1\n",
    "        if players_turn == 'x':\n",
    "            start = time.time()\n",
    "            col = player_x(board, players_turn)\n",
    "            end = time.time()\n",
    "            time_x+=(end-start)\n",
    "        else:\n",
    "            start = time.time()\n",
    "            col = player_o(board, players_turn)\n",
    "            end = time.time()\n",
    "            time_o+=(end-start)\n",
    "        board = result(board=board, player=players_turn, action=col)\n",
    "        winner = terminal(board)\n",
    "        if winner == 'c':\n",
    "            return ('c', board, time_x, time_o)\n",
    "        elif winner != ' ':\n",
    "            return (players_turn, board, time_x, time_o)\n",
    "        \n",
    "        turn_number+=1\n",
    "        players_turn = flip_player(players_turn)\n",
    "    if verbose >= 1:\n",
    "        pretty_board(board)"
   ]
  },
  {
   "cell_type": "code",
   "execution_count": 7,
   "metadata": {},
   "outputs": [
    {
     "name": "stdout",
     "output_type": "stream",
     "text": [
      "x:15.644373178482056 o:26.382996320724487, x won\n"
     ]
    }
   ],
   "source": [
    "# This cell is stand alone ex\n",
    "\n",
    "import steven_agent as sa\n",
    "import mini_max_nick as mmn\n",
    "import sys  \n",
    "sys.path.insert(0, '.\\\\')\n",
    "\n",
    "stevens = sa.StevenAgent('o', 1000)\n",
    "agent_5_5 = mmn.ABAgent(cutoff = 5, fp = 5)\n",
    "game_result = play_game_with_time(agent_5_5.act, stevens.act)\n",
    "print(f\"x:{game_result[2]} o:{game_result[3]}, {game_result[0]} won\")\n"
   ]
  },
  {
   "cell_type": "code",
   "execution_count": 174,
   "metadata": {},
   "outputs": [
    {
     "name": "stdout",
     "output_type": "stream",
     "text": [
      "steven:24.442021369934082 nick:25.156413078308105, o won\n",
      "nick:9.312940120697021 steven:16.827030658721924, o won\n",
      "steven:21.629891633987427 nick:34.1540744304657, x won\n",
      "nick:8.599025011062622 steven:19.00697374343872, x won\n"
     ]
    }
   ],
   "source": [
    "game_result = play_game_with_time(stevens.act, agent_5_5.act)\n",
    "print(f\"steven:{game_result[2]} nick:{game_result[3]}, {game_result[0]} won\")\n",
    "game_result = play_game_with_time(agent_5_5.act, stevens.act)\n",
    "print(f\"nick:{game_result[2]} steven:{game_result[3]}, {game_result[0]} won\")\n",
    "game_result = play_game_with_time(stevens.act, agent_5_5.act)\n",
    "print(f\"steven:{game_result[2]} nick:{game_result[3]}, {game_result[0]} won\")\n",
    "game_result = play_game_with_time(agent_5_5.act, stevens.act)\n",
    "print(f\"nick:{game_result[2]} steven:{game_result[3]}, {game_result[0]} won\")"
   ]
  },
  {
   "cell_type": "code",
   "execution_count": 175,
   "metadata": {},
   "outputs": [
    {
     "name": "stdout",
     "output_type": "stream",
     "text": [
      "steven:94.90196323394775 nick:243.1410355567932, o won\n",
      "nick:55.04803013801575 steven:67.45196461677551, x won\n",
      "steven:88.15589928627014 nick:154.29910254478455, o won\n",
      "nick:135.60292863845825 steven:58.16800022125244, x won\n"
     ]
    }
   ],
   "source": [
    "# Try more powerful agents\n",
    "stevens = sa.StevenAgent('o', 4000) # the character was changed in his code to be ignored\n",
    "agent_7_5 = mmn.ABAgent(cutoff = 7, fp = 5)\n",
    "game_result = play_game_with_time(stevens.act, agent_7_5.act)\n",
    "print(f\"steven:{game_result[2]} nick:{game_result[3]}, {game_result[0]} won\")\n",
    "game_result = play_game_with_time(agent_7_5.act, stevens.act)\n",
    "print(f\"nick:{game_result[2]} steven:{game_result[3]}, {game_result[0]} won\")\n",
    "game_result = play_game_with_time(stevens.act, agent_7_5.act)\n",
    "print(f\"steven:{game_result[2]} nick:{game_result[3]}, {game_result[0]} won\")\n",
    "game_result = play_game_with_time(agent_7_5.act, stevens.act)\n",
    "print(f\"nick:{game_result[2]} steven:{game_result[3]}, {game_result[0]} won\")"
   ]
  },
  {
   "cell_type": "code",
   "execution_count": 176,
   "metadata": {},
   "outputs": [
    {
     "name": "stdout",
     "output_type": "stream",
     "text": [
      "steven:95.55282473564148 nick:196.7740912437439, o won\n",
      "nick:243.43890810012817 steven:106.86776638031006, o won\n",
      "steven:102.67270874977112 nick:202.91994380950928, o won\n",
      "nick:53.82269096374512 steven:89.35564875602722, o won\n",
      "steven:93.08422636985779 nick:180.92898154258728, o won\n",
      "nick:64.40093994140625 steven:101.32003331184387, x won\n"
     ]
    }
   ],
   "source": [
    "game_result = play_game_with_time(stevens.act, agent_7_5.act)\n",
    "print(f\"steven:{game_result[2]} nick:{game_result[3]}, {game_result[0]} won\")\n",
    "game_result = play_game_with_time(agent_7_5.act, stevens.act)\n",
    "print(f\"nick:{game_result[2]} steven:{game_result[3]}, {game_result[0]} won\")\n",
    "game_result = play_game_with_time(stevens.act, agent_7_5.act)\n",
    "print(f\"steven:{game_result[2]} nick:{game_result[3]}, {game_result[0]} won\")\n",
    "game_result = play_game_with_time(agent_7_5.act, stevens.act)\n",
    "print(f\"nick:{game_result[2]} steven:{game_result[3]}, {game_result[0]} won\")\n",
    "game_result = play_game_with_time(stevens.act, agent_7_5.act)\n",
    "print(f\"steven:{game_result[2]} nick:{game_result[3]}, {game_result[0]} won\")\n",
    "game_result = play_game_with_time(agent_7_5.act, stevens.act)\n",
    "print(f\"nick:{game_result[2]} steven:{game_result[3]}, {game_result[0]} won\")"
   ]
  },
  {
   "cell_type": "markdown",
   "metadata": {},
   "source": [
    "## Graduate student advanced task: Pure Monte Carlo Search and Best First Move [1 point]\n",
    "\n",
    "__Undergraduate students:__ This is a bonus task you can attempt if you like [+1 Bonus point].\n",
    "\n",
    "### Pure Monte Carlos Search\n",
    "\n",
    "Implement Pure Monte Carlo Search and investigate how this search performs on the test boards that you have used above. "
   ]
  },
  {
   "cell_type": "markdown",
   "metadata": {},
   "source": [
    "#### Playout playouts function"
   ]
  },
  {
   "cell_type": "code",
   "execution_count": 141,
   "metadata": {},
   "outputs": [
    {
     "name": "stdout",
     "output_type": "stream",
     "text": [
      "1\n",
      "-1\n",
      "1\n"
     ]
    }
   ],
   "source": [
    "def playout(board, action, player='x'):\n",
    "    board = result(board, player, action)\n",
    "    current_player = flip_player(player)\n",
    "    \n",
    "    while(True):\n",
    "        u = utility(board, player)\n",
    "        if u is not None: #if terminal return the utility\n",
    "            return(u)\n",
    "        \n",
    "        col = agent_random(board, current_player)\n",
    "        board = result(board, current_player, col)\n",
    "        \n",
    "        current_player = flip_player(current_player)\n",
    "\n",
    "board = empty_board()\n",
    "print(playout(board, 0))\n",
    "print(playout(board, 0))\n",
    "print(playout(board, 0))"
   ]
  },
  {
   "cell_type": "code",
   "execution_count": 142,
   "metadata": {},
   "outputs": [
    {
     "name": "stdout",
     "output_type": "stream",
     "text": [
      "--- first move 0 ---\n",
      "mean utility 0.03\n",
      "win prob 0.51\n",
      "lose prob 0.48\n",
      "--- first move 3 ---\n",
      "mean utility 0.34\n",
      "win prob 0.67\n",
      "lose prob 0.33\n"
     ]
    }
   ],
   "source": [
    "def playouts(board, action, player='x', N =100):\n",
    "    return [playout(board, action, player) for i in range(N)]\n",
    "\n",
    "board = empty_board()\n",
    "p = playouts(board, 0)\n",
    "print('--- first move 0 ---')\n",
    "print(f\"mean utility {np.mean(p)}\")\n",
    "print(f\"win prob {sum(np.array(p) == +1)/len(p)}\")\n",
    "print(f\"lose prob {sum(np.array(p) == -1)/len(p)}\")\n",
    "print('--- first move 3 ---')\n",
    "p = playouts(board, 3)\n",
    "print(f\"mean utility {np.mean(p)}\")\n",
    "print(f\"win prob {sum(np.array(p) == +1)/len(p)}\")\n",
    "print(f\"lose prob {sum(np.array(p) == -1)/len(p)}\")"
   ]
  },
  {
   "cell_type": "code",
   "execution_count": 143,
   "metadata": {},
   "outputs": [
    {
     "name": "stdout",
     "output_type": "stream",
     "text": [
      "---------------\n",
      "| | | | | | | |\n",
      "| | | | | | | |\n",
      "| | | | | | | |\n",
      "| | | | | | | |\n",
      "| | | | | | | |\n",
      "| | | | | | | |\n",
      "---------------\n",
      "1000 playouts on empty board gets you:\n",
      "2\n",
      "10 playouts on empty board gets you:\n",
      "0\n"
     ]
    }
   ],
   "source": [
    "def pure_monte_carlo_search(board, N=100, player='x'):\n",
    "    \n",
    "    global DEBUG\n",
    "    \n",
    "    action_options = actions(board)\n",
    "    # find how many playouts each actions gets, force it to be at least 1\n",
    "    n = max(1, N//len(action_options))\n",
    "    if DEBUG >= 2:\n",
    "        print(f\"Actions: {action_options} ({n} playouts per actions)\")\n",
    "    \n",
    "    # create a dictionary of the actions and their playout average value\n",
    "    play_outcomes = {i:np.mean(playouts(board, i, player, N=n)) for i in action_options}\n",
    "    \n",
    "    if DEBUG >= 2:\n",
    "        display(play_outcomes)\n",
    "    \n",
    "    action = max(play_outcomes, key=play_outcomes.get)\n",
    "    return action\n",
    "\n",
    "board = empty_board()\n",
    "pretty_board(board)\n",
    "DEBUG = 1\n",
    "print(\"1000 playouts on empty board gets you:\")\n",
    "print(pure_monte_carlo_search(board, N=1000))\n",
    "print(\"10 playouts on empty board gets you:\")\n",
    "print(pure_monte_carlo_search(board, N=10))\n",
    "\n",
    "    "
   ]
  },
  {
   "cell_type": "markdown",
   "metadata": {},
   "source": [
    "#### Monte Carlo Agents"
   ]
  },
  {
   "cell_type": "code",
   "execution_count": 144,
   "metadata": {},
   "outputs": [
    {
     "name": "stderr",
     "output_type": "stream",
     "text": [
      "GameNumber:101"
     ]
    },
    {
     "name": "stdout",
     "output_type": "stream",
     "text": [
      "1000(x) won: 100 100(o) won 0 tie  0\n"
     ]
    }
   ],
   "source": [
    "def pmcs_1000(board, player):\n",
    "    action = pure_monte_carlo_search(board, N=1000, player=player)\n",
    "    return action\n",
    "\n",
    "def pmcs_100(board, player):\n",
    "    action = pure_monte_carlo_search(board, N=100, player=player)\n",
    "    return action\n",
    "\n",
    "winnings = play_games(100, pmcs_1000, pmcs_100, (6,7))\n",
    "print('1000(x) won:', winnings[0], '100(o) won', winnings[1], 'tie ', winnings[2])"
   ]
  },
  {
   "cell_type": "markdown",
   "metadata": {},
   "source": [
    "### Best First Move\n",
    "\n",
    "How would you determine what the best first move is? You can use Pure Monte Carlo Search or any algorithms \n",
    "that you have implemented above."
   ]
  },
  {
   "cell_type": "code",
   "execution_count": 145,
   "metadata": {},
   "outputs": [
    {
     "name": "stdout",
     "output_type": "stream",
     "text": [
      "--- first move 0 ---\n",
      "mean utility -0.003\n",
      "win prob 0.497\n",
      "lose prob 0.5\n",
      "--- first move 1 ---\n",
      "mean utility 0.065\n",
      "win prob 0.531\n",
      "lose prob 0.466\n",
      "--- first move 2 ---\n",
      "mean utility 0.2\n",
      "win prob 0.599\n",
      "lose prob 0.399\n",
      "--- first move 3 ---\n",
      "mean utility 0.255\n",
      "win prob 0.626\n",
      "lose prob 0.371\n",
      "--- first move 4 ---\n",
      "mean utility 0.145\n",
      "win prob 0.57\n",
      "lose prob 0.425\n",
      "--- first move 5 ---\n",
      "mean utility 0.074\n",
      "win prob 0.535\n",
      "lose prob 0.461\n",
      "--- first move 6 ---\n",
      "mean utility -0.021\n",
      "win prob 0.488\n",
      "lose prob 0.509\n"
     ]
    }
   ],
   "source": [
    "for i in range(7):\n",
    "    board = empty_board()\n",
    "    p = playouts(board, i, N=1000)\n",
    "    print(f\"--- first move {i} ---\")\n",
    "    print(f\"mean utility {np.mean(p)}\")\n",
    "    print(f\"win prob {sum(np.array(p) == +1)/len(p)}\")\n",
    "    print(f\"lose prob {sum(np.array(p) == -1)/len(p)}\")\n",
    "    "
   ]
  },
  {
   "cell_type": "markdown",
   "metadata": {},
   "source": [
    "Here we use the playouts to determine how much each starting move wins if the rest of the moves are random across 1000 games. We see that moving at column 3, in the very middle does the best with a winning percentage of 64.4%"
   ]
  },
  {
   "cell_type": "markdown",
   "metadata": {},
   "source": [
    "#### Lets look at what happens when we play a monte carlo agent against our best "
   ]
  },
  {
   "cell_type": "code",
   "execution_count": 169,
   "metadata": {
    "scrolled": true
   },
   "outputs": [
    {
     "name": "stdout",
     "output_type": "stream",
     "text": [
      "x:agent_10_2 took 1143.007229089737 o:pmcs_100 took 1.5600457191467285, x won\n",
      "---------------\n",
      "| | | | | | | |\n",
      "| | | | | | | |\n",
      "| |o|o|x| | | |\n",
      "| |x|x|o| | | |\n",
      "| |o|x|x|x|x| |\n",
      "|o|o|o|x|o|x| |\n",
      "---------------\n",
      "Wall time: 19min 4s\n"
     ]
    }
   ],
   "source": [
    "%%time\n",
    "\n",
    "DEBUG = 0\n",
    "agent_10_2 = ABAgent(H=basic_heuristic, cutoff=10, fp=2)\n",
    "game_result = play_game_with_time(agent_10_2.act, pmcs_100)\n",
    "print(f\"x:agent_10_2 took {game_result[2]} o:pmcs_100 took {game_result[3]}, {game_result[0]} won\")\n",
    "pretty_board(game_result[1])"
   ]
  },
  {
   "cell_type": "code",
   "execution_count": 170,
   "metadata": {},
   "outputs": [
    {
     "name": "stdout",
     "output_type": "stream",
     "text": [
      "x:pmcs_100 took 1.2409982681274414 o:agent_10_2 took 1029.1525993347168, o won\n",
      "---------------\n",
      "| | | | | | | |\n",
      "| | | | | | | |\n",
      "| | | | |o| | |\n",
      "| | | |x|o| | |\n",
      "|x| |x|o|o| | |\n",
      "|x|x|o|x|o| | |\n",
      "---------------\n",
      "Wall time: 17min 10s\n"
     ]
    }
   ],
   "source": [
    "%%time\n",
    "DEBUG = 0\n",
    "game_result = play_game_with_time(pmcs_100, agent_10_2.act)\n",
    "print(f\"x:pmcs_100 took {game_result[2]} o:agent_10_2 took {game_result[3]}, {game_result[0]} won\")\n",
    "pretty_board(game_result[1])"
   ]
  },
  {
   "cell_type": "code",
   "execution_count": 171,
   "metadata": {},
   "outputs": [
    {
     "name": "stdout",
     "output_type": "stream",
     "text": [
      "x:agent_10_2 took 490.829060792923 o:pmcs_1000 took 20.24896550178528, o won\n",
      "---------------\n",
      "| | | |x|x| | |\n",
      "| | |x|o|x| | |\n",
      "| |x|o|x|o| | |\n",
      "| |o|o|o|x| | |\n",
      "|o|o|x|x|x| | |\n",
      "|o|o|o|x|o| |x|\n",
      "---------------\n",
      "Wall time: 8min 31s\n"
     ]
    }
   ],
   "source": [
    "%%time\n",
    "DEBUG = 0\n",
    "game_result = play_game_with_time(agent_10_2.act, pmcs_1000)\n",
    "print(f\"x:agent_10_2 took {game_result[2]} o:pmcs_1000 took {game_result[3]}, {game_result[0]} won\")\n",
    "pretty_board(game_result[1])"
   ]
  },
  {
   "cell_type": "code",
   "execution_count": 172,
   "metadata": {},
   "outputs": [
    {
     "name": "stdout",
     "output_type": "stream",
     "text": [
      "x:pmcs_100 took 16.141958236694336 o:agent_10_2 took 144.44307470321655, x won\n",
      "---------------\n",
      "| | | | | | | |\n",
      "| | | |o| | | |\n",
      "| | | |o| |x| |\n",
      "| | | |x|o|o| |\n",
      "| | |x|x|x|x| |\n",
      "|o| |x|x|o|o| |\n",
      "---------------\n",
      "Wall time: 2min 40s\n"
     ]
    }
   ],
   "source": [
    "%%time\n",
    "DEBUG = 0\n",
    "game_result = play_game_with_time(pmcs_1000, agent_10_2.act)\n",
    "print(f\"x:pmcs_100 took {game_result[2]} o:agent_10_2 took {game_result[3]}, {game_result[0]} won\")\n",
    "pretty_board(game_result[1])"
   ]
  },
  {
   "cell_type": "code",
   "execution_count": null,
   "metadata": {},
   "outputs": [],
   "source": [
    " "
   ]
  }
 ],
 "metadata": {
  "kernelspec": {
   "display_name": "Python 3",
   "language": "python",
   "name": "python3"
  },
  "language_info": {
   "codemirror_mode": {
    "name": "ipython",
    "version": 3
   },
   "file_extension": ".py",
   "mimetype": "text/x-python",
   "name": "python",
   "nbconvert_exporter": "python",
   "pygments_lexer": "ipython3",
   "version": "3.7.10"
  }
 },
 "nbformat": 4,
 "nbformat_minor": 4
}
