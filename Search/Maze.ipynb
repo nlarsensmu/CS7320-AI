{
 "cells": [
  {
   "cell_type": "markdown",
   "metadata": {},
   "source": [
    "# Search: Solving a Maze Using a Goal-based Agent\n",
    "\n",
    "\n",
    "## Instructions\n",
    "\n",
    "Total Points: Undegraduates 10, graduate students 11\n",
    "\n",
    "Complete this notebook and submit it. The notebook needs to be a complete project report with \n",
    "\n",
    "* your implementation,\n",
    "* documentation including a short discussion of how your implementation works and your design choices, and\n",
    "* experimental results (e.g., tables and charts with simulation results) with a short discussion of what they mean. \n",
    "\n",
    "Use the provided notebook cells and insert additional code and markdown cells as needed.\n",
    "\n",
    "\n",
    "## Introduction\n",
    "\n",
    "The agent has a map of the maze it is in (i.e., the environment is deterministic, discrete, and known). The agent must use the map to plan a path through the maze from the starting location $S$ to the goal location $G$.  \n",
    "\n",
    "This is a planing exercise for a goal-based agent, so you do not need to implement an environment, just use the map to search for a path. Once the plan is made, the agent can just follow the path and does not need percepts. The execution phase is trivial and we do not implement it in this exercise.\n",
    "\n",
    "Tree search algorithm implementations that you find online and used in general algorithms courses have often a different aim. These algorithms assume that you already have a tree and the goal is to traverse all nodes. We are interested in dynamically creating a search tree with the aim of finding a good/the best path to the goal state. Follow the pseudo code presented in the text book closely. Ideally, we would like to search only a small part of the maze, i.e., create a search tree with as few nodes as possible. \n",
    "\n",
    "Here is the small example maze:"
   ]
  },
  {
   "cell_type": "code",
   "execution_count": 1,
   "metadata": {},
   "outputs": [
    {
     "name": "stdout",
     "output_type": "stream",
     "text": [
      "XXXXXXXXXXXXXXXXXXXXXX\n",
      "X XX        X X      X\n",
      "X    XXXXXX X XXXXXX X\n",
      "XXXXXX     S  X      X\n",
      "X    X XXXXXX XX XXXXX\n",
      "X XXXX X         X   X\n",
      "X        XXX XXX   X X\n",
      "XXXXXXXXXX    XXXXXX X\n",
      "XG         XX        X\n",
      "XXXXXXXXXXXXXXXXXXXXXX\n",
      "\n"
     ]
    }
   ],
   "source": [
    "f = open(\"small_maze.txt\", \"r\")\n",
    "maze_str = f.read()\n",
    "print(maze_str)"
   ]
  },
  {
   "cell_type": "markdown",
   "metadata": {},
   "source": [
    "__Note:__ The mazes above contains cycles and therefore search may not form proper trees unless cycles are prevented. You need to deal with cycle detection in your code."
   ]
  },
  {
   "cell_type": "markdown",
   "metadata": {},
   "source": [
    "## Parsing and pretty printing the maze\n",
    "\n",
    "The maze can also be displayed in color using code in the file [maze_helper.py](maze_helper.py). The code parses the string representing the maze and converts it into a `numpy` 2d array which you can use in your implementation."
   ]
  },
  {
   "cell_type": "code",
   "execution_count": 68,
   "metadata": {
    "scrolled": true
   },
   "outputs": [
    {
     "name": "stdout",
     "output_type": "stream",
     "text": [
      "Position(0,0): X\n",
      "Position(8,1): G\n",
      "XXXXXXXXXXXXXXXXXXXXXX\n",
      "X XX        X X      X\n",
      "X    XXXXXX X XXXXXX X\n",
      "XXXXXX     S  X      X\n",
      "X    X XXXXXX XX XXXXX\n",
      "X XXXX X         X   X\n",
      "X        XXX XXX   X X\n",
      "XXXXXXXXXX    XXXXXX X\n",
      "XG         XX        X\n",
      "XXXXXXXXXXXXXXXXXXXXXX\n",
      "\n",
      "10 22\n"
     ]
    }
   ],
   "source": [
    "%run maze_helper.py\n",
    "\n",
    "maze = parse_maze(maze_str)\n",
    "\n",
    "# look at two positions in the maze\n",
    "print(\"Position(0,0):\", maze[0, 0])\n",
    "\n",
    "# there is also a helper function called `look(maze, pos)`\n",
    "print(\"Position(8,1):\", look(maze, (8, 1)))\n",
    "print(maze_str)\n",
    "print(len(maze), len(maze[0]))"
   ]
  },
  {
   "cell_type": "markdown",
   "metadata": {},
   "source": [
    "Visualize the maze"
   ]
  },
  {
   "cell_type": "code",
   "execution_count": 69,
   "metadata": {},
   "outputs": [
    {
     "data": {
      "image/png": "[encoded data removed]",
      "text/plain": [
       "<Figure size 432x288 with 1 Axes>"
      ]
     },
     "metadata": {
      "image/png": {
       "height": 183,
       "width": 362
      },
      "needs_background": "light"
     },
     "output_type": "display_data"
    }
   ],
   "source": [
    "%matplotlib inline\n",
    "%config InlineBackend.figure_format = 'retina'\n",
    "\n",
    "show_maze(maze)"
   ]
  },
  {
   "cell_type": "markdown",
   "metadata": {},
   "source": [
    "Find the position of the start and the goal using the helper function `find_pos()`"
   ]
  },
  {
   "cell_type": "code",
   "execution_count": 4,
   "metadata": {},
   "outputs": [
    {
     "name": "stdout",
     "output_type": "stream",
     "text": [
      "Start location: (3, 11)\n",
      "Goal location: (8, 1)\n"
     ]
    }
   ],
   "source": [
    "print(\"Start location:\", find_pos(maze, what = \"S\"))\n",
    "print(\"Goal location:\", find_pos(maze, what = \"G\"))"
   ]
  },
  {
   "cell_type": "markdown",
   "metadata": {},
   "source": [
    "## Tree structure\n",
    "\n",
    "Implementation of the basic node structure for the search algorithms (see Fig 3.7 on page 73):"
   ]
  },
  {
   "cell_type": "code",
   "execution_count": 5,
   "metadata": {},
   "outputs": [],
   "source": [
    "class Node:\n",
    "    def __init__(self, pos, parent, action, cost):\n",
    "        self.pos = tuple(pos)    # the state; positions are (row,col)\n",
    "        self.parent = parent     # reference to parent node. None means root node.\n",
    "        self.action = action     # action used in the transition function (root node has None)\n",
    "        self.cost = cost         # for uniform cost this is the depth. It is also g(n) for A* search\n",
    "\n",
    "    def __str__(self):\n",
    "        return f\"Node - pos = {self.pos}; parent = {repr(self.parent)}; action = {self.action}; cost = {self.cost}\""
   ]
  },
  {
   "cell_type": "markdown",
   "metadata": {},
   "source": [
    "Example: Create the root node and append the node for going east with a cost of 1."
   ]
  },
  {
   "cell_type": "code",
   "execution_count": 6,
   "metadata": {},
   "outputs": [
    {
     "name": "stdout",
     "output_type": "stream",
     "text": [
      "Create root node\n",
      "root: Node - pos = (0, 0); parent = None; action = None; cost = 0\n",
      "root (reference): <__main__.Node object at 0x000001A9245A4888>\n",
      "\n",
      "Go east with cost 1 (from the parent root)\n",
      "node2: Node - pos = (0, 1); parent = <__main__.Node object at 0x000001A9245A4888>; action = E; cost = 1\n",
      "parent of node2:  Node - pos = (0, 0); parent = None; action = None; cost = 0\n",
      "parent of node2 (reference):  <__main__.Node object at 0x000001A9245A4888>\n",
      "\n",
      "Note that the root note is safe from garbage collection as long as we have a reference in node2\n",
      "None\n",
      "parent of node2 (reference):  <__main__.Node object at 0x000001A9245A4888>\n",
      "\n",
      "Once we release node2, the whole tree is deleted.\n"
     ]
    }
   ],
   "source": [
    "print(\"Create root node\")\n",
    "root = Node(pos = (0,0), parent = None, action = None, cost = 0)\n",
    "print(\"root:\", root)\n",
    "print(\"root (reference):\", repr(root))\n",
    "\n",
    "print()\n",
    "print(\"Go east with cost 1 (from the parent root)\")\n",
    "node2 = Node(pos = (0,1), parent = root, action = \"E\", cost = 1)\n",
    "print(\"node2:\", node2)\n",
    "print(\"parent of node2: \", node2.parent)\n",
    "print(\"parent of node2 (reference): \", repr(node2.parent))\n",
    "\n",
    "print()\n",
    "print(\"Note that the root note is safe from garbage collection as long as we have a reference in node2\") \n",
    "root = None\n",
    "print(root)\n",
    "print(\"parent of node2 (reference): \", repr(node2.parent))\n",
    "\n",
    "print()\n",
    "print(\"Once we release node2, the whole tree is deleted.\")\n",
    "node2 = None"
   ]
  },
  {
   "cell_type": "markdown",
   "metadata": {},
   "source": [
    "# Goal\n",
    "Implement the following search algorithms for solving different mazes:\n",
    "\n",
    "* Breadth-first search (BFS)\n",
    "* Depth-first search (DFS)\n",
    "* Iterative deepening search (IDS)\n",
    "* Greedy best-first search (GBFS)\n",
    "* A* search\n",
    "\n",
    "Run each of the above algorithms on the \n",
    "[small maze](small_maze.txt), \n",
    "[medium maze](medium_maze.txt), \n",
    "[large maze](large_maze.txt), \n",
    "[open maze](open_maze.txt),\n",
    "[wall maze](wall_maze.txt),\n",
    "[loops maze](loops_maze.txt),\n",
    "[empty maze](empty_maze.txt), and\n",
    "[empty 2_maze](empty_2_maze.txt).\n",
    "For each problem instance and each search algorithm, report the following in a table:\n",
    "\n",
    "* The solution and its path cost\n",
    "* Number of nodes expanded\n",
    "* Maximum tree depth searched\n",
    "* Maximum size of the frontier.\n",
    "\n",
    "Display each solution by marking every maze square (or state) visited and the squares on the final path."
   ]
  },
  {
   "cell_type": "markdown",
   "metadata": {},
   "source": [
    "## Task 1: Defining the search Problem [1 point]\n",
    "\n",
    "Define the components of the search problem:\n",
    "\n",
    "* **Initial state**: the square in the maze that contains an S\n",
    "* **Actions**: \n",
    " * West: col - 1\n",
    " * East: col + 1\n",
    " * Norht: row - 1\n",
    " * South: row + 1\n",
    "* **Transition model**: Perform the operation corresponding to the action aboce\n",
    "* **Goal state**: The square with S in it\n",
    "* **Path cost**: Each square costs 1 to move to"
   ]
  },
  {
   "cell_type": "markdown",
   "metadata": {},
   "source": [
    "<div style=\"background-color:rgba(0, 0, 0, 0.0470588); padding:10px 0;font-family:monospace;\">\n",
    "function BFS(problem) returns a solution<br>\n",
    "&nbsp;&nbsp;node := NODE(problem, initial)<br>\n",
    "&nbsp;&nbsp;if problem.isGoal(node.state) then reutrn node<br>\n",
    "&nbsp;&nbsp;frontier := a (general) queue, with a node as an element<br>\n",
    "&nbsp;&nbsp;reached := problem.initial<br>\n",
    "&nbsp;&nbsp;while not isEmpty(frontier):<br>\n",
    "&nbsp;&nbsp;&nbsp;&nbsp; node := pop(frontier)<br>\n",
    "&nbsp;&nbsp;&nbsp;&nbsp; for each child in expand(problem, node) do<br>\n",
    "&nbsp;&nbsp;&nbsp;&nbsp;&nbsp;&nbsp; s := child.state<br>\n",
    "&nbsp;&nbsp;&nbsp;&nbsp;&nbsp;&nbsp; if problem.isGoal(s) then return child<br>\n",
    "&nbsp;&nbsp;&nbsp;&nbsp;&nbsp;&nbsp; if s is not in reached then:<br>\n",
    "&nbsp;&nbsp;&nbsp;&nbsp;&nbsp;&nbsp;&nbsp;&nbsp; add s to reached<br>\n",
    "&nbsp;&nbsp;&nbsp;&nbsp;&nbsp;&nbsp;&nbsp;&nbsp; add child to frontier<br>\n",
    "&nbsp;&nbsp; return failure<br>\n",
    "<br>\n",
    "<br>\n",
    "function Expand(problem, node) yields nodes:<br>\n",
    "&nbsp;&nbsp;s := node.state<br>\n",
    "&nbsp;&nbsp;for each action in problem.Actions(s) do:<br>\n",
    "&nbsp;&nbsp;&nbsp;&nbsp;s' := problem.result(s, action)<br>\n",
    "&nbsp;&nbsp;&nbsp;&nbsp;cost := node.path - cost + problem.actionCost(s, action.s')<br>\n",
    "&nbsp;&nbsp;&nbsp;&nbsp;Node(state=s', parent-node, action = action, pathCost=cost)<br>\n",
    "</div>"
   ]
  },
  {
   "cell_type": "markdown",
   "metadata": {},
   "source": [
    "## Task 2: Breadth-first and Depth-first [4 points]\n",
    "\n",
    "Implement these search strategies. Note that the algorithms for BFS and DFS are very different! Make sure that DFS uses less memory by releasing nodes that are not needed anymore. "
   ]
  },
  {
   "cell_type": "code",
   "execution_count": 182,
   "metadata": {},
   "outputs": [],
   "source": [
    "# Your code goes here\n",
    "# Expand will return a list of nodes that we can go to from the current node\n",
    "#class Node:\n",
    "#    def __init__(self, pos, parent, action, cost):\n",
    "\n",
    "from collections import deque\n",
    "\n",
    "def expand(node, maze):\n",
    "    options = []\n",
    "    h = len(maze)\n",
    "    w = len(maze[1])\n",
    "    can_go_north = node.pos[0] - 1 >= 0 and maze[node.pos[0] - 1, node.pos[1]] != 'X'\n",
    "    can_go_south = node.pos[0] + 1 < h and maze[node.pos[0] + 1, node.pos[1]] != 'X'\n",
    "    can_go_east = node.pos[1] + 1 < w and maze[node.pos[0], node.pos[1]+1] != 'X'\n",
    "    can_go_west = node.pos[1] -1 >= 0 and maze[node.pos[0], node.pos[1]-1] != 'X'\n",
    "    if can_go_north:\n",
    "        new_node = Node((node.pos[0] - 1, node.pos[1]), node, 'N', node.cost+1)\n",
    "        options.append(new_node)\n",
    "    if can_go_south:\n",
    "        new_node = Node((node.pos[0] + 1, node.pos[1]), node, 'S', node.cost+1)\n",
    "        options.append(new_node)\n",
    "    if can_go_east:\n",
    "        new_node = Node((node.pos[0], node.pos[1] + 1), node, 'E', node.cost+1)\n",
    "        options.append(new_node)\n",
    "    if can_go_west:\n",
    "        new_node = Node((node.pos[0], node.pos[1] - 1), node, 'W', node.cost+1)\n",
    "        options.append(new_node)\n",
    "    \n",
    "    return options\n",
    "\n",
    "def get_path(node):\n",
    "    if node.parent is None:\n",
    "        return ''\n",
    "    return print_path(node.parent) + ' ' + node.action\n",
    "    \n",
    "    \n",
    "    \n",
    "def generic_best_first_search(maze, node, search_type = 'breadth'):\n",
    "    # stats for performance mesure\n",
    "    nodes_expanded = 1\n",
    "    max_tree_depth = 1\n",
    "    max_tree_size = 1\n",
    "    max_frontier_size = 1\n",
    "    if maze[node.pos[0], node.pos[1]] == 'G':\n",
    "        return node\n",
    "    frontier = deque() # LIFO or FIFO depending on Breadth or Depth\n",
    "    frontier.append(node)\n",
    "    reached = {} # set of visited nodes. For efficency this needs to be a hash set\n",
    "    while not len(frontier) == 0:\n",
    "        next_node = None\n",
    "        if search_type == 'depth':\n",
    "            next_node = frontier.pop()\n",
    "        else:\n",
    "            next_node = frontier.popleft()\n",
    "        if maze[next_node.pos[0]][next_node.pos[1]] == 'G':\n",
    "            return (next_node,\n",
    "                    nodes_expanded,\n",
    "                    max_tree_depth,\n",
    "                    max_tree_size,\n",
    "                    max_frontier_size)\n",
    "        \n",
    "        nodes_expanded += 1\n",
    "        childs = expand(next_node, maze)\n",
    "        had_child = False\n",
    "        for child in childs:\n",
    "            if child.pos not in reached or child.cost < reached[child.pos].cost:\n",
    "                if child.pos not in reached:\n",
    "                    max_tree_size += 1\n",
    "                had_child = True\n",
    "                reached[child.pos] = child\n",
    "                frontier.append(child)\n",
    "                max_frontier_size = max(len(frontier), max_frontier_size)\n",
    "                max_tree_depth = max(max_tree_depth, child.cost)\n",
    "        if not had_child:\n",
    "            max_tree_size -= 1\n",
    "            next_node = None\n",
    "    return None\n",
    "    \n",
    "    "
   ]
  },
  {
   "cell_type": "code",
   "execution_count": 183,
   "metadata": {},
   "outputs": [
    {
     "data": {
      "image/png": "[encoded data removed]",
      "text/plain": [
       "<Figure size 432x288 with 1 Axes>"
      ]
     },
     "metadata": {
      "image/png": {
       "height": 249,
       "width": 251
      },
      "needs_background": "light"
     },
     "output_type": "display_data"
    },
    {
     "name": "stdout",
     "output_type": "stream",
     "text": [
      "breadth first search path\n",
      "Nodes Expanded: 622,  Max Tree Depth: 210,  Max Tree Size: 532,  Max Frontier Size: 8\n",
      " N N W W W W N N W W S S W W W W W W W W W W W W W W N N E E N N W W N N N N N N E E E E E E S S E E N N E E E E N N E E S S E E N N N N N N E E E E N N N N N N N N N N W W S S W W W W S S S S S S W W S S S S W W N N W W W W W W W W W W W W N N E E N N N N N N E E E E E E N N N N N N N N W W W W W W S S W W W W S S S S E E S S W W W W W W W W W W S S S S S S S S S S E E S S S S W W S S S S E E S S W W S S S S W W S S\n",
      "breadth first search path\n",
      "Nodes Expanded: 392,  Max Tree Depth: 222,  Max Tree Size: 388,  Max Frontier Size: 38\n",
      "depth first search path\n",
      " N N W W W W N N W W S S W W W W W W W W W W W W W W N N E E N N W W N N N N N N E E E E E E S S E E N N E E E E N N E E S S E E N N N N N N E E E E N N N N N N N N N N W W S S W W W W S S S S S S W W S S S S W W N N W W W W W W W W W W W W N N E E N N N N N N E E E E E E N N N N N N N N W W W W W W S S W W W W S S S S E E S S W W W W W W W W W W S S S S S S S S S S E E S S S S W W S S S S E E S S W W S S S S W W S S\n"
     ]
    }
   ],
   "source": [
    "# Run fit on some mazes to test\n",
    "f = open(\"large_maze.txt\", \"r\")\n",
    "maze_str = f.read()\n",
    "\n",
    "maze = parse_maze(maze_str)\n",
    "\n",
    "show_maze(maze)\n",
    "find_pos(maze, what= 'S')\n",
    "#print(\"Start location:\", find_pos(maze, what = \"S\"))\n",
    "initial_node = Node(find_pos(maze, what= 'S'), None, None, 0)\n",
    "output = generic_best_first_search(maze, initial_node, search_type = 'breadth')\n",
    "node = output[0]\n",
    "print('breadth first search path')\n",
    "print(f'Nodes Expanded: {output[1]}, ',\n",
    "      f'Max Tree Depth: {output[2]}, ',\n",
    "      f'Max Tree Size: {output[3]}, ',\n",
    "      f'Max Frontier Size: {output[4]}')\n",
    "print(get_path(node))\n",
    "\n",
    "initial_node = Node(find_pos(maze, what= 'S'), None, None, 0)\n",
    "output = generic_best_first_search(maze, initial_node, search_type = 'depth')\n",
    "node = output[0]\n",
    "print('breadth first search path')\n",
    "print(f'Nodes Expanded: {output[1]}, ',\n",
    "      f'Max Tree Depth: {output[2]}, ',\n",
    "      f'Max Tree Size: {output[3]}, ',\n",
    "      f'Max Frontier Size: {output[4]}')\n",
    "print('depth first search path')\n",
    "print(get_path(node))\n",
    "\n"
   ]
  },
  {
   "cell_type": "markdown",
   "metadata": {},
   "source": [
    "**How do you deal with loops (cycles)?**"
   ]
  },
  {
   "cell_type": "markdown",
   "metadata": {},
   "source": [
    "To deal with cycles, I kept a dictionary of reached states. Since a state is a position the dictionary maps position to a number, that represents the cost to get there. If another path gets to that state at a cheaper cost, it will replace that in the dictionary. "
   ]
  },
  {
   "cell_type": "markdown",
   "metadata": {},
   "source": [
    "**Are your implementations complete and optimal? Explain why. What is the time and space complexity of each of **your** implementations?**"
   ]
  },
  {
   "cell_type": "markdown",
   "metadata": {},
   "source": [
    "Breadth-First-Search\n",
    "* Complete: If there is a solution this implementation of Breadth-Frist-Search will find it.\n",
    "* Optimal: Since the algorithm will go level by level, it garentees that it will find the path that costs the least\n",
    "\n",
    "Depth-First-Search\n",
    "* Complete: If there is a solution this implentation of Depth-First-Search will find it. \n",
    "* Optimal: Since it will expand each path until failure, it will return the first solution it finds, and the example above even shows an example that does not return the optimal solution\n"
   ]
  },
  {
   "cell_type": "markdown",
   "metadata": {},
   "source": [
    "## Task 3: Implement greedy best-first search and A* search  [4 points]\n",
    "\n",
    "You can use the map to estimate the distance from your current position to the goal using the Manhattan distance (see https://en.wikipedia.org/wiki/Taxicab_geometry) as a heuristic function."
   ]
  },
  {
   "cell_type": "code",
   "execution_count": 11,
   "metadata": {},
   "outputs": [],
   "source": [
    "# Your code goes here"
   ]
  },
  {
   "cell_type": "markdown",
   "metadata": {},
   "source": [
    "Are your implementations complete and optimal? What is the time and space complexity?"
   ]
  },
  {
   "cell_type": "code",
   "execution_count": 12,
   "metadata": {},
   "outputs": [],
   "source": [
    "# Discussion"
   ]
  },
  {
   "cell_type": "markdown",
   "metadata": {},
   "source": [
    "## Task 4: Comparison and discussion [2 points] \n",
    "\n",
    "Run experiments to compare the implemented algorithms and present the results as tables and charts."
   ]
  },
  {
   "cell_type": "code",
   "execution_count": 13,
   "metadata": {},
   "outputs": [],
   "source": [
    "# Add code, table, charts."
   ]
  },
  {
   "cell_type": "markdown",
   "metadata": {},
   "source": [
    "Complete the following table for each maze.\n",
    "\n",
    "__Small maze__\n",
    "\n",
    "| algorithm | path cost | nodes expanded | max tree depth | max tree size | max frontier size |\n",
    "|-----------|-----------|----------------|----------------|---------------|-------------------|\n",
    "| BFS       |           |                |                |               |                   |\n",
    "| DFS       |           |                |                |               |                   |\n",
    "| GBS       |           |                |                |               |                   |\n",
    "| A*        |           |                |                |               |                   |\n",
    "\n",
    "__Medium Maze__\n",
    "\n",
    "..."
   ]
  },
  {
   "cell_type": "markdown",
   "metadata": {},
   "source": [
    "Discuss the most important lessons you have learned from implementing the different search strategies. "
   ]
  },
  {
   "cell_type": "code",
   "execution_count": 14,
   "metadata": {},
   "outputs": [],
   "source": [
    "# Add discussion"
   ]
  },
  {
   "cell_type": "markdown",
   "metadata": {},
   "source": [
    "## Graduate student advanced task: Multiple Goals [1 point]\n",
    "\n",
    "__Undergraduate students:__ This is a bonus task you can attempt if you like [+1 Bonus point].\n",
    "\n",
    "Create a few mazes with multiple goals by adding a one or two more goals to the medium sizes maze.\n",
    "Solve the maze with your implementations for DFS, BFS, and implement IDS (iterative deepening search using DFS). Run experiments to show which implementations find the optimal solution."
   ]
  },
  {
   "cell_type": "code",
   "execution_count": 15,
   "metadata": {},
   "outputs": [],
   "source": [
    "# Your code/answer goes here"
   ]
  },
  {
   "cell_type": "markdown",
   "metadata": {},
   "source": [
    "## More advanced tasks to think about\n",
    "\n",
    "Instead of defining each square as a state (which you probably did), use only intersections as states. Now the storage requirement is reduced, but the path length between two intersections can be different. If we use total path length in number of squares as path cost, how can we make sure that BFS and iterative deepening search is optimal? Change the code to do so."
   ]
  },
  {
   "cell_type": "code",
   "execution_count": 16,
   "metadata": {},
   "outputs": [],
   "source": [
    "# Your code/answer goes here"
   ]
  },
  {
   "cell_type": "markdown",
   "metadata": {},
   "source": [
    "Modify your A* search to add weights (see text book) and explore how different weights influence the result."
   ]
  },
  {
   "cell_type": "code",
   "execution_count": 17,
   "metadata": {},
   "outputs": [],
   "source": [
    "# Your code/answer goes here"
   ]
  },
  {
   "cell_type": "markdown",
   "metadata": {},
   "source": [
    "What happens if the agent does not know the layout of the maze in advance (i.e., faces an unkown, only partially observable environment)? How does the environment look then (PEAS description)? How would you implement a rational agent to solve the maze? What if the agent still has a GPS device to tell the distance to the goal?"
   ]
  },
  {
   "cell_type": "code",
   "execution_count": 18,
   "metadata": {},
   "outputs": [],
   "source": [
    "# Your code/answer goes here"
   ]
  }
 ],
 "metadata": {
  "kernelspec": {
   "display_name": "Python 3",
   "language": "python",
   "name": "python3"
  },
  "language_info": {
   "codemirror_mode": {
    "name": "ipython",
    "version": 3
   },
   "file_extension": ".py",
   "mimetype": "text/x-python",
   "name": "python",
   "nbconvert_exporter": "python",
   "pygments_lexer": "ipython3",
   "version": "3.7.9"
  }
 },
 "nbformat": 4,
 "nbformat_minor": 4
}
